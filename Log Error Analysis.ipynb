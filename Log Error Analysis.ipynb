{
 "cells": [
  {
   "cell_type": "code",
   "execution_count": 1,
   "metadata": {
    "collapsed": false
   },
   "outputs": [
    {
     "name": "stdout",
     "output_type": "stream",
     "text": [
      "found 2 log files:  ['PONDF1OC_INJPOND_0.log.1', 'PONDF1OC_INJPOND_0.log.1.lck']\n"
     ]
    }
   ],
   "source": [
    "import re, os\n",
    "from logerror import TestError\n",
    "\n",
    "root_folder = \"/mnt/hgfs/projlogs/SFW/sops1/SOPS/Performance Test - Performance_Test1\"\n",
    "root_folder = \"/mnt/hgfs/projlogs/SFW/hq1/Performance Test - Performance_Test1\"\n",
    "# MILL, POND, OPP1, OPP2, FOX\n",
    "root_folder = \"/mnt/hgfs/projlogs/PSU/OPP1\"\n",
    "\n",
    "test_folder = root_folder #+ '/' + location\n",
    "files = [ f for f in os.listdir(test_folder) if os.path.isfile(os.path.join(test_folder,f)) and f.find('.log.1')>0 ]\n",
    "\n",
    "# print('for ', location, 'found log files: ', files)\n",
    "print('found', len(files), 'log files: ', files)"
   ]
  },
  {
   "cell_type": "code",
   "execution_count": 2,
   "metadata": {
    "collapsed": false
   },
   "outputs": [
    {
     "name": "stdout",
     "output_type": "stream",
     "text": [
      "processing file:  /mnt/hgfs/projlogs/PSU/POND/PONDF1OC_INJPOND_0.log.1\n",
      "severe count: 38648\n"
     ]
    }
   ],
   "source": [
    "\n",
    "if len(files):\n",
    "    FNAME = files[0]\n",
    "else:\n",
    "    FNAME = \"LocalInjectorCOBAPPSTS03_0.log.1\"\n",
    "    \n",
    "print('processing file: ', test_folder + '/' + FNAME)\n",
    "\n",
    "with open(test_folder + '/' + FNAME,'r') as f:\n",
    "    alllog = f.read()\n",
    "\n",
    "errorlog = re.findall(r'(?<=\\n).+?\\[SEVERE\\].+?id \\d+?,[\\w\\s]+?\\):.+?(?=\\n)', alllog)\n",
    "print('severe count:', len(errorlog))"
   ]
  },
  {
   "cell_type": "code",
   "execution_count": 3,
   "metadata": {
    "collapsed": false
   },
   "outputs": [
    {
     "name": "stdout",
     "output_type": "stream",
     "text": [
      "errors: 38648\n"
     ]
    }
   ],
   "source": [
    "errors = []\n",
    "vusers = {}\n",
    "for err in errorlog:\n",
    "    time = err[:20]\n",
    "    usr = re.search(r'user.(\\d+?),.cycle', err)\n",
    "    user = usr.group(1)\n",
    "    user = str(user).rjust(4,'0')\n",
    "    cyc = re.search(r'cycle.(\\d+?),.step', err)\n",
    "    cycle = cyc.group(1)\n",
    "    stp = re.search(r'step\\s+?(.+?),\\s+?id', err)\n",
    "    step = stp.group(1)\n",
    "    errtype = re.search(r'status.(.+?)\\)', err)\n",
    "    error_type = errtype.group(1)\n",
    "    message = err[err.find('):'):]\n",
    "    new_record = TestError(time, user, cycle, step, error_type, message, test_folder)\n",
    "    errors.append(new_record)\n",
    "    if user in vusers.keys():\n",
    "        vusers[user].append(new_record)\n",
    "    else:\n",
    "        vusers[user] = [new_record]\n",
    "\n",
    "print('errors:', len(errors))\n"
   ]
  },
  {
   "cell_type": "code",
   "execution_count": 4,
   "metadata": {
    "collapsed": false
   },
   "outputs": [
    {
     "name": "stdout",
     "output_type": "stream",
     "text": [
      ">> user, i, e.time, e.cycleid, e.errortype, etype, \n",
      "erroring users 20\n",
      "\n",
      "user 0000 err count: 2\n",
      "~~ 1-1\n",
      "\n",
      "user 0001 err count: 2\n",
      "~~ 5-5\n",
      "\n",
      "user 0002 err count: 3\n",
      "~~ 2-3\n",
      "\n",
      "user 0003 err count: 3\n",
      "~~ 0-1\n",
      "\n",
      "user 0004 err count: 30\n",
      "~~ 2-2;3-4;8-33\n",
      "\n",
      "user 0005 err count: 2\n",
      "~~ 2-2\n",
      "\n",
      "user 0007 err count: 1\n",
      "\n",
      "user 0009 err count: 44\n",
      "~~ 18-60\n",
      "\n",
      "user 0011 err count: 279\n",
      "~~ 4-281\n",
      "\n",
      "user 0012 err count: 1\n",
      "\n",
      "user 0013 err count: 4805\n",
      "~~ 6-6;7-4809\n",
      "\n",
      "user 0015 err count: 1\n",
      "\n",
      "user 0016 err count: 11825\n",
      "~~ 5-11828\n",
      "\n",
      "user 0018 err count: 10548\n",
      "~~ 1-2;8-8;18-10561\n",
      "\n",
      "user 0019 err count: 10906\n",
      "~~ 0-10904\n",
      "\n",
      "user 0020 err count: 16\n",
      "~~ 0-1;4-5;14-14;17-22;23-24;26-27\n",
      "\n",
      "user 0021 err count: 170\n",
      "~~ 3-3;7-7;9-9;11-176\n",
      "\n",
      "user 0022 err count: 3\n",
      "~~ 1-1;1-1\n",
      "\n",
      "user 0024 err count: 6\n",
      "~~ 29-29;32-33;35-35;55-55\n",
      "\n",
      "user 0025 err count: 1\n",
      "\n",
      "88888888888888888888888888888888888888888888888888888888888888888888888888888888\n",
      "e.time, user, e.cycleid, e.errortype, e.cause\n",
      "30/01/2018 10:33:21  ; 0000 ; 1 ; Incorrect Response             ; Incorrect Response ; 2 ; \n",
      "30/01/2018 10:59:45  ; 0001 ; 5 ; Incorrect Response             ; Incorrect Response ; 2 ; \n",
      "30/01/2018 11:01:59  ; 0002 ; 2 ; Incorrect Response             ; Incorrect Response ; 3 ; \n",
      "30/01/2018 11:02:49  ; 0003 ; 0 ; Incorrect Response             ; Incorrect Response ; 3 ; \n",
      "30/01/2018 10:38:37  ; 0004 ; 2 ; Incorrect Response             ; Incorrect Response ; 30 ; \n",
      "30/01/2018 10:50:17  ; 0005 ; 2 ; Incorrect Response             ; Incorrect Response ; 2 ; \n",
      "30/01/2018 11:16:59  ; 0007 ; 2 ; Incorrect Response             ; Incorrect Response ; 1 ; \n",
      "30/01/2018 11:28:44  ; 0009 ; 18 ; Success Validation Failure     ; kicked out ; 44 ; \n",
      "30/01/2018 11:15:36  ; 0011 ; 4 ; Success Validation Failure     ; kicked out ; 279 ; \n",
      "30/01/2018 10:58:41  ; 0012 ; 7 ; Incorrect Response             ; Incorrect Response ; 1 ; \n",
      "30/01/2018 11:06:50  ; 0013 ; 6 ; Incorrect Response             ; Incorrect Response ; 4805 ; \n",
      "30/01/2018 11:08:40  ; 0015 ; 1 ; Success Validation Failure     ; Critical Message ; 1 ; BMXAA4407E - A nested exception caused the workflow process to fail.\tBMXAA8229W - Record WORKORDER :  Site=UP-OPP Work Order=G304645 has been updated by another user. Your changes have not been saved. Refresh the record and try again. More information\n",
      "30/01/2018 10:45:12  ; 0016 ; 5 ; Incorrect Response             ; Incorrect Response ; 11825 ; \n",
      "30/01/2018 10:30:48  ; 0018 ; 1 ; Success Validation Failure     ; Critical Message ; 10548 ; BMXAA3403E - Could not change PR 111140 status to APPREB.\tBMXAA0032E - The status that you selected is the same as the current status. Select a different status. More information\n",
      "30/01/2018 10:51:26  ; 0019 ; 0 ; Incorrect Response             ; Incorrect Response ; 10906 ; \n",
      "30/01/2018 10:29:54  ; 0020 ; 0 ; Success Validation Failure     ; filter zero match ; 16 ; \n",
      "30/01/2018 10:59:05  ; 0021 ; 3 ; Success Validation Failure     ; Critical Message ; 170 ; BMXAA4129E - The record for Purchase Order=252729 already exists. This validation error is thrown when an attempt is made to insert a new record with a unique key value that already exists in the database. Ensure that the key value for the given record is unique. More information\n",
      "30/01/2018 10:33:18  ; 0022 ; 1 ; Incorrect Response             ; Incorrect Response ; 3 ; \n",
      "30/01/2018 10:52:41  ; 0024 ; 29 ; Incorrect Response             ; Incorrect Response ; 6 ; \n",
      "30/01/2018 11:10:24  ; 0025 ; 16 ; Incorrect Response             ; Incorrect Response ; 1 ; \n",
      "count of erroring users: 20\n",
      "cause Incorrect Response has count 14\n",
      "cause kicked out has count 2\n",
      "cause Critical Message has count 3\n",
      "cause filter zero match has count 1\n"
     ]
    }
   ],
   "source": [
    "sorted_keys = sorted(vusers.keys())\n",
    "print(\">> user, i, e.time, e.cycleid, e.errortype, etype, \")\n",
    "print('erroring users', len(sorted_keys))\n",
    "for user in sorted_keys:\n",
    "    print('\\nuser ' + user + ' err count:', len(vusers[user]))\n",
    "    prior_cyc_index = -1\n",
    "    consecutive_count = 0\n",
    "    consecutivness = ''\n",
    "    for i in range(len(vusers[user])-1,-1,-1):\n",
    "        e = vusers[user][i]\n",
    "        try:\n",
    "            etype = e.validation\n",
    "        except AttributeError:\n",
    "            try:\n",
    "                etype = e.dditem\n",
    "            except AttributeError:\n",
    "                etype = '!!!!!!!!!!!!!!!!!!!!!!!!!!!!!!'\n",
    "\n",
    "        # print('pre: cyc', e.cycleid, ' prior', prior_cyc_index, ' consecutive_count', consecutive_count, 'consecutivness', consecutivness )\n",
    "        # determine consecutivness\n",
    "        if prior_cyc_index == -1:\n",
    "            prior_cyc_index = int(e.cycleid)\n",
    "        else:\n",
    "            if prior_cyc_index - int(e.cycleid) <= 1 and i != 0:\n",
    "                consecutive_count += 1\n",
    "                prior_cyc_index = int(e.cycleid)\n",
    "            else:\n",
    "                consecutivness = ';' + str(e.cycleid) + '-' + str(int(e.cycleid) + consecutive_count) + consecutivness\n",
    "                consecutive_count = 0\n",
    "                prior_cyc_index = int(e.cycleid)\n",
    "        cause = e.determine_casuse()\n",
    "    if len(consecutivness):\n",
    "        print('~~', consecutivness[1:])\n",
    "\n",
    "print(end='\\n')\n",
    "print('8'*80)\n",
    "print(\"e.time, user, e.cycleid, e.errortype, e.cause, usr err count\")\n",
    "causes = {}\n",
    "\n",
    "\n",
    "\n",
    "for user in sorted_keys:\n",
    "    e = vusers[user][0]\n",
    "    print(e.time, user, e.cycleid, e.errortype.ljust(30), e.cause, len(vusers[user]), sep=' ; ', end=' ; ')\n",
    "    if e.cause in ['Warning Message', 'Critical Message', 'Question Message', 'dynamic response']:\n",
    "        print(e.cause_message, sep=' ; ')\n",
    "    else:\n",
    "        print()\n",
    "    if e.cause in causes.keys():\n",
    "        causes[e.cause] += 1\n",
    "    else:\n",
    "        causes[e.cause] = 1\n",
    "\n",
    "print('count of erroring users:', len(sorted_keys))\n",
    "for k,v in causes.items():\n",
    "    print('cause', k, 'has count', v)\n"
   ]
  },
  {
   "cell_type": "code",
   "execution_count": null,
   "metadata": {
    "collapsed": true
   },
   "outputs": [],
   "source": []
  }
 ],
 "metadata": {
  "anaconda-cloud": {},
  "celltoolbar": "Raw Cell Format",
  "kernelspec": {
   "display_name": "Python 3",
   "language": "python",
   "name": "python3"
  },
  "language_info": {
   "codemirror_mode": {
    "name": "ipython",
    "version": 3
   },
   "file_extension": ".py",
   "mimetype": "text/x-python",
   "name": "python",
   "nbconvert_exporter": "python",
   "pygments_lexer": "ipython3",
   "version": "3.6.3"
  }
 },
 "nbformat": 4,
 "nbformat_minor": 0
}
