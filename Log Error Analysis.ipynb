{
 "cells": [
  {
   "cell_type": "code",
   "execution_count": 1,
   "metadata": {
    "collapsed": false
   },
   "outputs": [
    {
     "name": "stdout",
     "output_type": "stream",
     "text": [
      "found 1 log files:  ['SOPS2UA5101XHD_0.log.1']\n"
     ]
    }
   ],
   "source": [
    "import re, os\n",
    "from logerror import TestError\n",
    "\n",
    "root_folder = \"/mnt/hgfs/projlogs/SFW/sops1/SOPS/Performance Test - Performance_Test1\"\n",
    "root_folder = \"/mnt/hgfs/projlogs/SFW/hq1/Performance Test - Performance_Test1\"\n",
    "\n",
    "test_folder = root_folder #+ '/' + location\n",
    "files = [ f for f in os.listdir(test_folder) if os.path.isfile(os.path.join(test_folder,f)) and f.find('.log.1')>0 ]\n",
    "\n",
    "# print('for ', location, 'found log files: ', files)\n",
    "print('found', len(files), 'log files: ', files)"
   ]
  },
  {
   "cell_type": "code",
   "execution_count": 2,
   "metadata": {
    "collapsed": false
   },
   "outputs": [
    {
     "name": "stdout",
     "output_type": "stream",
     "text": [
      "processing file:  /mnt/hgfs/projlogs/SFW/sops1/SOPS/Performance Test - Performance_Test1/SOPS2UA5101XHD_0.log.1\n",
      "severe count: 6938\n"
     ]
    }
   ],
   "source": [
    "\n",
    "if len(files):\n",
    "    FNAME = files[0]\n",
    "else:\n",
    "    FNAME = \"LocalInjectorCOBAPPSTS03_0.log.1\"\n",
    "    \n",
    "print('processing file: ', test_folder + '/' + FNAME)\n",
    "\n",
    "with open(test_folder + '/' + FNAME,'r') as f:\n",
    "    alllog = f.read()\n",
    "\n",
    "errorlog = re.findall(r'(?<=\\n).+?\\[SEVERE\\].+?id \\d+?,[\\w\\s]+?\\):.+?(?=\\n)', alllog)\n",
    "print('severe count:', len(errorlog))"
   ]
  },
  {
   "cell_type": "code",
   "execution_count": 3,
   "metadata": {
    "collapsed": false
   },
   "outputs": [
    {
     "name": "stdout",
     "output_type": "stream",
     "text": [
      "errors: 6938\n"
     ]
    }
   ],
   "source": [
    "errors = []\n",
    "vusers = {}\n",
    "for err in errorlog:\n",
    "    time = err[:20]\n",
    "    usr = re.search(r'user.(\\d+?),.cycle', err)\n",
    "    user = usr.group(1)\n",
    "    user = str(user).rjust(4,'0')\n",
    "    cyc = re.search(r'cycle.(\\d+?),.step', err)\n",
    "    cycle = cyc.group(1)\n",
    "    stp = re.search(r'step\\s+?(.+?),\\s+?id', err)\n",
    "    step = stp.group(1)\n",
    "    errtype = re.search(r'status.(.+?)\\)', err)\n",
    "    error_type = errtype.group(1)\n",
    "    message = err[err.find('):'):]\n",
    "    new_record = TestError(time, user, cycle, step, error_type, message, test_folder)\n",
    "    errors.append(new_record)\n",
    "    if user in vusers.keys():\n",
    "        vusers[user].append(new_record)\n",
    "    else:\n",
    "        vusers[user] = [new_record]\n",
    "\n",
    "print('errors:', len(errors))\n"
   ]
  },
  {
   "cell_type": "code",
   "execution_count": 4,
   "metadata": {
    "collapsed": false
   },
   "outputs": [
    {
     "name": "stdout",
     "output_type": "stream",
     "text": [
      ">> user, i, e.time, e.cycleid, e.errortype, etype, \n",
      "erroring users 13\n",
      "\n",
      "user 0000 err count: 1586\n",
      "~~ 0-0;34-1617\n",
      "\n",
      "user 0001 err count: 1568\n",
      "~~ 0-0;18-18;21-21;28-28;176-1738\n",
      "\n",
      "user 0002 err count: 1571\n",
      "~~ 0-0;22-22;30-30;163-1729\n",
      "\n",
      "user 0006 err count: 1\n",
      "\n",
      "user 0007 err count: 2\n",
      "~~ 76-76\n",
      "\n",
      "user 0008 err count: 342\n",
      "~~ 0-0;41-41;43-43;165-165;167-168;173-173;178-179;181-181;183-192;194-514\n",
      "\n",
      "user 0009 err count: 337\n",
      "~~ 0-0;46-46;88-88;126-126;136-136;150-150;169-170;178-179;183-187;190-510\n",
      "\n",
      "user 0010 err count: 221\n",
      "~~ 0-219\n",
      "\n",
      "user 0011 err count: 223\n",
      "~~ 145-366\n",
      "\n",
      "user 0012 err count: 137\n",
      "~~ 19-20;23-26;28-30;32-32;34-35;38-39;47-48;51-52;56-56;58-58;61-63;65-66;69-69;72-72;74-74;76-76;79-80;83-84;86-87;90-92;94-191\n",
      "\n",
      "user 0013 err count: 142\n",
      "~~ 12-12;18-18;20-30;32-33;35-36;38-38;45-45;47-47;52-52;56-56;58-58;61-61;63-63;68-68;71-71;74-74;76-78;82-87;89-93;95-193\n",
      "\n",
      "user 0014 err count: 434\n",
      "~~ 0-82;82-97;99-106;108-185;187-218;220-236;238-244;246-247;249-355;357-381;383-440\n",
      "\n",
      "user 0015 err count: 374\n",
      "~~ 0-1;2-10;12-40;42-47;49-49;51-69;71-90;93-101;103-108;110-118;120-156;158-176;178-196;199-224;226-229;231-234;238-240;242-244;246-257;259-262;265-271;273-275;278-280;282-282;284-287;289-295;297-299;301-302;304-304;306-335;337-345;348-351;356-361;364-365;367-367;369-384;386-388;390-403;405-420\n",
      "\n",
      "88888888888888888888888888888888888888888888888888888888888888888888888888888888\n",
      "e.time, user, e.cycleid, e.errortype, e.cause\n",
      "29/01/2018 01:46:31  ; 0000 ; 0 ; 500                            ; 500 ; 1586 ; \n",
      "29/01/2018 01:46:31  ; 0001 ; 0 ; 500                            ; 500 ; 1568 ; \n",
      "29/01/2018 01:46:32  ; 0002 ; 0 ; 500                            ; 500 ; 1571 ; \n",
      "29/01/2018 02:59:17  ; 0006 ; 23 ; Response DD Extraction Failure ; Response DD Extraction Failure ; 1 ; \n",
      "29/01/2018 06:08:35  ; 0007 ; 76 ; Success Validation Failure     ; Long Op ; 2 ; \n",
      "29/01/2018 01:46:38  ; 0008 ; 0 ; 500                            ; 500 ; 342 ; \n",
      "29/01/2018 01:46:29  ; 0009 ; 0 ; 500                            ; 500 ; 337 ; \n",
      "29/01/2018 01:44:20  ; 0010 ; 0 ; Success Validation Failure     ; Long Op ; 221 ; \n",
      "29/01/2018 05:05:01  ; 0011 ; 145 ; Success Validation Failure     ; Critical Message ; 223 ; BMXAA7837E - An error occured that prevented the GISCREATEUPDATESRWOPOINTSA script for the GISCREATEUPDATESRWOPOINTWO_OLP launch point from running.\tpsdi.util.MXApplicationException: psdi.util.MXApplicationException: BMXAA7837E - An error occured that prevented the GISCREATEUPDATESRWOPOINT script for the GISCREATEUPDSRWPT_OLP launch point from running.\tjava.lang.Exception: java.lang.Exception: Unable to copy Maximo attributes to GIS feature.Traceback &#040;most recent call last&#041;:  File: &quot;&lt;script&gt;&quot;, line 1102, in &lt;module&gt;MXSystemException: BMXAA4211E - Database error number 1000 has occurred when operating on WOPOINT :  Objectid=1,038,290. Report the error to the owner of the deployment. in &lt;script&gt; at line number 1105 in &lt;script&gt; at line number 50\n",
      "29/01/2018 02:51:13  ; 0012 ; 19 ; icon, id 3231, status Success Validation Failure ; icon, id 3231, status Success Validation Failure ; 137 ; \n",
      "29/01/2018 02:29:26  ; 0013 ; 12 ; icon, id 3231, status Success Validation Failure ; icon, id 3231, status Success Validation Failure ; 142 ; \n",
      "29/01/2018 01:45:14  ; 0014 ; 0 ; Success Validation Failure     ; Critical Message ; 434 ; BMXAA0254E - The communication log cannot be created.\tBMXAA0024E - The action ADD is not allowed on object COMMLOG. Verify the business rules for the object and define the appropriate action for the object.\n",
      "29/01/2018 01:44:15  ; 0015 ; 0 ; Success Validation Failure     ; Critical Message ; 374 ; BMXAA0254E - The communication log cannot be created.\tBMXAA0024E - The action ADD is not allowed on object COMMLOG. Verify the business rules for the object and define the appropriate action for the object.\n",
      "count of erroring users: 13\n",
      "cause 500 has count 5\n",
      "cause Response DD Extraction Failure has count 1\n",
      "cause Long Op has count 2\n",
      "cause Critical Message has count 3\n",
      "cause icon, id 3231, status Success Validation Failure has count 2\n"
     ]
    }
   ],
   "source": [
    "sorted_keys = sorted(vusers.keys())\n",
    "print(\">> user, i, e.time, e.cycleid, e.errortype, etype, \")\n",
    "print('erroring users', len(sorted_keys))\n",
    "for user in sorted_keys:\n",
    "    print('\\nuser ' + user + ' err count:', len(vusers[user]))\n",
    "    prior_cyc_index = -1\n",
    "    consecutive_count = 0\n",
    "    consecutivness = ''\n",
    "    for i in range(len(vusers[user])-1,-1,-1):\n",
    "        e = vusers[user][i]\n",
    "        try:\n",
    "            etype = e.validation\n",
    "        except AttributeError:\n",
    "            try:\n",
    "                etype = e.dditem\n",
    "            except AttributeError:\n",
    "                etype = '!!!!!!!!!!!!!!!!!!!!!!!!!!!!!!'\n",
    "\n",
    "        # print('pre: cyc', e.cycleid, ' prior', prior_cyc_index, ' consecutive_count', consecutive_count, 'consecutivness', consecutivness )\n",
    "        # determine consecutivness\n",
    "        if prior_cyc_index == -1:\n",
    "            prior_cyc_index = int(e.cycleid)\n",
    "        else:\n",
    "            if prior_cyc_index - int(e.cycleid) <= 1 and i != 0:\n",
    "                consecutive_count += 1\n",
    "                prior_cyc_index = int(e.cycleid)\n",
    "            else:\n",
    "                consecutivness = ';' + str(e.cycleid) + '-' + str(int(e.cycleid) + consecutive_count) + consecutivness\n",
    "                consecutive_count = 0\n",
    "                prior_cyc_index = int(e.cycleid)\n",
    "        cause = e.determine_casuse()\n",
    "    if len(consecutivness):\n",
    "        print('~~', consecutivness[1:])\n",
    "\n",
    "print(end='\\n')\n",
    "print('8'*80)\n",
    "print(\"e.time, user, e.cycleid, e.errortype, e.cause\")\n",
    "causes = {}\n",
    "\n",
    "\n",
    "\n",
    "for user in sorted_keys:\n",
    "    e = vusers[user][0]\n",
    "    print(e.time, user, e.cycleid, e.errortype.ljust(30), e.cause, len(vusers[user]), sep=' ; ', end=' ; ')\n",
    "    if e.cause in ['Warning Message', 'Critical Message', 'Question Message', 'dynamic response']:\n",
    "        print(e.cause_message, sep=' ; ')\n",
    "    else:\n",
    "        print()\n",
    "    if e.cause in causes.keys():\n",
    "        causes[e.cause] += 1\n",
    "    else:\n",
    "        causes[e.cause] = 1\n",
    "\n",
    "print('count of erroring users:', len(sorted_keys))\n",
    "for k,v in causes.items():\n",
    "    print('cause', k, 'has count', v)\n"
   ]
  },
  {
   "cell_type": "code",
   "execution_count": null,
   "metadata": {
    "collapsed": true
   },
   "outputs": [],
   "source": []
  }
 ],
 "metadata": {
  "anaconda-cloud": {},
  "celltoolbar": "Raw Cell Format",
  "kernelspec": {
   "display_name": "Python 3",
   "language": "python",
   "name": "python3"
  },
  "language_info": {
   "codemirror_mode": {
    "name": "ipython",
    "version": 3
   },
   "file_extension": ".py",
   "mimetype": "text/x-python",
   "name": "python",
   "nbconvert_exporter": "python",
   "pygments_lexer": "ipython3",
   "version": "3.6.3"
  }
 },
 "nbformat": 4,
 "nbformat_minor": 0
}
