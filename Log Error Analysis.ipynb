{
 "cells": [
  {
   "cell_type": "code",
   "execution_count": 1,
   "metadata": {
    "collapsed": true
   },
   "outputs": [],
   "source": [
    "import re, os\n",
    "from datetime import datetime\n",
    "import shutil\n",
    "import pickle\n",
    "from collections import OrderedDict\n",
    "import pandas as pd\n",
    "import numpy as np\n",
    "import matplotlib.pyplot as plt\n",
    "import matplotlib.dates as mdates\n",
    "import seaborn as sns\n",
    "from IPython.display import display\n",
    "\n",
    "ROOT_FOLDER = \"/mnt/hgfs/projlogs/SFW/sops1/SOPS/Performance Test - Performance_Test1\"\n",
    "ROOT_FOLDER = \"/mnt/hgfs/projlogs/SFW/hq1/Performance Test - Performance_Test1\"\n",
    "# MILL, POND, OPP1, OPP2, FOX\n",
    "# SOPS, HQ1, BAYVIEW, FIELD1\n",
    "# Bristol720, JouleHouse, Birchwood, Leicester\n",
    "# fox, mill, pond, opp1, opp2\n",
    "ROOT_FOLDER = \"/mnt/hgfs/projlogs/Integral/Maximo_13_mar/Leicester\"\n",
    "MSG_SHORT_LEN = 20 #characters"
   ]
  },
  {
   "cell_type": "code",
   "execution_count": 2,
   "metadata": {
    "collapsed": true
   },
   "outputs": [],
   "source": [
    "# pd.set_option('display.mpl_style', 'default')\n",
    "pd.set_option('plotting.matplotlib.register_converters', 'default')\n",
    "%matplotlib inline\n",
    "plt.style.use('ggplot')\n",
    "sns.set_color_codes(\"pastel\")"
   ]
  },
  {
   "cell_type": "code",
   "execution_count": 3,
   "metadata": {
    "collapsed": false
   },
   "outputs": [],
   "source": [
    "class TestError():\n",
    "\n",
    "    def __init__(self, timestamp, userid, cycleid, uj, stepid, errortype, message, test_folder):\n",
    "        self.time = pd.to_datetime(timestamp, infer_datetime_format=True) \n",
    "        self.userid = userid\n",
    "        self.cycleid = cycleid\n",
    "        self.stepid = stepid\n",
    "        self.errortype = errortype\n",
    "        self.message = message\n",
    "        self.test_folder = test_folder\n",
    "        self.uj = uj\n",
    "        \n",
    "        self.cause = ''\n",
    "        self.cause_message = ''\n",
    "        \n",
    "        if errortype == 'Success Validation Failure':\n",
    "            sv = re.search(r'failed sub validations: (.+?)\\) for step \".+?\" was not found in the response. The response received has been written to \"(.+?)\"', message)\n",
    "            self.validation = sv.group(1)\n",
    "            self.file = sv.group(2)\n",
    "            # name_parts = self.file.split('__')\n",
    "            # self.uj = name_parts[0]\n",
    "        else:\n",
    "            self.validation = None\n",
    "            self.file = None\n",
    "\n",
    "        if errortype == 'Response DD Extraction Failure':\n",
    "            ddisrc = re.search(r'Error reading value for response DD item (.+?) used in step (.+?)', message)\n",
    "            self.dditem = ddisrc.group(1)\n",
    "            # !!! the line below currently gives wrong value due to BUG in the ST logs.\n",
    "            # self.ddi_source = ddisrc.group(2)\n",
    "        else:\n",
    "            self.dditem = None\n",
    "    \n",
    "    def show(self, shorten=True):\n",
    "        if shorten:\n",
    "            message = self.cause_message[:MSG_SHORT_LEN] + (len(self.cause_message)>MSG_SHORT_LEN)*'...'\n",
    "        if self.dditem:\n",
    "            message = self.dditem\n",
    "        return OrderedDict([('time', self.time),\n",
    "                ('user', self.userid),\n",
    "#                 ('total errors', 0),\n",
    "                ('uj', self.uj),\n",
    "                ('step', self.stepid),\n",
    "                ('cycle', self.cycleid),\n",
    "                ('error type', self.errortype),\n",
    "                ('error cause', self.cause),\n",
    "                ('cause message/ddi', self.cause_message),\n",
    "               ])\n",
    "    \n",
    "    def set_snapshot_details(self):\n",
    "        pass\n",
    "        \n",
    "    def _read_error_file(self):\n",
    "        if self.errortype == 'Success Validation Failure':\n",
    "            try:\n",
    "                # for QR, log files are directly in the log folder for the run\n",
    "                with open(os.path.join(self.test_folder, self.file), 'rt') as f:\n",
    "                    html = f.read()\n",
    "            except FileNotFoundError:\n",
    "                # for non-QR, log files are in subfolders named after virtual user ids\n",
    "                with open(os.path.join(self.test_folder, 'user'+self.userid , self.file), 'rt') as f:\n",
    "                    html = f.read()\n",
    "\n",
    "        return html\n",
    "    \n",
    "    def _set_cause(self, cause, message):\n",
    "        self.cause = cause\n",
    "        self.cause_message = message\n",
    "        \n",
    "    def determine_casuse(self):\n",
    "        if self.errortype == 'Success Validation Failure':\n",
    "            html = self._read_error_file()\n",
    "            if html.count('<label for=\"username\">User Name:</label>')>0:\n",
    "                self._set_cause('logged off', '')\n",
    "                return None\n",
    "\n",
    "            kick_match = re.search(r'redirect><\\!\\[CDATA\\[https*://.+?/maximo/webclient/login/logout.jsp.*?\\]\\]></redirect>', html)\n",
    "            if kick_match is not None:\n",
    "                self._set_cause('Maximo forcefully signed out the user', '')\n",
    "                return None\n",
    "\n",
    "            if html.count('title=\"Please wait...\">Please wait...</label>')>0:\n",
    "                self._set_cause('Long Op', '')\n",
    "                return None\n",
    "            \n",
    "            if html.count(\"addLongOpTimeout('dolongopquerycheck()',\")>0:\n",
    "                self._set_cause('Long Op', '')\n",
    "                return None\n",
    "\n",
    "            if html.count('MessageWarning.png')>0:\n",
    "                msg = html[html.find('MessageWarning.png'):]\n",
    "                msg = '<' + msg[:msg.find('</table>')]\n",
    "                msg = re.sub(r'<[^>]*?>', '', msg)\n",
    "                msg = msg.replace('\\n','').strip()\n",
    "                self._set_cause('Warning Message', msg)\n",
    "                return None\n",
    "\n",
    "            if html.count('st_MessageQuestion.png')>0:\n",
    "                msg = html[html.find('st_MessageQuestion.png'):]\n",
    "                msg = '<' + msg[:msg.find('</table>')]\n",
    "                msg = re.sub(r'<[^>]*?>', '', msg)\n",
    "                msg = msg.replace('\\n','').strip()\n",
    "                self._set_cause('Question Message', msg)\n",
    "                return None\n",
    "            \n",
    "            if html.count('st_MessageCritical.png')>0:\n",
    "                msg = html[html.find('st_MessageCritical.png'):]\n",
    "                msg = '<' + msg[:msg.find('</table>')]\n",
    "                msg = msg[:msg.find('</component>')]                \n",
    "                msg = re.sub(r'<[^>]*?>', '', msg)\n",
    "                msg = msg.replace('\\n','').strip()\n",
    "                self._set_cause('Critical Message', msg)\n",
    "                return None\n",
    "\n",
    "            if html.count('>0 - 0 of 0')>0:\n",
    "                self._set_cause('operation resulted in a table with zero rows', 'searchterm: ' + self.validation)\n",
    "                return None\n",
    "\n",
    "            break_index = html.find('---------------Response-----------------')\n",
    "            html_request_only = html[:break_index]\n",
    "            html_response_only = html[break_index + 40:]\n",
    "            if html_response_only.count(self.validation)>0:\n",
    "                self._set_cause('validation bug', 'searchterm: ' + self.validation)\n",
    "                return None\n",
    "\n",
    "            ###  --- COB specific errors ---\n",
    "            if  html_response_only.count('\"id\":\"0_APPRSS_OPTION\",\"text\":\"APPRSS\"') and not html_response_only.count('Approved'):\n",
    "                self._set_cause('missing \"Approved\" option', '')\n",
    "                return None\n",
    "\n",
    "            if html_request_only.count('targetId%22%3A%22mx387') and html_response_only.count('title=\"1 - 2 of 2\">1 - 2'):\n",
    "                self._set_cause('dynamic response', 'missing reference of WO field, thus cant validate')\n",
    "                return None\n",
    "\n",
    "            if html_request_only.count('<command>ISWM-RECORDFAILUREREPORT</command>'):\n",
    "                self._set_cause('response lacks confirmation of recordid', 'response lacks confirmation of recordid')\n",
    "                return None   \n",
    "            ### --- ==================== ---\n",
    "            \n",
    "            ###  --- Integral specific errors ---\n",
    "            if  html_response_only.count('The PPM & Work Order Billing Process has now been initiated.') and \\\n",
    "                                                    not html_response_only.count('Record has been saved.'):\n",
    "                self._set_cause('new Wrokflow response',\n",
    "                    'received \"The PPM & Work Order Billing Process has now been initiated.\" instead of \"Record has been saved.\"')\n",
    "                return None\n",
    "            \n",
    "            if  html_response_only.count('>Do nothing</label>') and html_response_only.count('>Cancel the bill</label>'):\n",
    "                self._set_cause('new Wrokflow response', 'received radio buttons \"Do nothing\" and \"Cancel the bill\"')\n",
    "                return None\n",
    "            ### --- ==================== ---\n",
    "            \n",
    "            self._set_cause('unknown validation fail', html_response_only)\n",
    "            self.html = html\n",
    "        else:\n",
    "            self._set_cause(self.errortype, '')\n"
   ]
  },
  {
   "cell_type": "code",
   "execution_count": 4,
   "metadata": {
    "collapsed": true
   },
   "outputs": [],
   "source": [
    "class Loop():\n",
    "    \n",
    "    def __init__(self, lead_error, lenght):\n",
    "        # the start & end index, should refer to cycle index, not error index\n",
    "        self.lead_error = lead_error\n",
    "        self.start = int(lead_error.cycleid)\n",
    "        self.end = self.start + lenght\n",
    "        # the +1 is needed because both the starter and the final cycles are part of the loop\n",
    "        # it shouldn't be passed in the constructor in order to properly calculate the end cycle id\n",
    "        self.lenght = lenght + 1\n",
    "        \n",
    "    def show(self):\n",
    "        return OrderedDict([('loop start', self.start), ('loop length', self.lenght),])\n",
    "    \n",
    "    def __repr__(self):\n",
    "        return str(self.start) + '-' + str(self.end)"
   ]
  },
  {
   "cell_type": "code",
   "execution_count": 5,
   "metadata": {
    "collapsed": false
   },
   "outputs": [],
   "source": [
    "class VirtualUser():\n",
    "    \n",
    "    def __init__(self, userid, start_time, uj, errors=[], loops=[], max_loop=None):\n",
    "        self.userid = userid\n",
    "        self.start_time = start_time\n",
    "        self.uj = uj\n",
    "        self.errors = errors\n",
    "        self.loops = loops\n",
    "        self.max_loop = max_loop\n",
    "        \n",
    "    # If I can user.errors.append(err) , why create a method?\n",
    "    def append_error(self, error):\n",
    "        self.errors.append(error)\n",
    "\n",
    "    def process_errors(self):\n",
    "        self.error_count = len(self.errors)\n",
    "        \n",
    "        consecutive_count = 0\n",
    "        consecutiveness = ''\n",
    "        max_consecutive = -1\n",
    "        max_loop = -1\n",
    "        # looping over errors in reverse, thus init with values of the last error in the list\n",
    "        prior_error = self.errors[-1]\n",
    "        for error in reversed(self.errors):\n",
    "            error.determine_casuse()\n",
    "\n",
    "            # the 1st condition needs <= instead of == because there could be multiple errors per cycleid\n",
    "            # the 2nd condoition is to avoid counting the initial record as a consecutive term\n",
    "            if int(prior_error.cycleid) - int(error.cycleid) <= 1 and error != self.errors[-1]:\n",
    "                consecutive_count += 1\n",
    "            else:\n",
    "                if consecutive_count > 0:\n",
    "                    new_loop = Loop(prior_error, consecutive_count)\n",
    "                    self.loops.append(new_loop)\n",
    "                    consecutiveness = ';' + str(new_loop) + consecutiveness\n",
    "\n",
    "                    # update max_loop\n",
    "                    if consecutive_count > max_consecutive:\n",
    "                        max_consecutive = consecutive_count\n",
    "                        self.max_loop = new_loop\n",
    "\n",
    "                consecutive_count = 0\n",
    "                \n",
    "            prior_error = error\n",
    "        \n",
    "        # check if the for-ending error was completing an error-loop\n",
    "        if consecutive_count > 0:\n",
    "            new_loop = Loop(prior_error, consecutive_count)\n",
    "            self.loops.append(new_loop)\n",
    "            consecutiveness = ';' + str(new_loop) + consecutiveness\n",
    "\n",
    "            # update max_loop\n",
    "            if consecutive_count > max_consecutive:\n",
    "                max_consecutive = consecutive_count\n",
    "                self.max_loop = new_loop\n",
    "        \n",
    "        self._process_cause_stats()\n",
    "        \n",
    "        return consecutiveness[1:]\n",
    "    \n",
    "    def _process_cause_stats(self):\n",
    "        causes = {}\n",
    "        for e in self.errors:\n",
    "            if e.cause in causes.keys():\n",
    "                causes[e.cause] += 1\n",
    "            else:\n",
    "                causes[e.cause] = 1\n",
    "\n",
    "        self.causes = causes\n",
    "        \n",
    "    def lead_error_info(self, shorten=True):\n",
    "        # return info on the \"lead\" error of the longest error-loop\n",
    "        #   or the first error for the user\n",
    "        \n",
    "        if self.max_loop:\n",
    "            lead_error_info = self.max_loop.lead_error.show(shorten=shorten)\n",
    "            max_loop_info = self.max_loop.show()\n",
    "        else:\n",
    "            lead_error_info = self.errors[0].show(shorten=shorten)\n",
    "            max_loop_info = OrderedDict([('loop start', ''), ('loop length', '')])\n",
    "            \n",
    "        def surgery(ordered_dict, index, insertion):\n",
    "            return OrderedDict(list(ordered_dict.items())[:index] + \n",
    "                               list(insertion.items()) + \n",
    "                               list(ordered_dict.items())[index:])\n",
    "        \n",
    "        lead_error_info = surgery(lead_error_info, 2, {'total errors': user.error_count})\n",
    "        lead_error_info = surgery(lead_error_info, -2, max_loop_info)\n",
    "            \n",
    "        return lead_error_info\n",
    "    \n",
    "    def get_errors(self, shorten=True):\n",
    "        result = pd.DataFrame([ z.show(shorten=shorten) for z in self.errors ])\n",
    "        result.index = pd.to_datetime(result.time, errors='coerce')\n",
    "        result.drop(columns=['time'])\n",
    "        return result"
   ]
  },
  {
   "cell_type": "markdown",
   "metadata": {},
   "source": [
    "the graph functionality should not be tied in the classes; plotting should decouple from DF resampling"
   ]
  },
  {
   "cell_type": "code",
   "execution_count": 6,
   "metadata": {
    "collapsed": true
   },
   "outputs": [],
   "source": [
    "def groupby_resample(udf, feature, freq='H'):\n",
    "    tmpdf = pd.DataFrame()\n",
    "    tmpdf[feature] = udf[feature]\n",
    "    ndf = tmpdf.groupby(feature).resample(freq).count().unstack(feature)\n",
    "    return ndf\n",
    "    # ndf.plot.bar(stacked=True)"
   ]
  },
  {
   "cell_type": "code",
   "execution_count": 7,
   "metadata": {
    "collapsed": true
   },
   "outputs": [],
   "source": [
    "def timeslice(df, start=None, end=None):\n",
    "    # \n",
    "    if start and isinstance(start, str):\n",
    "        start = pd.to_datetime(start, errors='coerce')\n",
    "    if end and isinstance(end, str):\n",
    "        end = pd.to_datetime(end, errors='coerce')\n",
    "    if start and end:\n",
    "        ndf = df[start:end]\n",
    "    elif start and not end:\n",
    "        ndf = df[start:]\n",
    "    elif end and not start:\n",
    "        ndf = df[:end]\n",
    "    else:\n",
    "        ndf = df[:]\n",
    "    return ndf"
   ]
  },
  {
   "cell_type": "code",
   "execution_count": 8,
   "metadata": {
    "collapsed": true
   },
   "outputs": [],
   "source": [
    "def bar_categorical(udf, feature, freq='H', figsize=(12,8), title=None):\n",
    "    tmpdf = pd.DataFrame()\n",
    "    tmpdf[feature] = udf[feature]\n",
    "    ndf = tmpdf.groupby(feature).resample(freq).count().unstack(feature)\n",
    "    ndf.plot.bar(stacked=True, figsize=figsize)\n",
    "    if title:\n",
    "        plt.title(title);"
   ]
  },
  {
   "cell_type": "markdown",
   "metadata": {},
   "source": [
    "# Process Log files"
   ]
  },
  {
   "cell_type": "markdown",
   "metadata": {},
   "source": [
    "Determine the number of relevant log files in the log's Run folder."
   ]
  },
  {
   "cell_type": "code",
   "execution_count": 9,
   "metadata": {
    "collapsed": false
   },
   "outputs": [
    {
     "name": "stdout",
     "output_type": "stream",
     "text": [
      "at /mnt/hgfs/projlogs/Integral/Maximo_13_mar/Leicester , found 1 log files:  ['leicesterUKLEISPICE01_0.log.1']\n"
     ]
    }
   ],
   "source": [
    "test_folder = ROOT_FOLDER\n",
    "\n",
    "## Considered running simultaneous analisys of different injectors:\n",
    "##    it will not work, because user ids are repeated i.e user 0006 on INJ1 will be assigned to UJ1,\n",
    "##    while user 0006 on INJ2 will have different UJ, and different errors, and etc.\n",
    "\n",
    "files = [ f for f in os.listdir(test_folder) if os.path.isfile(os.path.join(test_folder,f)) and f.find('.log.')>0 ]\n",
    "files = [ f for f in files if f.find('lck')==-1 ]\n",
    "print('at', test_folder, ', found', len(files), 'log files: ', files)"
   ]
  },
  {
   "cell_type": "markdown",
   "metadata": {},
   "source": [
    "In case of multiple log files, merge them and work with the merged file."
   ]
  },
  {
   "cell_type": "code",
   "execution_count": 10,
   "metadata": {
    "collapsed": false
   },
   "outputs": [],
   "source": [
    "if len(files)==1:\n",
    "    FNAME = files[0]\n",
    "elif len(files)>1:\n",
    "    print('multiple files - merging into _log.all')\n",
    "    FNAME = '_log.all'\n",
    "    with open(os.path.join(test_folder, FNAME), 'wb') as wfd:\n",
    "        for file in files:\n",
    "            with open(os.path.join(test_folder, file),'rb') as fd:\n",
    "                shutil.copyfileobj(fd, wfd, 1024*1024*100)\n",
    "                #100MB per writing chunk to avoid reading big file into memory.\n",
    "\n",
    "else:\n",
    "    if not FNAME:\n",
    "        print('no files found - please assign FNAME manually')\n",
    "        exit(1)"
   ]
  },
  {
   "cell_type": "markdown",
   "metadata": {},
   "source": [
    "Read the log"
   ]
  },
  {
   "cell_type": "code",
   "execution_count": 11,
   "metadata": {
    "collapsed": false
   },
   "outputs": [
    {
     "name": "stdout",
     "output_type": "stream",
     "text": [
      "processing file:  /mnt/hgfs/projlogs/Integral/Maximo_13_mar/Leicester/leicesterUKLEISPICE01_0.log.1\n"
     ]
    }
   ],
   "source": [
    "print('processing file: ', test_folder + '/' + FNAME)\n",
    "\n",
    "with open(test_folder + '/' + FNAME,'r') as f:\n",
    "    alllog = f.read()"
   ]
  },
  {
   "cell_type": "markdown",
   "metadata": {},
   "source": [
    "Determine test start and test end times."
   ]
  },
  {
   "cell_type": "code",
   "execution_count": 12,
   "metadata": {
    "collapsed": false
   },
   "outputs": [
    {
     "name": "stdout",
     "output_type": "stream",
     "text": [
      "time stamps 311\n",
      " Test start: 2018-03-13 19:43:01 \n",
      " Test end  : 2018-03-13 21:01:36\n"
     ]
    }
   ],
   "source": [
    "log_times = re.findall(r'[\\n^]\\d\\d/\\d\\d/\\d\\d\\d\\d \\d\\d\\:\\d\\d:\\d\\d \\[', alllog)\n",
    "print('time stamps', len(log_times))\n",
    "test_start_time = pd.to_datetime(log_times[0][:-2], infer_datetime_format=True)\n",
    "test_end_time = pd.to_datetime(log_times[-1][:-2], infer_datetime_format=True)\n",
    "print(' Test start:', test_start_time, '\\n', 'Test end  :', test_end_time)"
   ]
  },
  {
   "cell_type": "markdown",
   "metadata": {},
   "source": [
    "Check for Warnings"
   ]
  },
  {
   "cell_type": "code",
   "execution_count": 13,
   "metadata": {
    "collapsed": false
   },
   "outputs": [],
   "source": [
    "warnlog = re.findall(r'(?<=\\n).+?\\[WARNING\\].+?(?=\\n)', alllog)\n",
    "if len(warnlog):\n",
    "    print('warning count:', len(warnlog), '\\n')\n",
    "    for warn in warnlog:\n",
    "        print(warn)"
   ]
  },
  {
   "cell_type": "markdown",
   "metadata": {},
   "source": [
    "Obtain the list of errors."
   ]
  },
  {
   "cell_type": "code",
   "execution_count": 14,
   "metadata": {
    "collapsed": false,
    "scrolled": true
   },
   "outputs": [
    {
     "name": "stdout",
     "output_type": "stream",
     "text": [
      "severe count: 59\n"
     ]
    }
   ],
   "source": [
    "errorlog = re.findall(r'(?<=\\n).+?\\[SEVERE\\].+?id \\d+?,[\\w\\s]*?\\):.+?(?=\\n)', alllog)\n",
    "print('severe count:', len(errorlog))"
   ]
  },
  {
   "cell_type": "markdown",
   "metadata": {},
   "source": [
    "Obtain the list of snapshots."
   ]
  },
  {
   "cell_type": "code",
   "execution_count": 15,
   "metadata": {
    "collapsed": false
   },
   "outputs": [
    {
     "name": "stdout",
     "output_type": "stream",
     "text": [
      "snapshots: 57\n"
     ]
    }
   ],
   "source": [
    "snap = r'<GENERAL_DATA>\\n\\s+?<APPLICATION>([^<]+?)</APPLICATION>\\n\\s+?<USER_JOURNEY>([^<]+?)</USER_JOURNEY>\\n\\s+?<STEP>([^<]+?)</STEP>\\n\\s+?<ERROR>([^<]+?)</ERROR>\\n\\s+?<INJECTOR_NAME>([^<]+?)</INJECTOR_NAME>\\n\\s+?<START_DATE>([^<]+?)</START_DATE>\\n\\s+?<RUN_NAME>([^<]+?)</RUN_NAME>\\n\\s+?<BROWSER_PROFILE>([^<]+?)</BROWSER_PROFILE>\\n\\s+?<DATE>([^<]+?)</DATE>\\n\\s+?<PROCESS_NAME>([^<]+?)</PROCESS_NAME>\\n\\s+?<PROCESS_NUMBER>([^<]+?)</PROCESS_NUMBER>\\n\\s+?<USER_ID>([^<]+?)</USER_ID>\\n\\s+?<CYCLE_ID>([^<]+?)</CYCLE_ID>\\n\\s+?<CURRENT_USERS>([^<]+?)</CURRENT_USERS>\\n\\s+?<CURRENT_CONNECTIONS>([^<]+?)</CURRENT_CONNECTIONS>\\n\\s+?</GENERAL_DATA>'\n",
    "\n",
    "snaplog = re.findall(snap, alllog)\n",
    "print('snapshots:', len(snaplog))"
   ]
  },
  {
   "cell_type": "code",
   "execution_count": 16,
   "metadata": {
    "collapsed": false
   },
   "outputs": [],
   "source": [
    "# # Dump the snapshot list into a debug file\n",
    "# with open(os.path.join(test_folder, 'snaps.dump.txt'), 'wt') as f:\n",
    "#     f.write('\\n'.join(map(str, snaplog)))"
   ]
  },
  {
   "cell_type": "markdown",
   "metadata": {},
   "source": [
    "Parse the log file and create User and Error objects"
   ]
  },
  {
   "cell_type": "code",
   "execution_count": 17,
   "metadata": {
    "collapsed": false,
    "scrolled": true
   },
   "outputs": [
    {
     "name": "stdout",
     "output_type": "stream",
     "text": [
      "errors: 59 ; erroring_users: 2\n"
     ]
    }
   ],
   "source": [
    "errors = []\n",
    "vusers = {}\n",
    "for err in errorlog:\n",
    "    time = err[:20]\n",
    "    usr = re.search(r'user.(\\d+?),.cycle', err)\n",
    "    user = usr.group(1)\n",
    "    user = str(user).rjust(4, '0')\n",
    "    cyc = re.search(r'cycle.(\\d+?),.step', err)\n",
    "    cycle = cyc.group(1)\n",
    "    stp = re.search(r'step\\s+?(.+?),\\s+?id', err)\n",
    "    step = stp.group(1)\n",
    "    errtype = re.search(r', status (.+?)\\):', err)\n",
    "    if errtype:\n",
    "        error_type = errtype.group(1)\n",
    "    else:\n",
    "        error_type = 'Error getting value for DD item'\n",
    "    message = err[err.find('):'):]\n",
    "    \n",
    "    if error_type.find('Unexpected Error') >= 0:\n",
    "        next_line_re = time + r'.+?, status Unexpected Error\\):.+?\\n(.+?)\\n'\n",
    "        line_after_severe = re.search(next_line_re, alllog)\n",
    "        if line_after_severe:\n",
    "            line_after_unexpected = line_after_severe.group(1)\n",
    "            if line_after_unexpected.find('OutOfMemoryError'):\n",
    "                error_type = 'OutOfMemoryError'\n",
    "    \n",
    "    uj = ''\n",
    "    if len(snaplog):\n",
    "        try:\n",
    "            # find matching snapshot by user and cycle -- will fail in case of 2 errs in 1 cycle\n",
    "            uj = [ z[1] for z in snaplog if z[-4]==str(int(user)) and z[-3]==cycle ][0]\n",
    "        except IndexError:\n",
    "#             print('failed to find snapshot data for user', user, 'cycle', cycle)\n",
    "            pass\n",
    "    \n",
    "    new_error_record = TestError(time, user, cycle, uj, step, error_type, message, test_folder)\n",
    "    errors.append(new_error_record)\n",
    "    if user in vusers.keys():\n",
    "        vusers[user].append_error(new_error_record)\n",
    "    else:\n",
    "        vusers[user] = VirtualUser(user, '', uj, [new_error_record])\n",
    "\n",
    "print('errors:', len(errors), '; erroring_users:', len(vusers))\n",
    "pickle.dump((errors, vusers), open(os.path.join(test_folder, 'errors_users.pickle'), 'wb' ))"
   ]
  },
  {
   "cell_type": "markdown",
   "metadata": {},
   "source": [
    "### Process error-loops and causes"
   ]
  },
  {
   "cell_type": "markdown",
   "metadata": {},
   "source": [
    "this loop reads the error specific .data files"
   ]
  },
  {
   "cell_type": "code",
   "execution_count": 18,
   "metadata": {
    "collapsed": true
   },
   "outputs": [],
   "source": [
    "# errors, vusers = pickle.load(open(os.path.join(test_folder, 'errors_users.pickle'), 'rb'))"
   ]
  },
  {
   "cell_type": "code",
   "execution_count": 19,
   "metadata": {
    "collapsed": false,
    "scrolled": false
   },
   "outputs": [
    {
     "name": "stdout",
     "output_type": "stream",
     "text": [
      "erroring users 2\n",
      "\n",
      " user 0001 has error count: 2\n",
      "~~ max error loop:: length 2 start cycle: 0 end cycle: 1\n",
      "~~ 0-1\n",
      "\n",
      " user 0005 has error count: 57\n",
      "~~ max error loop:: length 52 start cycle: 16 end cycle: 67\n",
      "~~ 10-14;16-67\n"
     ]
    }
   ],
   "source": [
    "sorted_keys = sorted(vusers.keys())\n",
    "print('erroring users', len(sorted_keys))\n",
    "for userid in sorted_keys:\n",
    "    user = vusers[userid]\n",
    "    consecutiveness = user.process_errors()\n",
    "    print('\\n','user', user.userid, 'has error count:', user.error_count,\n",
    "          \n",
    "          # these stats cannot be found in the log files, only in the DB\n",
    "#           'and erroring cycles count of:', user.error_cyc_count,\n",
    "#           'out of', user.cycles, 'total cycles'\n",
    "         )\n",
    "    \n",
    "    if len(consecutiveness):\n",
    "        print('~~ max error loop:: length', user.max_loop.lenght, 'start cycle:',\n",
    "              user.max_loop.start, 'end cycle:', user.max_loop.end)\n",
    "        print('~~', consecutiveness)\n",
    "\n",
    "pickle.dump(vusers, open(os.path.join(test_folder, 'with_loops.pickle'), 'wb' ))"
   ]
  },
  {
   "cell_type": "code",
   "execution_count": 20,
   "metadata": {
    "collapsed": false,
    "scrolled": true
   },
   "outputs": [
    {
     "name": "stdout",
     "output_type": "stream",
     "text": [
      "erroring user ids: ['0001', '0005']\n"
     ]
    }
   ],
   "source": [
    "sorted_wiht_errs = [vusers[z].userid for z in sorted_keys if len(vusers[z].errors)]\n",
    "print('erroring user ids:', sorted_wiht_errs)"
   ]
  },
  {
   "cell_type": "markdown",
   "metadata": {},
   "source": [
    "### Overall injector stats"
   ]
  },
  {
   "cell_type": "code",
   "execution_count": 21,
   "metadata": {
    "collapsed": true
   },
   "outputs": [],
   "source": [
    "# vusers = pickle.load(open(os.path.join(test_folder, 'with_loops.pickle'), 'rb'))"
   ]
  },
  {
   "cell_type": "code",
   "execution_count": 29,
   "metadata": {
    "collapsed": false,
    "scrolled": false
   },
   "outputs": [
    {
     "name": "stdout",
     "output_type": "stream",
     "text": [
      "2018-03-13 19:47:13,0001,2,, (4),0,Connection Error,0,2,Connection Error,,\n",
      "2018-03-13 20:11:00,0005,57,Billing,Select SR OK,16,Success Validation Failure,16,52,Critical Message,BMXAQ0426E - A new bill for the customer agreement cannot be created at this time. Either bill lines are being copied to a bill batch or a previous copy failed and has not been reset. The copy process must be complete before a new bill can be created,\n"
     ]
    },
    {
     "data": {
      "text/html": [
       "<div>\n",
       "<style scoped>\n",
       "    .dataframe tbody tr th:only-of-type {\n",
       "        vertical-align: middle;\n",
       "    }\n",
       "\n",
       "    .dataframe tbody tr th {\n",
       "        vertical-align: top;\n",
       "    }\n",
       "\n",
       "    .dataframe thead th {\n",
       "        text-align: right;\n",
       "    }\n",
       "</style>\n",
       "<table border=\"1\" class=\"dataframe\">\n",
       "  <thead>\n",
       "    <tr style=\"text-align: right;\">\n",
       "      <th></th>\n",
       "      <th>time</th>\n",
       "      <th>user</th>\n",
       "      <th>total errors</th>\n",
       "      <th>uj</th>\n",
       "      <th>step</th>\n",
       "      <th>cycle</th>\n",
       "      <th>error type</th>\n",
       "      <th>loop start</th>\n",
       "      <th>loop length</th>\n",
       "      <th>error cause</th>\n",
       "      <th>cause message/ddi</th>\n",
       "    </tr>\n",
       "  </thead>\n",
       "  <tbody>\n",
       "    <tr>\n",
       "      <th>0</th>\n",
       "      <td>2018-03-13 19:47:13</td>\n",
       "      <td>0001</td>\n",
       "      <td>2</td>\n",
       "      <td></td>\n",
       "      <td>(4)</td>\n",
       "      <td>0</td>\n",
       "      <td>Connection Error</td>\n",
       "      <td>0</td>\n",
       "      <td>2</td>\n",
       "      <td>Connection Error</td>\n",
       "      <td></td>\n",
       "    </tr>\n",
       "    <tr>\n",
       "      <th>1</th>\n",
       "      <td>2018-03-13 20:11:00</td>\n",
       "      <td>0005</td>\n",
       "      <td>57</td>\n",
       "      <td>Billing</td>\n",
       "      <td>Select SR OK</td>\n",
       "      <td>16</td>\n",
       "      <td>Success Validation Failure</td>\n",
       "      <td>16</td>\n",
       "      <td>52</td>\n",
       "      <td>Critical Message</td>\n",
       "      <td>BMXAQ0426E - A new bill for the customer agree...</td>\n",
       "    </tr>\n",
       "  </tbody>\n",
       "</table>\n",
       "</div>"
      ],
      "text/plain": [
       "                 time  user  total errors       uj          step cycle  \\\n",
       "0 2018-03-13 19:47:13  0001             2                    (4)     0   \n",
       "1 2018-03-13 20:11:00  0005            57  Billing  Select SR OK    16   \n",
       "\n",
       "                   error type  loop start  loop length       error cause  \\\n",
       "0            Connection Error           0            2  Connection Error   \n",
       "1  Success Validation Failure          16           52  Critical Message   \n",
       "\n",
       "                                   cause message/ddi  \n",
       "0                                                     \n",
       "1  BMXAQ0426E - A new bill for the customer agree...  "
      ]
     },
     "execution_count": 29,
     "metadata": {},
     "output_type": "execute_result"
    }
   ],
   "source": [
    "causes = {}\n",
    "causes_keys = []\n",
    "accu = []\n",
    "\n",
    "for userid in sorted_keys:\n",
    "    user = vusers[userid]\n",
    "    errors_values = list(user.lead_error_info(shorten=False).values())\n",
    "    accu.append(errors_values)\n",
    "    for val in errors_values:\n",
    "        try:\n",
    "            print(val[:250], end=',')\n",
    "        except TypeError:\n",
    "            print(val, end=',')\n",
    "    print()\n",
    "    if causes_keys == []:\n",
    "        causes_keys = list(user.lead_error_info(shorten=False))\n",
    "    \n",
    "    # summation of values of corresponding key over list of dicts\n",
    "    for key in user.causes.keys():\n",
    "        causes[key]=causes.setdefault(key, 0) + user.causes[key]\n",
    "\n",
    "data = pd.DataFrame(accu, columns=causes_keys)\n",
    "data"
   ]
  },
  {
   "cell_type": "markdown",
   "metadata": {},
   "source": [
    "Info on the \"lead\" errors for the longest error-loop or, if no error-loop, the first error for the user:"
   ]
  },
  {
   "cell_type": "code",
   "execution_count": 23,
   "metadata": {
    "collapsed": false
   },
   "outputs": [],
   "source": [
    "cat = list(causes.items())\n",
    "stats = [ z[1] for z in cat ]\n",
    "types = [ z[0] for z in cat ]\n",
    "# cdf = pd.DataFrame(stats, index=types, columns=['cause type'])\n",
    "cdft = pd.DataFrame([stats], index=['count'], columns=types)\n",
    "# cdf.plot.bar(figsize=(12,8));\n",
    "# the_table = plt.table(cellText=[stats], loc='top') #rowLabels= ['cause type'],\n",
    "# the_table.set_fontsize(14)"
   ]
  },
  {
   "cell_type": "code",
   "execution_count": 24,
   "metadata": {
    "collapsed": false
   },
   "outputs": [
    {
     "data": {
      "image/png": "[encoded data removed]",
      "text/plain": [
       "<matplotlib.figure.Figure at 0x7f44e115fba8>"
      ]
     },
     "metadata": {},
     "output_type": "display_data"
    }
   ],
   "source": [
    "f, ax = plt.subplots(figsize=(12,8))\n",
    "sns.barplot(data=cdft);\n",
    "ax.set_xticklabels(ax.get_xticklabels(), rotation=40, ha=\"right\")\n",
    "the_table = plt.table(cellText=[stats], loc='top') #rowLabels= ['cause type'],\n",
    "the_table.set_fontsize(14)\n",
    "plt.tight_layout()\n",
    "plt.show();"
   ]
  },
  {
   "cell_type": "markdown",
   "metadata": {},
   "source": [
    "# Analysis of individual virtual users"
   ]
  },
  {
   "cell_type": "code",
   "execution_count": 25,
   "metadata": {
    "collapsed": false
   },
   "outputs": [
    {
     "ename": "SyntaxError",
     "evalue": "invalid syntax (<ipython-input-25-f2aac8727edc>, line 1)",
     "output_type": "error",
     "traceback": [
      "\u001b[0;36m  File \u001b[0;32m\"<ipython-input-25-f2aac8727edc>\"\u001b[0;36m, line \u001b[0;32m1\u001b[0m\n\u001b[0;31m    FAIL HERE\u001b[0m\n\u001b[0m            ^\u001b[0m\n\u001b[0;31mSyntaxError\u001b[0m\u001b[0;31m:\u001b[0m invalid syntax\n"
     ]
    }
   ],
   "source": [
    "FAIL HERE"
   ]
  },
  {
   "cell_type": "code",
   "execution_count": null,
   "metadata": {
    "collapsed": false
   },
   "outputs": [],
   "source": [
    "%%javascript\n",
    "IPython.notebook.kernel.execute(\"URL = '\" + window.location + \"'\");"
   ]
  },
  {
   "cell_type": "code",
   "execution_count": null,
   "metadata": {
    "collapsed": false
   },
   "outputs": [],
   "source": [
    "uid = URL.split('?')[1].split('=')[1]\n",
    "errs9 = vusers[uid].get_errors()"
   ]
  },
  {
   "cell_type": "code",
   "execution_count": 26,
   "metadata": {
    "collapsed": true
   },
   "outputs": [],
   "source": [
    "uid='0005'\n",
    "errs9 = vusers[uid].get_errors()"
   ]
  },
  {
   "cell_type": "code",
   "execution_count": 27,
   "metadata": {
    "collapsed": false,
    "scrolled": false
   },
   "outputs": [
    {
     "data": {
      "image/png": "[encoded data removed]",
      "text/plain": [
       "<matplotlib.figure.Figure at 0x7f44df05a9b0>"
      ]
     },
     "metadata": {},
     "output_type": "display_data"
    },
    {
     "data": {
      "image/png": "[encoded data removed]",
      "text/plain": [
       "<matplotlib.figure.Figure at 0x7f44def505c0>"
      ]
     },
     "metadata": {},
     "output_type": "display_data"
    },
    {
     "data": {
      "image/png": "[encoded data removed]",
      "text/plain": [
       "<matplotlib.figure.Figure at 0x7f44deae54e0>"
      ]
     },
     "metadata": {},
     "output_type": "display_data"
    }
   ],
   "source": [
    "# shorten the cause message\n",
    "errs9['cause message/ddi'] = errs9['cause message/ddi'].apply(lambda x: x[:50])\n",
    "bar_categorical(errs9, 'error type', 'T', figsize=(15,9), title=uid + '_' + vusers[uid].uj);\n",
    "bar_categorical(errs9, 'cause message/ddi', 'T', figsize=(15,9));\n",
    "bar_categorical(errs9, ['step'], 'T', figsize=(15,9))"
   ]
  },
  {
   "cell_type": "code",
   "execution_count": 28,
   "metadata": {
    "collapsed": false,
    "scrolled": false
   },
   "outputs": [
    {
     "data": {
      "text/html": [
       "<div>\n",
       "<style scoped>\n",
       "    .dataframe tbody tr th:only-of-type {\n",
       "        vertical-align: middle;\n",
       "    }\n",
       "\n",
       "    .dataframe tbody tr th {\n",
       "        vertical-align: top;\n",
       "    }\n",
       "\n",
       "    .dataframe thead th {\n",
       "        text-align: right;\n",
       "    }\n",
       "</style>\n",
       "<table border=\"1\" class=\"dataframe\">\n",
       "  <thead>\n",
       "    <tr style=\"text-align: right;\">\n",
       "      <th></th>\n",
       "      <th>time</th>\n",
       "      <th>user</th>\n",
       "      <th>uj</th>\n",
       "      <th>step</th>\n",
       "      <th>cycle</th>\n",
       "      <th>error type</th>\n",
       "      <th>error cause</th>\n",
       "      <th>cause message/ddi</th>\n",
       "    </tr>\n",
       "    <tr>\n",
       "      <th>time</th>\n",
       "      <th></th>\n",
       "      <th></th>\n",
       "      <th></th>\n",
       "      <th></th>\n",
       "      <th></th>\n",
       "      <th></th>\n",
       "      <th></th>\n",
       "      <th></th>\n",
       "    </tr>\n",
       "  </thead>\n",
       "  <tbody>\n",
       "    <tr>\n",
       "      <th>2018-03-13 20:03:02</th>\n",
       "      <td>2018-03-13 20:03:02</td>\n",
       "      <td>0005</td>\n",
       "      <td>Billing</td>\n",
       "      <td>Select SR OK</td>\n",
       "      <td>10</td>\n",
       "      <td>Success Validation Failure</td>\n",
       "      <td>Critical Message</td>\n",
       "      <td>BMXAQ0426E - A new bill for the customer agree...</td>\n",
       "    </tr>\n",
       "    <tr>\n",
       "      <th>2018-03-13 20:04:08</th>\n",
       "      <td>2018-03-13 20:04:08</td>\n",
       "      <td>0005</td>\n",
       "      <td>Billing</td>\n",
       "      <td>Select SR OK</td>\n",
       "      <td>11</td>\n",
       "      <td>Success Validation Failure</td>\n",
       "      <td>Critical Message</td>\n",
       "      <td>BMXAQ0426E - A new bill for the customer agree...</td>\n",
       "    </tr>\n",
       "    <tr>\n",
       "      <th>2018-03-13 20:05:09</th>\n",
       "      <td>2018-03-13 20:05:09</td>\n",
       "      <td>0005</td>\n",
       "      <td>Billing</td>\n",
       "      <td>Select SR OK</td>\n",
       "      <td>12</td>\n",
       "      <td>Success Validation Failure</td>\n",
       "      <td>Critical Message</td>\n",
       "      <td>BMXAQ0426E - A new bill for the customer agree...</td>\n",
       "    </tr>\n",
       "    <tr>\n",
       "      <th>2018-03-13 20:06:12</th>\n",
       "      <td>2018-03-13 20:06:12</td>\n",
       "      <td>0005</td>\n",
       "      <td>Billing</td>\n",
       "      <td>Select SR OK</td>\n",
       "      <td>13</td>\n",
       "      <td>Success Validation Failure</td>\n",
       "      <td>Critical Message</td>\n",
       "      <td>BMXAQ0426E - A new bill for the customer agree...</td>\n",
       "    </tr>\n",
       "    <tr>\n",
       "      <th>2018-03-13 20:07:19</th>\n",
       "      <td>2018-03-13 20:07:19</td>\n",
       "      <td>0005</td>\n",
       "      <td>Billing</td>\n",
       "      <td>Select SR OK</td>\n",
       "      <td>14</td>\n",
       "      <td>Success Validation Failure</td>\n",
       "      <td>Critical Message</td>\n",
       "      <td>BMXAQ0426E - A new bill for the customer agree...</td>\n",
       "    </tr>\n",
       "    <tr>\n",
       "      <th>2018-03-13 20:11:00</th>\n",
       "      <td>2018-03-13 20:11:00</td>\n",
       "      <td>0005</td>\n",
       "      <td>Billing</td>\n",
       "      <td>Select SR OK</td>\n",
       "      <td>16</td>\n",
       "      <td>Success Validation Failure</td>\n",
       "      <td>Critical Message</td>\n",
       "      <td>BMXAQ0426E - A new bill for the customer agree...</td>\n",
       "    </tr>\n",
       "    <tr>\n",
       "      <th>2018-03-13 20:12:01</th>\n",
       "      <td>2018-03-13 20:12:01</td>\n",
       "      <td>0005</td>\n",
       "      <td>Billing</td>\n",
       "      <td>Select All Records 1</td>\n",
       "      <td>17</td>\n",
       "      <td>Success Validation Failure</td>\n",
       "      <td>operation resulted in a table with zero rows</td>\n",
       "      <td>searchterm: &lt;div id=\"mbff42c79_tdrow_\\[C:0\\]_t...</td>\n",
       "    </tr>\n",
       "    <tr>\n",
       "      <th>2018-03-13 20:12:59</th>\n",
       "      <td>2018-03-13 20:12:59</td>\n",
       "      <td>0005</td>\n",
       "      <td>Billing</td>\n",
       "      <td>Select All Records 1</td>\n",
       "      <td>18</td>\n",
       "      <td>Success Validation Failure</td>\n",
       "      <td>operation resulted in a table with zero rows</td>\n",
       "      <td>searchterm: &lt;div id=\"mbff42c79_tdrow_\\[C:0\\]_t...</td>\n",
       "    </tr>\n",
       "    <tr>\n",
       "      <th>2018-03-13 20:13:55</th>\n",
       "      <td>2018-03-13 20:13:55</td>\n",
       "      <td>0005</td>\n",
       "      <td>Billing</td>\n",
       "      <td>Select All Records 1</td>\n",
       "      <td>19</td>\n",
       "      <td>Success Validation Failure</td>\n",
       "      <td>operation resulted in a table with zero rows</td>\n",
       "      <td>searchterm: &lt;div id=\"mbff42c79_tdrow_\\[C:0\\]_t...</td>\n",
       "    </tr>\n",
       "    <tr>\n",
       "      <th>2018-03-13 20:14:56</th>\n",
       "      <td>2018-03-13 20:14:56</td>\n",
       "      <td>0005</td>\n",
       "      <td>Billing</td>\n",
       "      <td>Select All Records 1</td>\n",
       "      <td>20</td>\n",
       "      <td>Success Validation Failure</td>\n",
       "      <td>operation resulted in a table with zero rows</td>\n",
       "      <td>searchterm: &lt;div id=\"mbff42c79_tdrow_\\[C:0\\]_t...</td>\n",
       "    </tr>\n",
       "    <tr>\n",
       "      <th>2018-03-13 20:15:55</th>\n",
       "      <td>2018-03-13 20:15:55</td>\n",
       "      <td>0005</td>\n",
       "      <td>Billing</td>\n",
       "      <td>Select All Records 1</td>\n",
       "      <td>21</td>\n",
       "      <td>Success Validation Failure</td>\n",
       "      <td>operation resulted in a table with zero rows</td>\n",
       "      <td>searchterm: &lt;div id=\"mbff42c79_tdrow_\\[C:0\\]_t...</td>\n",
       "    </tr>\n",
       "    <tr>\n",
       "      <th>2018-03-13 20:16:54</th>\n",
       "      <td>2018-03-13 20:16:54</td>\n",
       "      <td>0005</td>\n",
       "      <td>Billing</td>\n",
       "      <td>Select All Records 1</td>\n",
       "      <td>22</td>\n",
       "      <td>Success Validation Failure</td>\n",
       "      <td>operation resulted in a table with zero rows</td>\n",
       "      <td>searchterm: &lt;div id=\"mbff42c79_tdrow_\\[C:0\\]_t...</td>\n",
       "    </tr>\n",
       "    <tr>\n",
       "      <th>2018-03-13 20:17:54</th>\n",
       "      <td>2018-03-13 20:17:54</td>\n",
       "      <td>0005</td>\n",
       "      <td>Billing</td>\n",
       "      <td>Select All Records 1</td>\n",
       "      <td>23</td>\n",
       "      <td>Success Validation Failure</td>\n",
       "      <td>operation resulted in a table with zero rows</td>\n",
       "      <td>searchterm: &lt;div id=\"mbff42c79_tdrow_\\[C:0\\]_t...</td>\n",
       "    </tr>\n",
       "    <tr>\n",
       "      <th>2018-03-13 20:18:55</th>\n",
       "      <td>2018-03-13 20:18:55</td>\n",
       "      <td>0005</td>\n",
       "      <td>Billing</td>\n",
       "      <td>Select All Records 1</td>\n",
       "      <td>24</td>\n",
       "      <td>Success Validation Failure</td>\n",
       "      <td>operation resulted in a table with zero rows</td>\n",
       "      <td>searchterm: &lt;div id=\"mbff42c79_tdrow_\\[C:0\\]_t...</td>\n",
       "    </tr>\n",
       "    <tr>\n",
       "      <th>2018-03-13 20:19:57</th>\n",
       "      <td>2018-03-13 20:19:57</td>\n",
       "      <td>0005</td>\n",
       "      <td>Billing</td>\n",
       "      <td>Select All Records 1</td>\n",
       "      <td>25</td>\n",
       "      <td>Success Validation Failure</td>\n",
       "      <td>operation resulted in a table with zero rows</td>\n",
       "      <td>searchterm: &lt;div id=\"mbff42c79_tdrow_\\[C:0\\]_t...</td>\n",
       "    </tr>\n",
       "    <tr>\n",
       "      <th>2018-03-13 20:20:57</th>\n",
       "      <td>2018-03-13 20:20:57</td>\n",
       "      <td>0005</td>\n",
       "      <td>Billing</td>\n",
       "      <td>Select All Records 1</td>\n",
       "      <td>26</td>\n",
       "      <td>Success Validation Failure</td>\n",
       "      <td>operation resulted in a table with zero rows</td>\n",
       "      <td>searchterm: &lt;div id=\"mbff42c79_tdrow_\\[C:0\\]_t...</td>\n",
       "    </tr>\n",
       "    <tr>\n",
       "      <th>2018-03-13 20:21:56</th>\n",
       "      <td>2018-03-13 20:21:56</td>\n",
       "      <td>0005</td>\n",
       "      <td>Billing</td>\n",
       "      <td>Select All Records 1</td>\n",
       "      <td>27</td>\n",
       "      <td>Success Validation Failure</td>\n",
       "      <td>operation resulted in a table with zero rows</td>\n",
       "      <td>searchterm: &lt;div id=\"mbff42c79_tdrow_\\[C:0\\]_t...</td>\n",
       "    </tr>\n",
       "    <tr>\n",
       "      <th>2018-03-13 20:22:56</th>\n",
       "      <td>2018-03-13 20:22:56</td>\n",
       "      <td>0005</td>\n",
       "      <td>Billing</td>\n",
       "      <td>Select All Records 1</td>\n",
       "      <td>28</td>\n",
       "      <td>Success Validation Failure</td>\n",
       "      <td>operation resulted in a table with zero rows</td>\n",
       "      <td>searchterm: &lt;div id=\"mbff42c79_tdrow_\\[C:0\\]_t...</td>\n",
       "    </tr>\n",
       "    <tr>\n",
       "      <th>2018-03-13 20:23:54</th>\n",
       "      <td>2018-03-13 20:23:54</td>\n",
       "      <td>0005</td>\n",
       "      <td>Billing</td>\n",
       "      <td>Select All Records 1</td>\n",
       "      <td>29</td>\n",
       "      <td>Success Validation Failure</td>\n",
       "      <td>operation resulted in a table with zero rows</td>\n",
       "      <td>searchterm: &lt;div id=\"mbff42c79_tdrow_\\[C:0\\]_t...</td>\n",
       "    </tr>\n",
       "    <tr>\n",
       "      <th>2018-03-13 20:24:54</th>\n",
       "      <td>2018-03-13 20:24:54</td>\n",
       "      <td>0005</td>\n",
       "      <td>Billing</td>\n",
       "      <td>Select All Records 1</td>\n",
       "      <td>30</td>\n",
       "      <td>Success Validation Failure</td>\n",
       "      <td>operation resulted in a table with zero rows</td>\n",
       "      <td>searchterm: &lt;div id=\"mbff42c79_tdrow_\\[C:0\\]_t...</td>\n",
       "    </tr>\n",
       "    <tr>\n",
       "      <th>2018-03-13 20:25:52</th>\n",
       "      <td>2018-03-13 20:25:52</td>\n",
       "      <td>0005</td>\n",
       "      <td>Billing</td>\n",
       "      <td>Select All Records 1</td>\n",
       "      <td>31</td>\n",
       "      <td>Success Validation Failure</td>\n",
       "      <td>operation resulted in a table with zero rows</td>\n",
       "      <td>searchterm: &lt;div id=\"mbff42c79_tdrow_\\[C:0\\]_t...</td>\n",
       "    </tr>\n",
       "    <tr>\n",
       "      <th>2018-03-13 20:26:53</th>\n",
       "      <td>2018-03-13 20:26:53</td>\n",
       "      <td>0005</td>\n",
       "      <td>Billing</td>\n",
       "      <td>Select All Records 1</td>\n",
       "      <td>32</td>\n",
       "      <td>Success Validation Failure</td>\n",
       "      <td>operation resulted in a table with zero rows</td>\n",
       "      <td>searchterm: &lt;div id=\"mbff42c79_tdrow_\\[C:0\\]_t...</td>\n",
       "    </tr>\n",
       "    <tr>\n",
       "      <th>2018-03-13 20:27:53</th>\n",
       "      <td>2018-03-13 20:27:53</td>\n",
       "      <td>0005</td>\n",
       "      <td>Billing</td>\n",
       "      <td>Select All Records 1</td>\n",
       "      <td>33</td>\n",
       "      <td>Success Validation Failure</td>\n",
       "      <td>operation resulted in a table with zero rows</td>\n",
       "      <td>searchterm: &lt;div id=\"mbff42c79_tdrow_\\[C:0\\]_t...</td>\n",
       "    </tr>\n",
       "    <tr>\n",
       "      <th>2018-03-13 20:28:52</th>\n",
       "      <td>2018-03-13 20:28:52</td>\n",
       "      <td>0005</td>\n",
       "      <td>Billing</td>\n",
       "      <td>Select All Records 1</td>\n",
       "      <td>34</td>\n",
       "      <td>Success Validation Failure</td>\n",
       "      <td>operation resulted in a table with zero rows</td>\n",
       "      <td>searchterm: &lt;div id=\"mbff42c79_tdrow_\\[C:0\\]_t...</td>\n",
       "    </tr>\n",
       "    <tr>\n",
       "      <th>2018-03-13 20:29:51</th>\n",
       "      <td>2018-03-13 20:29:51</td>\n",
       "      <td>0005</td>\n",
       "      <td>Billing</td>\n",
       "      <td>Select All Records 1</td>\n",
       "      <td>35</td>\n",
       "      <td>Success Validation Failure</td>\n",
       "      <td>operation resulted in a table with zero rows</td>\n",
       "      <td>searchterm: &lt;div id=\"mbff42c79_tdrow_\\[C:0\\]_t...</td>\n",
       "    </tr>\n",
       "    <tr>\n",
       "      <th>2018-03-13 20:30:50</th>\n",
       "      <td>2018-03-13 20:30:50</td>\n",
       "      <td>0005</td>\n",
       "      <td>Billing</td>\n",
       "      <td>Select All Records 1</td>\n",
       "      <td>36</td>\n",
       "      <td>Success Validation Failure</td>\n",
       "      <td>operation resulted in a table with zero rows</td>\n",
       "      <td>searchterm: &lt;div id=\"mbff42c79_tdrow_\\[C:0\\]_t...</td>\n",
       "    </tr>\n",
       "    <tr>\n",
       "      <th>2018-03-13 20:31:50</th>\n",
       "      <td>2018-03-13 20:31:50</td>\n",
       "      <td>0005</td>\n",
       "      <td>Billing</td>\n",
       "      <td>Select All Records 1</td>\n",
       "      <td>37</td>\n",
       "      <td>Success Validation Failure</td>\n",
       "      <td>operation resulted in a table with zero rows</td>\n",
       "      <td>searchterm: &lt;div id=\"mbff42c79_tdrow_\\[C:0\\]_t...</td>\n",
       "    </tr>\n",
       "    <tr>\n",
       "      <th>2018-03-13 20:32:50</th>\n",
       "      <td>2018-03-13 20:32:50</td>\n",
       "      <td>0005</td>\n",
       "      <td>Billing</td>\n",
       "      <td>Select All Records 1</td>\n",
       "      <td>38</td>\n",
       "      <td>Success Validation Failure</td>\n",
       "      <td>operation resulted in a table with zero rows</td>\n",
       "      <td>searchterm: &lt;div id=\"mbff42c79_tdrow_\\[C:0\\]_t...</td>\n",
       "    </tr>\n",
       "    <tr>\n",
       "      <th>2018-03-13 20:33:48</th>\n",
       "      <td>2018-03-13 20:33:48</td>\n",
       "      <td>0005</td>\n",
       "      <td>Billing</td>\n",
       "      <td>Select All Records 1</td>\n",
       "      <td>39</td>\n",
       "      <td>Success Validation Failure</td>\n",
       "      <td>operation resulted in a table with zero rows</td>\n",
       "      <td>searchterm: &lt;div id=\"mbff42c79_tdrow_\\[C:0\\]_t...</td>\n",
       "    </tr>\n",
       "    <tr>\n",
       "      <th>2018-03-13 20:34:51</th>\n",
       "      <td>2018-03-13 20:34:51</td>\n",
       "      <td>0005</td>\n",
       "      <td>Billing</td>\n",
       "      <td>Select All Records 1</td>\n",
       "      <td>40</td>\n",
       "      <td>Success Validation Failure</td>\n",
       "      <td>operation resulted in a table with zero rows</td>\n",
       "      <td>searchterm: &lt;div id=\"mbff42c79_tdrow_\\[C:0\\]_t...</td>\n",
       "    </tr>\n",
       "    <tr>\n",
       "      <th>2018-03-13 20:35:52</th>\n",
       "      <td>2018-03-13 20:35:52</td>\n",
       "      <td>0005</td>\n",
       "      <td>Billing</td>\n",
       "      <td>Select All Records 1</td>\n",
       "      <td>41</td>\n",
       "      <td>Success Validation Failure</td>\n",
       "      <td>operation resulted in a table with zero rows</td>\n",
       "      <td>searchterm: &lt;div id=\"mbff42c79_tdrow_\\[C:0\\]_t...</td>\n",
       "    </tr>\n",
       "    <tr>\n",
       "      <th>2018-03-13 20:36:51</th>\n",
       "      <td>2018-03-13 20:36:51</td>\n",
       "      <td>0005</td>\n",
       "      <td>Billing</td>\n",
       "      <td>Select All Records 1</td>\n",
       "      <td>42</td>\n",
       "      <td>Success Validation Failure</td>\n",
       "      <td>operation resulted in a table with zero rows</td>\n",
       "      <td>searchterm: &lt;div id=\"mbff42c79_tdrow_\\[C:0\\]_t...</td>\n",
       "    </tr>\n",
       "    <tr>\n",
       "      <th>2018-03-13 20:37:50</th>\n",
       "      <td>2018-03-13 20:37:50</td>\n",
       "      <td>0005</td>\n",
       "      <td>Billing</td>\n",
       "      <td>Select All Records 1</td>\n",
       "      <td>43</td>\n",
       "      <td>Success Validation Failure</td>\n",
       "      <td>operation resulted in a table with zero rows</td>\n",
       "      <td>searchterm: &lt;div id=\"mbff42c79_tdrow_\\[C:0\\]_t...</td>\n",
       "    </tr>\n",
       "    <tr>\n",
       "      <th>2018-03-13 20:38:52</th>\n",
       "      <td>2018-03-13 20:38:52</td>\n",
       "      <td>0005</td>\n",
       "      <td>Billing</td>\n",
       "      <td>Select All Records 1</td>\n",
       "      <td>44</td>\n",
       "      <td>Success Validation Failure</td>\n",
       "      <td>operation resulted in a table with zero rows</td>\n",
       "      <td>searchterm: &lt;div id=\"mbff42c79_tdrow_\\[C:0\\]_t...</td>\n",
       "    </tr>\n",
       "    <tr>\n",
       "      <th>2018-03-13 20:39:51</th>\n",
       "      <td>2018-03-13 20:39:51</td>\n",
       "      <td>0005</td>\n",
       "      <td>Billing</td>\n",
       "      <td>Select All Records 1</td>\n",
       "      <td>45</td>\n",
       "      <td>Success Validation Failure</td>\n",
       "      <td>operation resulted in a table with zero rows</td>\n",
       "      <td>searchterm: &lt;div id=\"mbff42c79_tdrow_\\[C:0\\]_t...</td>\n",
       "    </tr>\n",
       "    <tr>\n",
       "      <th>2018-03-13 20:40:51</th>\n",
       "      <td>2018-03-13 20:40:51</td>\n",
       "      <td>0005</td>\n",
       "      <td>Billing</td>\n",
       "      <td>Select All Records 1</td>\n",
       "      <td>46</td>\n",
       "      <td>Success Validation Failure</td>\n",
       "      <td>operation resulted in a table with zero rows</td>\n",
       "      <td>searchterm: &lt;div id=\"mbff42c79_tdrow_\\[C:0\\]_t...</td>\n",
       "    </tr>\n",
       "    <tr>\n",
       "      <th>2018-03-13 20:41:51</th>\n",
       "      <td>2018-03-13 20:41:51</td>\n",
       "      <td>0005</td>\n",
       "      <td>Billing</td>\n",
       "      <td>Select All Records 1</td>\n",
       "      <td>47</td>\n",
       "      <td>Success Validation Failure</td>\n",
       "      <td>operation resulted in a table with zero rows</td>\n",
       "      <td>searchterm: &lt;div id=\"mbff42c79_tdrow_\\[C:0\\]_t...</td>\n",
       "    </tr>\n",
       "    <tr>\n",
       "      <th>2018-03-13 20:42:51</th>\n",
       "      <td>2018-03-13 20:42:51</td>\n",
       "      <td>0005</td>\n",
       "      <td>Billing</td>\n",
       "      <td>Select All Records 1</td>\n",
       "      <td>48</td>\n",
       "      <td>Success Validation Failure</td>\n",
       "      <td>operation resulted in a table with zero rows</td>\n",
       "      <td>searchterm: &lt;div id=\"mbff42c79_tdrow_\\[C:0\\]_t...</td>\n",
       "    </tr>\n",
       "    <tr>\n",
       "      <th>2018-03-13 20:43:53</th>\n",
       "      <td>2018-03-13 20:43:53</td>\n",
       "      <td>0005</td>\n",
       "      <td>Billing</td>\n",
       "      <td>Select All Records 1</td>\n",
       "      <td>49</td>\n",
       "      <td>Success Validation Failure</td>\n",
       "      <td>operation resulted in a table with zero rows</td>\n",
       "      <td>searchterm: &lt;div id=\"mbff42c79_tdrow_\\[C:0\\]_t...</td>\n",
       "    </tr>\n",
       "    <tr>\n",
       "      <th>2018-03-13 20:44:52</th>\n",
       "      <td>2018-03-13 20:44:52</td>\n",
       "      <td>0005</td>\n",
       "      <td>Billing</td>\n",
       "      <td>Select All Records 1</td>\n",
       "      <td>50</td>\n",
       "      <td>Success Validation Failure</td>\n",
       "      <td>operation resulted in a table with zero rows</td>\n",
       "      <td>searchterm: &lt;div id=\"mbff42c79_tdrow_\\[C:0\\]_t...</td>\n",
       "    </tr>\n",
       "    <tr>\n",
       "      <th>2018-03-13 20:45:52</th>\n",
       "      <td>2018-03-13 20:45:52</td>\n",
       "      <td>0005</td>\n",
       "      <td>Billing</td>\n",
       "      <td>Select All Records 1</td>\n",
       "      <td>51</td>\n",
       "      <td>Success Validation Failure</td>\n",
       "      <td>operation resulted in a table with zero rows</td>\n",
       "      <td>searchterm: &lt;div id=\"mbff42c79_tdrow_\\[C:0\\]_t...</td>\n",
       "    </tr>\n",
       "    <tr>\n",
       "      <th>2018-03-13 20:46:51</th>\n",
       "      <td>2018-03-13 20:46:51</td>\n",
       "      <td>0005</td>\n",
       "      <td>Billing</td>\n",
       "      <td>Select All Records 1</td>\n",
       "      <td>52</td>\n",
       "      <td>Success Validation Failure</td>\n",
       "      <td>operation resulted in a table with zero rows</td>\n",
       "      <td>searchterm: &lt;div id=\"mbff42c79_tdrow_\\[C:0\\]_t...</td>\n",
       "    </tr>\n",
       "    <tr>\n",
       "      <th>2018-03-13 20:47:50</th>\n",
       "      <td>2018-03-13 20:47:50</td>\n",
       "      <td>0005</td>\n",
       "      <td>Billing</td>\n",
       "      <td>Select All Records 1</td>\n",
       "      <td>53</td>\n",
       "      <td>Success Validation Failure</td>\n",
       "      <td>operation resulted in a table with zero rows</td>\n",
       "      <td>searchterm: &lt;div id=\"mbff42c79_tdrow_\\[C:0\\]_t...</td>\n",
       "    </tr>\n",
       "    <tr>\n",
       "      <th>2018-03-13 20:48:49</th>\n",
       "      <td>2018-03-13 20:48:49</td>\n",
       "      <td>0005</td>\n",
       "      <td>Billing</td>\n",
       "      <td>Select All Records 1</td>\n",
       "      <td>54</td>\n",
       "      <td>Success Validation Failure</td>\n",
       "      <td>operation resulted in a table with zero rows</td>\n",
       "      <td>searchterm: &lt;div id=\"mbff42c79_tdrow_\\[C:0\\]_t...</td>\n",
       "    </tr>\n",
       "    <tr>\n",
       "      <th>2018-03-13 20:49:48</th>\n",
       "      <td>2018-03-13 20:49:48</td>\n",
       "      <td>0005</td>\n",
       "      <td>Billing</td>\n",
       "      <td>Select All Records 1</td>\n",
       "      <td>55</td>\n",
       "      <td>Success Validation Failure</td>\n",
       "      <td>operation resulted in a table with zero rows</td>\n",
       "      <td>searchterm: &lt;div id=\"mbff42c79_tdrow_\\[C:0\\]_t...</td>\n",
       "    </tr>\n",
       "    <tr>\n",
       "      <th>2018-03-13 20:50:47</th>\n",
       "      <td>2018-03-13 20:50:47</td>\n",
       "      <td>0005</td>\n",
       "      <td>Billing</td>\n",
       "      <td>Select All Records 1</td>\n",
       "      <td>56</td>\n",
       "      <td>Success Validation Failure</td>\n",
       "      <td>operation resulted in a table with zero rows</td>\n",
       "      <td>searchterm: &lt;div id=\"mbff42c79_tdrow_\\[C:0\\]_t...</td>\n",
       "    </tr>\n",
       "    <tr>\n",
       "      <th>2018-03-13 20:51:46</th>\n",
       "      <td>2018-03-13 20:51:46</td>\n",
       "      <td>0005</td>\n",
       "      <td>Billing</td>\n",
       "      <td>Select All Records 1</td>\n",
       "      <td>57</td>\n",
       "      <td>Success Validation Failure</td>\n",
       "      <td>operation resulted in a table with zero rows</td>\n",
       "      <td>searchterm: &lt;div id=\"mbff42c79_tdrow_\\[C:0\\]_t...</td>\n",
       "    </tr>\n",
       "    <tr>\n",
       "      <th>2018-03-13 20:52:45</th>\n",
       "      <td>2018-03-13 20:52:45</td>\n",
       "      <td>0005</td>\n",
       "      <td>Billing</td>\n",
       "      <td>Select All Records 1</td>\n",
       "      <td>58</td>\n",
       "      <td>Success Validation Failure</td>\n",
       "      <td>operation resulted in a table with zero rows</td>\n",
       "      <td>searchterm: &lt;div id=\"mbff42c79_tdrow_\\[C:0\\]_t...</td>\n",
       "    </tr>\n",
       "    <tr>\n",
       "      <th>2018-03-13 20:53:45</th>\n",
       "      <td>2018-03-13 20:53:45</td>\n",
       "      <td>0005</td>\n",
       "      <td>Billing</td>\n",
       "      <td>Select All Records 1</td>\n",
       "      <td>59</td>\n",
       "      <td>Success Validation Failure</td>\n",
       "      <td>operation resulted in a table with zero rows</td>\n",
       "      <td>searchterm: &lt;div id=\"mbff42c79_tdrow_\\[C:0\\]_t...</td>\n",
       "    </tr>\n",
       "    <tr>\n",
       "      <th>2018-03-13 20:54:40</th>\n",
       "      <td>2018-03-13 20:54:40</td>\n",
       "      <td>0005</td>\n",
       "      <td>Billing</td>\n",
       "      <td>Select All Records 1</td>\n",
       "      <td>60</td>\n",
       "      <td>Success Validation Failure</td>\n",
       "      <td>operation resulted in a table with zero rows</td>\n",
       "      <td>searchterm: &lt;div id=\"mbff42c79_tdrow_\\[C:0\\]_t...</td>\n",
       "    </tr>\n",
       "    <tr>\n",
       "      <th>2018-03-13 20:55:42</th>\n",
       "      <td>2018-03-13 20:55:42</td>\n",
       "      <td>0005</td>\n",
       "      <td>Billing</td>\n",
       "      <td>Select All Records 1</td>\n",
       "      <td>61</td>\n",
       "      <td>Success Validation Failure</td>\n",
       "      <td>operation resulted in a table with zero rows</td>\n",
       "      <td>searchterm: &lt;div id=\"mbff42c79_tdrow_\\[C:0\\]_t...</td>\n",
       "    </tr>\n",
       "    <tr>\n",
       "      <th>2018-03-13 20:56:41</th>\n",
       "      <td>2018-03-13 20:56:41</td>\n",
       "      <td>0005</td>\n",
       "      <td>Billing</td>\n",
       "      <td>Select All Records 1</td>\n",
       "      <td>62</td>\n",
       "      <td>Success Validation Failure</td>\n",
       "      <td>operation resulted in a table with zero rows</td>\n",
       "      <td>searchterm: &lt;div id=\"mbff42c79_tdrow_\\[C:0\\]_t...</td>\n",
       "    </tr>\n",
       "    <tr>\n",
       "      <th>2018-03-13 20:57:40</th>\n",
       "      <td>2018-03-13 20:57:40</td>\n",
       "      <td>0005</td>\n",
       "      <td>Billing</td>\n",
       "      <td>Select All Records 1</td>\n",
       "      <td>63</td>\n",
       "      <td>Success Validation Failure</td>\n",
       "      <td>operation resulted in a table with zero rows</td>\n",
       "      <td>searchterm: &lt;div id=\"mbff42c79_tdrow_\\[C:0\\]_t...</td>\n",
       "    </tr>\n",
       "    <tr>\n",
       "      <th>2018-03-13 20:58:41</th>\n",
       "      <td>2018-03-13 20:58:41</td>\n",
       "      <td>0005</td>\n",
       "      <td>Billing</td>\n",
       "      <td>Select All Records 1</td>\n",
       "      <td>64</td>\n",
       "      <td>Success Validation Failure</td>\n",
       "      <td>operation resulted in a table with zero rows</td>\n",
       "      <td>searchterm: &lt;div id=\"mbff42c79_tdrow_\\[C:0\\]_t...</td>\n",
       "    </tr>\n",
       "    <tr>\n",
       "      <th>2018-03-13 20:59:37</th>\n",
       "      <td>2018-03-13 20:59:37</td>\n",
       "      <td>0005</td>\n",
       "      <td>Billing</td>\n",
       "      <td>Select All Records 1</td>\n",
       "      <td>65</td>\n",
       "      <td>Success Validation Failure</td>\n",
       "      <td>operation resulted in a table with zero rows</td>\n",
       "      <td>searchterm: &lt;div id=\"mbff42c79_tdrow_\\[C:0\\]_t...</td>\n",
       "    </tr>\n",
       "    <tr>\n",
       "      <th>2018-03-13 21:00:34</th>\n",
       "      <td>2018-03-13 21:00:34</td>\n",
       "      <td>0005</td>\n",
       "      <td>Billing</td>\n",
       "      <td>Select All Records 1</td>\n",
       "      <td>66</td>\n",
       "      <td>Success Validation Failure</td>\n",
       "      <td>operation resulted in a table with zero rows</td>\n",
       "      <td>searchterm: &lt;div id=\"mbff42c79_tdrow_\\[C:0\\]_t...</td>\n",
       "    </tr>\n",
       "    <tr>\n",
       "      <th>2018-03-13 21:01:36</th>\n",
       "      <td>2018-03-13 21:01:36</td>\n",
       "      <td>0005</td>\n",
       "      <td>Billing</td>\n",
       "      <td>Select All Records 1</td>\n",
       "      <td>67</td>\n",
       "      <td>Success Validation Failure</td>\n",
       "      <td>operation resulted in a table with zero rows</td>\n",
       "      <td>searchterm: &lt;div id=\"mbff42c79_tdrow_\\[C:0\\]_t...</td>\n",
       "    </tr>\n",
       "  </tbody>\n",
       "</table>\n",
       "</div>"
      ],
      "text/plain": [
       "                                   time  user       uj                  step  \\\n",
       "time                                                                           \n",
       "2018-03-13 20:03:02 2018-03-13 20:03:02  0005  Billing          Select SR OK   \n",
       "2018-03-13 20:04:08 2018-03-13 20:04:08  0005  Billing          Select SR OK   \n",
       "2018-03-13 20:05:09 2018-03-13 20:05:09  0005  Billing          Select SR OK   \n",
       "2018-03-13 20:06:12 2018-03-13 20:06:12  0005  Billing          Select SR OK   \n",
       "2018-03-13 20:07:19 2018-03-13 20:07:19  0005  Billing          Select SR OK   \n",
       "2018-03-13 20:11:00 2018-03-13 20:11:00  0005  Billing          Select SR OK   \n",
       "2018-03-13 20:12:01 2018-03-13 20:12:01  0005  Billing  Select All Records 1   \n",
       "2018-03-13 20:12:59 2018-03-13 20:12:59  0005  Billing  Select All Records 1   \n",
       "2018-03-13 20:13:55 2018-03-13 20:13:55  0005  Billing  Select All Records 1   \n",
       "2018-03-13 20:14:56 2018-03-13 20:14:56  0005  Billing  Select All Records 1   \n",
       "2018-03-13 20:15:55 2018-03-13 20:15:55  0005  Billing  Select All Records 1   \n",
       "2018-03-13 20:16:54 2018-03-13 20:16:54  0005  Billing  Select All Records 1   \n",
       "2018-03-13 20:17:54 2018-03-13 20:17:54  0005  Billing  Select All Records 1   \n",
       "2018-03-13 20:18:55 2018-03-13 20:18:55  0005  Billing  Select All Records 1   \n",
       "2018-03-13 20:19:57 2018-03-13 20:19:57  0005  Billing  Select All Records 1   \n",
       "2018-03-13 20:20:57 2018-03-13 20:20:57  0005  Billing  Select All Records 1   \n",
       "2018-03-13 20:21:56 2018-03-13 20:21:56  0005  Billing  Select All Records 1   \n",
       "2018-03-13 20:22:56 2018-03-13 20:22:56  0005  Billing  Select All Records 1   \n",
       "2018-03-13 20:23:54 2018-03-13 20:23:54  0005  Billing  Select All Records 1   \n",
       "2018-03-13 20:24:54 2018-03-13 20:24:54  0005  Billing  Select All Records 1   \n",
       "2018-03-13 20:25:52 2018-03-13 20:25:52  0005  Billing  Select All Records 1   \n",
       "2018-03-13 20:26:53 2018-03-13 20:26:53  0005  Billing  Select All Records 1   \n",
       "2018-03-13 20:27:53 2018-03-13 20:27:53  0005  Billing  Select All Records 1   \n",
       "2018-03-13 20:28:52 2018-03-13 20:28:52  0005  Billing  Select All Records 1   \n",
       "2018-03-13 20:29:51 2018-03-13 20:29:51  0005  Billing  Select All Records 1   \n",
       "2018-03-13 20:30:50 2018-03-13 20:30:50  0005  Billing  Select All Records 1   \n",
       "2018-03-13 20:31:50 2018-03-13 20:31:50  0005  Billing  Select All Records 1   \n",
       "2018-03-13 20:32:50 2018-03-13 20:32:50  0005  Billing  Select All Records 1   \n",
       "2018-03-13 20:33:48 2018-03-13 20:33:48  0005  Billing  Select All Records 1   \n",
       "2018-03-13 20:34:51 2018-03-13 20:34:51  0005  Billing  Select All Records 1   \n",
       "2018-03-13 20:35:52 2018-03-13 20:35:52  0005  Billing  Select All Records 1   \n",
       "2018-03-13 20:36:51 2018-03-13 20:36:51  0005  Billing  Select All Records 1   \n",
       "2018-03-13 20:37:50 2018-03-13 20:37:50  0005  Billing  Select All Records 1   \n",
       "2018-03-13 20:38:52 2018-03-13 20:38:52  0005  Billing  Select All Records 1   \n",
       "2018-03-13 20:39:51 2018-03-13 20:39:51  0005  Billing  Select All Records 1   \n",
       "2018-03-13 20:40:51 2018-03-13 20:40:51  0005  Billing  Select All Records 1   \n",
       "2018-03-13 20:41:51 2018-03-13 20:41:51  0005  Billing  Select All Records 1   \n",
       "2018-03-13 20:42:51 2018-03-13 20:42:51  0005  Billing  Select All Records 1   \n",
       "2018-03-13 20:43:53 2018-03-13 20:43:53  0005  Billing  Select All Records 1   \n",
       "2018-03-13 20:44:52 2018-03-13 20:44:52  0005  Billing  Select All Records 1   \n",
       "2018-03-13 20:45:52 2018-03-13 20:45:52  0005  Billing  Select All Records 1   \n",
       "2018-03-13 20:46:51 2018-03-13 20:46:51  0005  Billing  Select All Records 1   \n",
       "2018-03-13 20:47:50 2018-03-13 20:47:50  0005  Billing  Select All Records 1   \n",
       "2018-03-13 20:48:49 2018-03-13 20:48:49  0005  Billing  Select All Records 1   \n",
       "2018-03-13 20:49:48 2018-03-13 20:49:48  0005  Billing  Select All Records 1   \n",
       "2018-03-13 20:50:47 2018-03-13 20:50:47  0005  Billing  Select All Records 1   \n",
       "2018-03-13 20:51:46 2018-03-13 20:51:46  0005  Billing  Select All Records 1   \n",
       "2018-03-13 20:52:45 2018-03-13 20:52:45  0005  Billing  Select All Records 1   \n",
       "2018-03-13 20:53:45 2018-03-13 20:53:45  0005  Billing  Select All Records 1   \n",
       "2018-03-13 20:54:40 2018-03-13 20:54:40  0005  Billing  Select All Records 1   \n",
       "2018-03-13 20:55:42 2018-03-13 20:55:42  0005  Billing  Select All Records 1   \n",
       "2018-03-13 20:56:41 2018-03-13 20:56:41  0005  Billing  Select All Records 1   \n",
       "2018-03-13 20:57:40 2018-03-13 20:57:40  0005  Billing  Select All Records 1   \n",
       "2018-03-13 20:58:41 2018-03-13 20:58:41  0005  Billing  Select All Records 1   \n",
       "2018-03-13 20:59:37 2018-03-13 20:59:37  0005  Billing  Select All Records 1   \n",
       "2018-03-13 21:00:34 2018-03-13 21:00:34  0005  Billing  Select All Records 1   \n",
       "2018-03-13 21:01:36 2018-03-13 21:01:36  0005  Billing  Select All Records 1   \n",
       "\n",
       "                    cycle                  error type  \\\n",
       "time                                                    \n",
       "2018-03-13 20:03:02    10  Success Validation Failure   \n",
       "2018-03-13 20:04:08    11  Success Validation Failure   \n",
       "2018-03-13 20:05:09    12  Success Validation Failure   \n",
       "2018-03-13 20:06:12    13  Success Validation Failure   \n",
       "2018-03-13 20:07:19    14  Success Validation Failure   \n",
       "2018-03-13 20:11:00    16  Success Validation Failure   \n",
       "2018-03-13 20:12:01    17  Success Validation Failure   \n",
       "2018-03-13 20:12:59    18  Success Validation Failure   \n",
       "2018-03-13 20:13:55    19  Success Validation Failure   \n",
       "2018-03-13 20:14:56    20  Success Validation Failure   \n",
       "2018-03-13 20:15:55    21  Success Validation Failure   \n",
       "2018-03-13 20:16:54    22  Success Validation Failure   \n",
       "2018-03-13 20:17:54    23  Success Validation Failure   \n",
       "2018-03-13 20:18:55    24  Success Validation Failure   \n",
       "2018-03-13 20:19:57    25  Success Validation Failure   \n",
       "2018-03-13 20:20:57    26  Success Validation Failure   \n",
       "2018-03-13 20:21:56    27  Success Validation Failure   \n",
       "2018-03-13 20:22:56    28  Success Validation Failure   \n",
       "2018-03-13 20:23:54    29  Success Validation Failure   \n",
       "2018-03-13 20:24:54    30  Success Validation Failure   \n",
       "2018-03-13 20:25:52    31  Success Validation Failure   \n",
       "2018-03-13 20:26:53    32  Success Validation Failure   \n",
       "2018-03-13 20:27:53    33  Success Validation Failure   \n",
       "2018-03-13 20:28:52    34  Success Validation Failure   \n",
       "2018-03-13 20:29:51    35  Success Validation Failure   \n",
       "2018-03-13 20:30:50    36  Success Validation Failure   \n",
       "2018-03-13 20:31:50    37  Success Validation Failure   \n",
       "2018-03-13 20:32:50    38  Success Validation Failure   \n",
       "2018-03-13 20:33:48    39  Success Validation Failure   \n",
       "2018-03-13 20:34:51    40  Success Validation Failure   \n",
       "2018-03-13 20:35:52    41  Success Validation Failure   \n",
       "2018-03-13 20:36:51    42  Success Validation Failure   \n",
       "2018-03-13 20:37:50    43  Success Validation Failure   \n",
       "2018-03-13 20:38:52    44  Success Validation Failure   \n",
       "2018-03-13 20:39:51    45  Success Validation Failure   \n",
       "2018-03-13 20:40:51    46  Success Validation Failure   \n",
       "2018-03-13 20:41:51    47  Success Validation Failure   \n",
       "2018-03-13 20:42:51    48  Success Validation Failure   \n",
       "2018-03-13 20:43:53    49  Success Validation Failure   \n",
       "2018-03-13 20:44:52    50  Success Validation Failure   \n",
       "2018-03-13 20:45:52    51  Success Validation Failure   \n",
       "2018-03-13 20:46:51    52  Success Validation Failure   \n",
       "2018-03-13 20:47:50    53  Success Validation Failure   \n",
       "2018-03-13 20:48:49    54  Success Validation Failure   \n",
       "2018-03-13 20:49:48    55  Success Validation Failure   \n",
       "2018-03-13 20:50:47    56  Success Validation Failure   \n",
       "2018-03-13 20:51:46    57  Success Validation Failure   \n",
       "2018-03-13 20:52:45    58  Success Validation Failure   \n",
       "2018-03-13 20:53:45    59  Success Validation Failure   \n",
       "2018-03-13 20:54:40    60  Success Validation Failure   \n",
       "2018-03-13 20:55:42    61  Success Validation Failure   \n",
       "2018-03-13 20:56:41    62  Success Validation Failure   \n",
       "2018-03-13 20:57:40    63  Success Validation Failure   \n",
       "2018-03-13 20:58:41    64  Success Validation Failure   \n",
       "2018-03-13 20:59:37    65  Success Validation Failure   \n",
       "2018-03-13 21:00:34    66  Success Validation Failure   \n",
       "2018-03-13 21:01:36    67  Success Validation Failure   \n",
       "\n",
       "                                                      error cause  \\\n",
       "time                                                                \n",
       "2018-03-13 20:03:02                              Critical Message   \n",
       "2018-03-13 20:04:08                              Critical Message   \n",
       "2018-03-13 20:05:09                              Critical Message   \n",
       "2018-03-13 20:06:12                              Critical Message   \n",
       "2018-03-13 20:07:19                              Critical Message   \n",
       "2018-03-13 20:11:00                              Critical Message   \n",
       "2018-03-13 20:12:01  operation resulted in a table with zero rows   \n",
       "2018-03-13 20:12:59  operation resulted in a table with zero rows   \n",
       "2018-03-13 20:13:55  operation resulted in a table with zero rows   \n",
       "2018-03-13 20:14:56  operation resulted in a table with zero rows   \n",
       "2018-03-13 20:15:55  operation resulted in a table with zero rows   \n",
       "2018-03-13 20:16:54  operation resulted in a table with zero rows   \n",
       "2018-03-13 20:17:54  operation resulted in a table with zero rows   \n",
       "2018-03-13 20:18:55  operation resulted in a table with zero rows   \n",
       "2018-03-13 20:19:57  operation resulted in a table with zero rows   \n",
       "2018-03-13 20:20:57  operation resulted in a table with zero rows   \n",
       "2018-03-13 20:21:56  operation resulted in a table with zero rows   \n",
       "2018-03-13 20:22:56  operation resulted in a table with zero rows   \n",
       "2018-03-13 20:23:54  operation resulted in a table with zero rows   \n",
       "2018-03-13 20:24:54  operation resulted in a table with zero rows   \n",
       "2018-03-13 20:25:52  operation resulted in a table with zero rows   \n",
       "2018-03-13 20:26:53  operation resulted in a table with zero rows   \n",
       "2018-03-13 20:27:53  operation resulted in a table with zero rows   \n",
       "2018-03-13 20:28:52  operation resulted in a table with zero rows   \n",
       "2018-03-13 20:29:51  operation resulted in a table with zero rows   \n",
       "2018-03-13 20:30:50  operation resulted in a table with zero rows   \n",
       "2018-03-13 20:31:50  operation resulted in a table with zero rows   \n",
       "2018-03-13 20:32:50  operation resulted in a table with zero rows   \n",
       "2018-03-13 20:33:48  operation resulted in a table with zero rows   \n",
       "2018-03-13 20:34:51  operation resulted in a table with zero rows   \n",
       "2018-03-13 20:35:52  operation resulted in a table with zero rows   \n",
       "2018-03-13 20:36:51  operation resulted in a table with zero rows   \n",
       "2018-03-13 20:37:50  operation resulted in a table with zero rows   \n",
       "2018-03-13 20:38:52  operation resulted in a table with zero rows   \n",
       "2018-03-13 20:39:51  operation resulted in a table with zero rows   \n",
       "2018-03-13 20:40:51  operation resulted in a table with zero rows   \n",
       "2018-03-13 20:41:51  operation resulted in a table with zero rows   \n",
       "2018-03-13 20:42:51  operation resulted in a table with zero rows   \n",
       "2018-03-13 20:43:53  operation resulted in a table with zero rows   \n",
       "2018-03-13 20:44:52  operation resulted in a table with zero rows   \n",
       "2018-03-13 20:45:52  operation resulted in a table with zero rows   \n",
       "2018-03-13 20:46:51  operation resulted in a table with zero rows   \n",
       "2018-03-13 20:47:50  operation resulted in a table with zero rows   \n",
       "2018-03-13 20:48:49  operation resulted in a table with zero rows   \n",
       "2018-03-13 20:49:48  operation resulted in a table with zero rows   \n",
       "2018-03-13 20:50:47  operation resulted in a table with zero rows   \n",
       "2018-03-13 20:51:46  operation resulted in a table with zero rows   \n",
       "2018-03-13 20:52:45  operation resulted in a table with zero rows   \n",
       "2018-03-13 20:53:45  operation resulted in a table with zero rows   \n",
       "2018-03-13 20:54:40  operation resulted in a table with zero rows   \n",
       "2018-03-13 20:55:42  operation resulted in a table with zero rows   \n",
       "2018-03-13 20:56:41  operation resulted in a table with zero rows   \n",
       "2018-03-13 20:57:40  operation resulted in a table with zero rows   \n",
       "2018-03-13 20:58:41  operation resulted in a table with zero rows   \n",
       "2018-03-13 20:59:37  operation resulted in a table with zero rows   \n",
       "2018-03-13 21:00:34  operation resulted in a table with zero rows   \n",
       "2018-03-13 21:01:36  operation resulted in a table with zero rows   \n",
       "\n",
       "                                                     cause message/ddi  \n",
       "time                                                                    \n",
       "2018-03-13 20:03:02  BMXAQ0426E - A new bill for the customer agree...  \n",
       "2018-03-13 20:04:08  BMXAQ0426E - A new bill for the customer agree...  \n",
       "2018-03-13 20:05:09  BMXAQ0426E - A new bill for the customer agree...  \n",
       "2018-03-13 20:06:12  BMXAQ0426E - A new bill for the customer agree...  \n",
       "2018-03-13 20:07:19  BMXAQ0426E - A new bill for the customer agree...  \n",
       "2018-03-13 20:11:00  BMXAQ0426E - A new bill for the customer agree...  \n",
       "2018-03-13 20:12:01  searchterm: <div id=\"mbff42c79_tdrow_\\[C:0\\]_t...  \n",
       "2018-03-13 20:12:59  searchterm: <div id=\"mbff42c79_tdrow_\\[C:0\\]_t...  \n",
       "2018-03-13 20:13:55  searchterm: <div id=\"mbff42c79_tdrow_\\[C:0\\]_t...  \n",
       "2018-03-13 20:14:56  searchterm: <div id=\"mbff42c79_tdrow_\\[C:0\\]_t...  \n",
       "2018-03-13 20:15:55  searchterm: <div id=\"mbff42c79_tdrow_\\[C:0\\]_t...  \n",
       "2018-03-13 20:16:54  searchterm: <div id=\"mbff42c79_tdrow_\\[C:0\\]_t...  \n",
       "2018-03-13 20:17:54  searchterm: <div id=\"mbff42c79_tdrow_\\[C:0\\]_t...  \n",
       "2018-03-13 20:18:55  searchterm: <div id=\"mbff42c79_tdrow_\\[C:0\\]_t...  \n",
       "2018-03-13 20:19:57  searchterm: <div id=\"mbff42c79_tdrow_\\[C:0\\]_t...  \n",
       "2018-03-13 20:20:57  searchterm: <div id=\"mbff42c79_tdrow_\\[C:0\\]_t...  \n",
       "2018-03-13 20:21:56  searchterm: <div id=\"mbff42c79_tdrow_\\[C:0\\]_t...  \n",
       "2018-03-13 20:22:56  searchterm: <div id=\"mbff42c79_tdrow_\\[C:0\\]_t...  \n",
       "2018-03-13 20:23:54  searchterm: <div id=\"mbff42c79_tdrow_\\[C:0\\]_t...  \n",
       "2018-03-13 20:24:54  searchterm: <div id=\"mbff42c79_tdrow_\\[C:0\\]_t...  \n",
       "2018-03-13 20:25:52  searchterm: <div id=\"mbff42c79_tdrow_\\[C:0\\]_t...  \n",
       "2018-03-13 20:26:53  searchterm: <div id=\"mbff42c79_tdrow_\\[C:0\\]_t...  \n",
       "2018-03-13 20:27:53  searchterm: <div id=\"mbff42c79_tdrow_\\[C:0\\]_t...  \n",
       "2018-03-13 20:28:52  searchterm: <div id=\"mbff42c79_tdrow_\\[C:0\\]_t...  \n",
       "2018-03-13 20:29:51  searchterm: <div id=\"mbff42c79_tdrow_\\[C:0\\]_t...  \n",
       "2018-03-13 20:30:50  searchterm: <div id=\"mbff42c79_tdrow_\\[C:0\\]_t...  \n",
       "2018-03-13 20:31:50  searchterm: <div id=\"mbff42c79_tdrow_\\[C:0\\]_t...  \n",
       "2018-03-13 20:32:50  searchterm: <div id=\"mbff42c79_tdrow_\\[C:0\\]_t...  \n",
       "2018-03-13 20:33:48  searchterm: <div id=\"mbff42c79_tdrow_\\[C:0\\]_t...  \n",
       "2018-03-13 20:34:51  searchterm: <div id=\"mbff42c79_tdrow_\\[C:0\\]_t...  \n",
       "2018-03-13 20:35:52  searchterm: <div id=\"mbff42c79_tdrow_\\[C:0\\]_t...  \n",
       "2018-03-13 20:36:51  searchterm: <div id=\"mbff42c79_tdrow_\\[C:0\\]_t...  \n",
       "2018-03-13 20:37:50  searchterm: <div id=\"mbff42c79_tdrow_\\[C:0\\]_t...  \n",
       "2018-03-13 20:38:52  searchterm: <div id=\"mbff42c79_tdrow_\\[C:0\\]_t...  \n",
       "2018-03-13 20:39:51  searchterm: <div id=\"mbff42c79_tdrow_\\[C:0\\]_t...  \n",
       "2018-03-13 20:40:51  searchterm: <div id=\"mbff42c79_tdrow_\\[C:0\\]_t...  \n",
       "2018-03-13 20:41:51  searchterm: <div id=\"mbff42c79_tdrow_\\[C:0\\]_t...  \n",
       "2018-03-13 20:42:51  searchterm: <div id=\"mbff42c79_tdrow_\\[C:0\\]_t...  \n",
       "2018-03-13 20:43:53  searchterm: <div id=\"mbff42c79_tdrow_\\[C:0\\]_t...  \n",
       "2018-03-13 20:44:52  searchterm: <div id=\"mbff42c79_tdrow_\\[C:0\\]_t...  \n",
       "2018-03-13 20:45:52  searchterm: <div id=\"mbff42c79_tdrow_\\[C:0\\]_t...  \n",
       "2018-03-13 20:46:51  searchterm: <div id=\"mbff42c79_tdrow_\\[C:0\\]_t...  \n",
       "2018-03-13 20:47:50  searchterm: <div id=\"mbff42c79_tdrow_\\[C:0\\]_t...  \n",
       "2018-03-13 20:48:49  searchterm: <div id=\"mbff42c79_tdrow_\\[C:0\\]_t...  \n",
       "2018-03-13 20:49:48  searchterm: <div id=\"mbff42c79_tdrow_\\[C:0\\]_t...  \n",
       "2018-03-13 20:50:47  searchterm: <div id=\"mbff42c79_tdrow_\\[C:0\\]_t...  \n",
       "2018-03-13 20:51:46  searchterm: <div id=\"mbff42c79_tdrow_\\[C:0\\]_t...  \n",
       "2018-03-13 20:52:45  searchterm: <div id=\"mbff42c79_tdrow_\\[C:0\\]_t...  \n",
       "2018-03-13 20:53:45  searchterm: <div id=\"mbff42c79_tdrow_\\[C:0\\]_t...  \n",
       "2018-03-13 20:54:40  searchterm: <div id=\"mbff42c79_tdrow_\\[C:0\\]_t...  \n",
       "2018-03-13 20:55:42  searchterm: <div id=\"mbff42c79_tdrow_\\[C:0\\]_t...  \n",
       "2018-03-13 20:56:41  searchterm: <div id=\"mbff42c79_tdrow_\\[C:0\\]_t...  \n",
       "2018-03-13 20:57:40  searchterm: <div id=\"mbff42c79_tdrow_\\[C:0\\]_t...  \n",
       "2018-03-13 20:58:41  searchterm: <div id=\"mbff42c79_tdrow_\\[C:0\\]_t...  \n",
       "2018-03-13 20:59:37  searchterm: <div id=\"mbff42c79_tdrow_\\[C:0\\]_t...  \n",
       "2018-03-13 21:00:34  searchterm: <div id=\"mbff42c79_tdrow_\\[C:0\\]_t...  \n",
       "2018-03-13 21:01:36  searchterm: <div id=\"mbff42c79_tdrow_\\[C:0\\]_t...  "
      ]
     },
     "metadata": {},
     "output_type": "display_data"
    }
   ],
   "source": [
    "pd.options.display.max_rows = 9999\n",
    "display(errs9)"
   ]
  },
  {
   "cell_type": "markdown",
   "metadata": {},
   "source": [
    "-------------------------------------"
   ]
  },
  {
   "cell_type": "code",
   "execution_count": null,
   "metadata": {
    "collapsed": false
   },
   "outputs": [],
   "source": [
    "sdf = timeslice(errs9, datetime(2018, 1, 29, 9, 41, 26), datetime(2018, 1, 29, 9, 41, 27))\n",
    "print(sdf)\n",
    "sdf = timeslice(errs9, '2018-1-29T9:41:26', '2018-1-29T9:41:27')\n",
    "print(sdf)"
   ]
  },
  {
   "cell_type": "code",
   "execution_count": null,
   "metadata": {
    "collapsed": false
   },
   "outputs": [],
   "source": [
    "# errs9['2018-1-29 9:41']"
   ]
  },
  {
   "cell_type": "markdown",
   "metadata": {},
   "source": [
    "https://jakevdp.github.io/PythonDataScienceHandbook/03.11-working-with-time-series.html#Resampling-and-converting-frequencies"
   ]
  },
  {
   "cell_type": "code",
   "execution_count": null,
   "metadata": {
    "collapsed": false
   },
   "outputs": [],
   "source": [
    "vusers['0005'].errors[0].show() # shorten=False)"
   ]
  },
  {
   "cell_type": "markdown",
   "metadata": {},
   "source": [
    "user 5 (or 7) on SOPS:: \n",
    "BMXAA8229W - Record WORKORDER :  Site=WW Work Order=4880902 has been updated by another user. Your changes have not been saved. Refresh the record and try again.\n",
    "\n",
    "user 4 on BAYVIEW:\n",
    "BMXAA8229W - Record WORKORDER :  Site=WW Work Order=4880921 has been updated by another user. Your changes have not been saved. Refresh the record and try again."
   ]
  },
  {
   "cell_type": "code",
   "execution_count": null,
   "metadata": {
    "collapsed": false
   },
   "outputs": [],
   "source": [
    "# FAIL HERE"
   ]
  },
  {
   "cell_type": "markdown",
   "metadata": {},
   "source": [
    "It seems to be working. The key factors are:\n",
    "* errors='coerce'\n",
    "* udf.index = \n",
    "* lookup references should be done by range of datetimes !\n",
    "\n",
    "The double rows for column names is rather a quirk of the \"pretty print\" in Jupyter, since `udf.columns.nlevels` returns 1"
   ]
  },
  {
   "cell_type": "code",
   "execution_count": null,
   "metadata": {
    "collapsed": false
   },
   "outputs": [],
   "source": [
    "udf = errs9\n",
    "udf.columns.nlevels"
   ]
  },
  {
   "cell_type": "markdown",
   "metadata": {},
   "source": [
    "-----------------------------------------"
   ]
  },
  {
   "cell_type": "code",
   "execution_count": null,
   "metadata": {
    "collapsed": true
   },
   "outputs": [],
   "source": [
    "# from pandas.tseries import converter as pdtc\n",
    "# import matplotlib.units as munits\n",
    "# import numpy as np\n",
    "\n",
    "# munits.registry[np.datetime64] = pdtc.DatetimeConverter()"
   ]
  },
  {
   "cell_type": "code",
   "execution_count": null,
   "metadata": {
    "collapsed": true
   },
   "outputs": [],
   "source": [
    "def plotit(df, plot_params):\n",
    "    \n",
    "    fig, ax1 = plt.subplots()\n",
    "\n",
    "    # ax2 = ax1.twinx()\n",
    "    ax1.plot(df.index, df['user'], 'b-')\n",
    "    # ax2.plot(df.index, df['distance'], 'b-')\n",
    "\n",
    "    ax1.set_xlabel('Date')\n",
    "    ax1.set_ylabel('Errors', color='b')\n",
    "    # ax2.set_ylabel('Distance', color='g')\n",
    "\n",
    "\n",
    "    plt.show()\n",
    "    plt.rcParams['figure.figsize'] = 15,9\n",
    "    # df.plot(**plot_params);"
   ]
  },
  {
   "cell_type": "code",
   "execution_count": null,
   "metadata": {
    "collapsed": false
   },
   "outputs": [],
   "source": [
    "period = 'h'\n",
    "plot_params = {'kind': 'bar', 'title' : 'errors per ' + period, 'figsize': (15, 9) }#  'style': ['-.'], }\n",
    "plotit(udf, plot_params)"
   ]
  },
  {
   "cell_type": "code",
   "execution_count": null,
   "metadata": {
    "collapsed": false
   },
   "outputs": [],
   "source": [
    "hdf = pd.DataFrame()\n",
    "hdf['user'] = udf.user.resample('H').count()\n",
    "hdf"
   ]
  },
  {
   "cell_type": "code",
   "execution_count": null,
   "metadata": {
    "collapsed": false
   },
   "outputs": [],
   "source": [
    "plotit(hdf, None)"
   ]
  },
  {
   "cell_type": "code",
   "execution_count": null,
   "metadata": {
    "collapsed": true
   },
   "outputs": [],
   "source": [
    "def barit(df, bar_width_apparently_in_days=0.04):\n",
    "    \n",
    "    print('bar width:', bar_width_apparently_in_days)\n",
    "    \n",
    "    fig, ax1 = plt.subplots()\n",
    "\n",
    "    # ax2 = ax1.twinx()\n",
    "    ax1.bar(df.index, df['user'], width=bar_width_apparently_in_days, color='b') #, ec='r')\n",
    "    # ax2.plot(df.index, df['distance'], 'b-')\n",
    "\n",
    "    ax1.set_xlabel('Time')\n",
    "    ax1.set_ylabel('Errors', color='b')\n",
    "    # ax2.set_ylabel('Distance', color='g')\n",
    "    \n",
    "    #set ticks every week\n",
    "    if bar_width_apparently_in_days > 0.001:\n",
    "        ax1.xaxis.set_major_locator(mdates.HourLocator())\n",
    "    else:\n",
    "        ax1.xaxis.set_major_locator(mdates.MinuteLocator(interval=15))\n",
    "    \n",
    "    #set major ticks format\n",
    "    ax1.xaxis.set_major_formatter(mdates.DateFormatter('%H:%M'))\n",
    "\n",
    "\n",
    "    plt.show()\n",
    "    plt.rcParams['figure.figsize'] = 15,9\n",
    "    # df.plot(**plot_params);"
   ]
  },
  {
   "cell_type": "code",
   "execution_count": null,
   "metadata": {
    "collapsed": false
   },
   "outputs": [],
   "source": [
    "barit(hdf, )"
   ]
  },
  {
   "cell_type": "code",
   "execution_count": null,
   "metadata": {
    "collapsed": false
   },
   "outputs": [],
   "source": [
    "mdf = pd.DataFrame()\n",
    "mdf['user'] = udf.user.resample('T').count()\n",
    "mdf.head()"
   ]
  },
  {
   "cell_type": "code",
   "execution_count": null,
   "metadata": {
    "collapsed": false
   },
   "outputs": [],
   "source": [
    "barit(mdf, )"
   ]
  },
  {
   "cell_type": "code",
   "execution_count": null,
   "metadata": {
    "collapsed": false
   },
   "outputs": [],
   "source": [
    "barit(mdf, 0.0006)"
   ]
  },
  {
   "cell_type": "code",
   "execution_count": null,
   "metadata": {
    "collapsed": false
   },
   "outputs": [],
   "source": [
    "barit(mdf[datetime(2018, 1, 29, 6):], 0.0003) #datetime(2018, 1, 29, 9, 41, 27)"
   ]
  },
  {
   "cell_type": "code",
   "execution_count": null,
   "metadata": {
    "collapsed": false
   },
   "outputs": [],
   "source": [
    "barit(mdf[datetime(2018, 1, 29, 6, 40):datetime(2018, 1, 29, 7, 40)], 0.0002)"
   ]
  },
  {
   "cell_type": "markdown",
   "metadata": {},
   "source": [
    "------------------------------"
   ]
  },
  {
   "cell_type": "markdown",
   "metadata": {},
   "source": [
    "Try Seaborn /sns"
   ]
  },
  {
   "cell_type": "code",
   "execution_count": null,
   "metadata": {
    "collapsed": false
   },
   "outputs": [],
   "source": [
    "plt.figure(figsize=(12,8))\n",
    "sns.barplot(hdf.index, hdf.user, color=\"b\")\n",
    "plt.grid(True)\n",
    "plt.show()"
   ]
  },
  {
   "cell_type": "code",
   "execution_count": null,
   "metadata": {
    "collapsed": false
   },
   "outputs": [],
   "source": [
    "f, ax = plt.subplots(figsize=(12,8))\n",
    "sns.countplot('error type', data=udf) #, size=6, aspect=1.5)#, ax=ax[0,0])\n",
    "# sns.factorplot( x=udf.user, data=udf, kind=\"count\", size=6, aspect=1.5)#, ax=ax[0,0])\n",
    "# ax.set_xticklabels('errors') #, step=2)"
   ]
  },
  {
   "cell_type": "code",
   "execution_count": null,
   "metadata": {
    "collapsed": false
   },
   "outputs": [],
   "source": [
    "udf.head()"
   ]
  },
  {
   "cell_type": "code",
   "execution_count": null,
   "metadata": {
    "collapsed": false
   },
   "outputs": [],
   "source": [
    "hdf = pd.DataFrame()\n",
    "hdf['user'] = udf.user.resample('H').count()\n",
    "hdf"
   ]
  },
  {
   "cell_type": "code",
   "execution_count": null,
   "metadata": {
    "collapsed": false,
    "scrolled": true
   },
   "outputs": [],
   "source": [
    "tmpdf = pd.DataFrame()\n",
    "tmpdf['error type'] = udf['error type']\n",
    "tmpdf['cycle'] = udf['cycle'].astype(int)\n",
    "tmpdf"
   ]
  },
  {
   "cell_type": "markdown",
   "metadata": {},
   "source": [
    "The \".groupby\" works as follows: creates sor of \"dictionary\" (DataFrameGroupBy object) with keys matching the groups, and each value in the dictionary is a DataFrame with the corresponding rows from the original DF."
   ]
  },
  {
   "cell_type": "code",
   "execution_count": null,
   "metadata": {
    "collapsed": false,
    "scrolled": true
   },
   "outputs": [],
   "source": [
    "grouped_df = tmpdf.groupby('error type')\n",
    "for key, item in grouped_df:\n",
    "    print(grouped_df.get_group(key), '\\n\\n')"
   ]
  },
  {
   "cell_type": "markdown",
   "metadata": {},
   "source": [
    "Applying a function to the DataFrameGroupBy object, causes it to be \"reduced\" to a regular DataFrame - prior dict keys are now indexes and the rows values are collapsed"
   ]
  },
  {
   "cell_type": "code",
   "execution_count": null,
   "metadata": {
    "collapsed": false
   },
   "outputs": [],
   "source": [
    "summed = grouped_df.sum()\n",
    "print(type(summed))\n",
    "summed"
   ]
  },
  {
   "cell_type": "markdown",
   "metadata": {},
   "source": [
    "Applying `.resample(<period_encoding>)`, generally results in object that cannot be directly viewed (yet has index). Only after applyng additional function, the resulting object is a Dataframe."
   ]
  },
  {
   "cell_type": "code",
   "execution_count": null,
   "metadata": {
    "collapsed": false
   },
   "outputs": [],
   "source": [
    "resampled = tmpdf.resample('H')\n",
    "print(resampled.index)\n",
    "# resampled.loc[resampled.index[0]]\n",
    "# resampled.iloc[0]\n",
    "\n",
    "resampled_mean = tmpdf.resample('H').mean()\n",
    "resampled_mean"
   ]
  },
  {
   "cell_type": "markdown",
   "metadata": {},
   "source": [
    "Applying `.resample()` on top of a grouped object, gives a DatetimeIndexResamplerGroupby object. The key difference is that now there is MuliIndex."
   ]
  },
  {
   "cell_type": "code",
   "execution_count": null,
   "metadata": {
    "collapsed": false
   },
   "outputs": [],
   "source": [
    "resampled = grouped_df.resample('H')\n",
    "print(resampled.index)\n",
    "resampled_mean = grouped_df.resample('H').mean()\n",
    "resampled_mean"
   ]
  },
  {
   "cell_type": "code",
   "execution_count": null,
   "metadata": {
    "collapsed": false
   },
   "outputs": [],
   "source": [
    "ndf = tmpdf.groupby('error type').resample('H').count().unstack('error type')\n",
    "ndf"
   ]
  },
  {
   "cell_type": "markdown",
   "metadata": {},
   "source": [
    "The above case where we used the cycle as nummeric value is not ideal - changing to just error_type"
   ]
  },
  {
   "cell_type": "code",
   "execution_count": null,
   "metadata": {
    "collapsed": false,
    "scrolled": true
   },
   "outputs": [],
   "source": [
    "tmpdf = pd.DataFrame()\n",
    "tmpdf['error type'] = udf['error type']\n",
    "tmpdf"
   ]
  },
  {
   "cell_type": "markdown",
   "metadata": {},
   "source": [
    "Here `.unstack()` \"pivots\" the index based on the error_type values to columns"
   ]
  },
  {
   "cell_type": "code",
   "execution_count": null,
   "metadata": {
    "collapsed": false
   },
   "outputs": [],
   "source": [
    "ndf = tmpdf.groupby('error type').resample('H').count().unstack('error type')\n",
    "ndf"
   ]
  },
  {
   "cell_type": "code",
   "execution_count": null,
   "metadata": {
    "collapsed": false
   },
   "outputs": [],
   "source": [
    "ndf.plot.bar(stacked=True, label='proba');\n",
    "plt.title(\"Colors vs Values\");"
   ]
  },
  {
   "cell_type": "code",
   "execution_count": null,
   "metadata": {
    "collapsed": true
   },
   "outputs": [],
   "source": [
    "def bar_categorical2(udf, feature, freq='H', figsize=(12,8), title=None):\n",
    "    tmpdf = pd.DataFrame()\n",
    "    tmpdf[feature] = udf[feature]\n",
    "    ndf = tmpdf.groupby(feature).resample(freq).count().unstack(feature)\n",
    "    \n",
    "#     f, ax = plt.subplots(figsize=(12,8));\n",
    "#     sns.countplot('error type', data=ndf,)# stacked=True)\n",
    "    ndf.plot.bar(stacked=True);\n",
    "    if title:\n",
    "        plt.title(title);\n",
    "    "
   ]
  },
  {
   "cell_type": "code",
   "execution_count": null,
   "metadata": {
    "collapsed": false
   },
   "outputs": [],
   "source": [
    "udf = vusers['0007'].get_errors()\n",
    "udf.index = pd.to_datetime(udf.time, errors='coerce')\n",
    "bar_categorical2(udf, 'error type', '15T', title='Proba')"
   ]
  },
  {
   "cell_type": "code",
   "execution_count": null,
   "metadata": {
    "collapsed": false
   },
   "outputs": [],
   "source": [
    "bar_categorical(udf, 'step', '15T')"
   ]
  },
  {
   "cell_type": "code",
   "execution_count": null,
   "metadata": {
    "collapsed": false
   },
   "outputs": [],
   "source": [
    "bar_categorical(udf, 'cause message/ddi', '15T')"
   ]
  },
  {
   "cell_type": "code",
   "execution_count": null,
   "metadata": {
    "collapsed": true
   },
   "outputs": [],
   "source": []
  }
 ],
 "metadata": {
  "anaconda-cloud": {},
  "celltoolbar": "Raw Cell Format",
  "kernelspec": {
   "display_name": "Python 3",
   "language": "python",
   "name": "python3"
  },
  "language_info": {
   "codemirror_mode": {
    "name": "ipython",
    "version": 3
   },
   "file_extension": ".py",
   "mimetype": "text/x-python",
   "name": "python",
   "nbconvert_exporter": "python",
   "pygments_lexer": "ipython3",
   "version": "3.6.3"
  }
 },
 "nbformat": 4,
 "nbformat_minor": 0
}
