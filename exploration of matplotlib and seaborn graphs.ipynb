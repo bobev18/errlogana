{
 "cells": [
  {
   "cell_type": "code",
   "execution_count": 1,
   "metadata": {
    "collapsed": true
   },
   "outputs": [],
   "source": [
    "import re, os\n",
    "from datetime import datetime\n",
    "import shutil\n",
    "import pickle\n",
    "from collections import OrderedDict\n",
    "import pandas as pd\n",
    "import numpy as np\n",
    "import matplotlib.pyplot as plt\n",
    "import matplotlib.dates as mdates\n",
    "import seaborn as sns"
   ]
  },
  {
   "cell_type": "code",
   "execution_count": 2,
   "metadata": {
    "collapsed": true
   },
   "outputs": [],
   "source": [
    "# pd.set_option('display.mpl_style', 'default')\n",
    "pd.set_option('plotting.matplotlib.register_converters', 'default')\n",
    "%matplotlib inline\n",
    "plt.style.use('ggplot')\n",
    "sns.set_color_codes(\"pastel\")"
   ]
  },
  {
   "cell_type": "code",
   "execution_count": 3,
   "metadata": {
    "collapsed": false
   },
   "outputs": [
    {
     "name": "stdout",
     "output_type": "stream",
     "text": [
      "at data , found 13 log files:  ['user_errors_0000.csv', 'user_errors_0014.csv', 'user_errors_0013.csv', 'user_errors_0012.csv', 'user_errors_0001.csv', 'user_errors_0006.csv', 'user_errors_0002.csv', 'user_errors_0015.csv', 'user_errors_0010.csv', 'user_errors_0008.csv', 'user_errors_0011.csv', 'user_errors_0007.csv', 'user_errors_0009.csv']\n"
     ]
    }
   ],
   "source": [
    "test_folder = 'data'\n",
    "files = [ f for f in os.listdir(test_folder) if os.path.isfile(os.path.join(test_folder,f)) and f.find('.csv')>0 ]\n",
    "print('at', test_folder, ', found', len(files), 'log files: ', files)"
   ]
  },
  {
   "cell_type": "markdown",
   "metadata": {},
   "source": [
    "pick user to load from the file list above"
   ]
  },
  {
   "cell_type": "code",
   "execution_count": 4,
   "metadata": {
    "collapsed": true
   },
   "outputs": [],
   "source": [
    "usr = '0009'"
   ]
  },
  {
   "cell_type": "code",
   "execution_count": 5,
   "metadata": {
    "collapsed": true
   },
   "outputs": [],
   "source": [
    "with open(os.path.join('data', 'user_errors_' + usr + '.csv'), 'rt') as f:\n",
    "    udf = pd.read_csv(f, index_col='time')"
   ]
  },
  {
   "cell_type": "code",
   "execution_count": 6,
   "metadata": {
    "collapsed": false
   },
   "outputs": [
    {
     "data": {
      "text/html": [
       "<div>\n",
       "<style scoped>\n",
       "    .dataframe tbody tr th:only-of-type {\n",
       "        vertical-align: middle;\n",
       "    }\n",
       "\n",
       "    .dataframe tbody tr th {\n",
       "        vertical-align: top;\n",
       "    }\n",
       "\n",
       "    .dataframe thead th {\n",
       "        text-align: right;\n",
       "    }\n",
       "</style>\n",
       "<table border=\"1\" class=\"dataframe\">\n",
       "  <thead>\n",
       "    <tr style=\"text-align: right;\">\n",
       "      <th></th>\n",
       "      <th>user</th>\n",
       "      <th>uj</th>\n",
       "      <th>step</th>\n",
       "      <th>cycle</th>\n",
       "      <th>error type</th>\n",
       "      <th>error cause</th>\n",
       "      <th>cause message/ddi</th>\n",
       "    </tr>\n",
       "    <tr>\n",
       "      <th>time</th>\n",
       "      <th></th>\n",
       "      <th></th>\n",
       "      <th></th>\n",
       "      <th></th>\n",
       "      <th></th>\n",
       "      <th></th>\n",
       "      <th></th>\n",
       "    </tr>\n",
       "  </thead>\n",
       "  <tbody>\n",
       "    <tr>\n",
       "      <th>2018-01-29 01:46:29</th>\n",
       "      <td>9</td>\n",
       "      <td>Open and Assign CM WO as Supervisor</td>\n",
       "      <td>Select WO</td>\n",
       "      <td>0</td>\n",
       "      <td>500</td>\n",
       "      <td>500</td>\n",
       "      <td>NaN</td>\n",
       "    </tr>\n",
       "    <tr>\n",
       "      <th>2018-01-29 02:57:04</th>\n",
       "      <td>9</td>\n",
       "      <td>Open and Assign CM WO as Supervisor</td>\n",
       "      <td>Save</td>\n",
       "      <td>46</td>\n",
       "      <td>Success Validation Failure</td>\n",
       "      <td>operation resulted in a table with zero rows</td>\n",
       "      <td>searchterm: Record has been saved.</td>\n",
       "    </tr>\n",
       "    <tr>\n",
       "      <th>2018-01-29 04:01:16</th>\n",
       "      <td>9</td>\n",
       "      <td>Open and Assign CM WO as Supervisor</td>\n",
       "      <td>Save</td>\n",
       "      <td>88</td>\n",
       "      <td>Success Validation Failure</td>\n",
       "      <td>Warning Message</td>\n",
       "      <td>BMXAA8229W - Record WORKORDER :  Site=WW Work ...</td>\n",
       "    </tr>\n",
       "    <tr>\n",
       "      <th>2018-01-29 04:56:36</th>\n",
       "      <td>9</td>\n",
       "      <td>Open and Assign CM WO as Supervisor</td>\n",
       "      <td>Save</td>\n",
       "      <td>126</td>\n",
       "      <td>Success Validation Failure</td>\n",
       "      <td>Warning Message</td>\n",
       "      <td>BMXAA8229W - Record WORKORDER :  Site=WW Work ...</td>\n",
       "    </tr>\n",
       "    <tr>\n",
       "      <th>2018-01-29 05:11:33</th>\n",
       "      <td>9</td>\n",
       "      <td>Open and Assign CM WO as Supervisor</td>\n",
       "      <td>Save</td>\n",
       "      <td>136</td>\n",
       "      <td>Success Validation Failure</td>\n",
       "      <td>Warning Message</td>\n",
       "      <td>BMXAA8229W - Record WORKORDER :  Site=WW Work ...</td>\n",
       "    </tr>\n",
       "  </tbody>\n",
       "</table>\n",
       "</div>"
      ],
      "text/plain": [
       "                     user                                   uj       step  \\\n",
       "time                                                                        \n",
       "2018-01-29 01:46:29     9  Open and Assign CM WO as Supervisor  Select WO   \n",
       "2018-01-29 02:57:04     9  Open and Assign CM WO as Supervisor       Save   \n",
       "2018-01-29 04:01:16     9  Open and Assign CM WO as Supervisor       Save   \n",
       "2018-01-29 04:56:36     9  Open and Assign CM WO as Supervisor       Save   \n",
       "2018-01-29 05:11:33     9  Open and Assign CM WO as Supervisor       Save   \n",
       "\n",
       "                     cycle                  error type  \\\n",
       "time                                                     \n",
       "2018-01-29 01:46:29      0                         500   \n",
       "2018-01-29 02:57:04     46  Success Validation Failure   \n",
       "2018-01-29 04:01:16     88  Success Validation Failure   \n",
       "2018-01-29 04:56:36    126  Success Validation Failure   \n",
       "2018-01-29 05:11:33    136  Success Validation Failure   \n",
       "\n",
       "                                                      error cause  \\\n",
       "time                                                                \n",
       "2018-01-29 01:46:29                                           500   \n",
       "2018-01-29 02:57:04  operation resulted in a table with zero rows   \n",
       "2018-01-29 04:01:16                               Warning Message   \n",
       "2018-01-29 04:56:36                               Warning Message   \n",
       "2018-01-29 05:11:33                               Warning Message   \n",
       "\n",
       "                                                     cause message/ddi  \n",
       "time                                                                    \n",
       "2018-01-29 01:46:29                                                NaN  \n",
       "2018-01-29 02:57:04                 searchterm: Record has been saved.  \n",
       "2018-01-29 04:01:16  BMXAA8229W - Record WORKORDER :  Site=WW Work ...  \n",
       "2018-01-29 04:56:36  BMXAA8229W - Record WORKORDER :  Site=WW Work ...  \n",
       "2018-01-29 05:11:33  BMXAA8229W - Record WORKORDER :  Site=WW Work ...  "
      ]
     },
     "execution_count": 6,
     "metadata": {},
     "output_type": "execute_result"
    }
   ],
   "source": [
    "udf.head()"
   ]
  },
  {
   "cell_type": "code",
   "execution_count": 8,
   "metadata": {
    "collapsed": true
   },
   "outputs": [],
   "source": [
    "udf.index = pd.to_datetime(udf.index, errors='coerce')"
   ]
  },
  {
   "cell_type": "code",
   "execution_count": 10,
   "metadata": {
    "collapsed": false
   },
   "outputs": [
    {
     "data": {
      "text/html": [
       "<div>\n",
       "<style scoped>\n",
       "    .dataframe tbody tr th:only-of-type {\n",
       "        vertical-align: middle;\n",
       "    }\n",
       "\n",
       "    .dataframe tbody tr th {\n",
       "        vertical-align: top;\n",
       "    }\n",
       "\n",
       "    .dataframe thead th {\n",
       "        text-align: right;\n",
       "    }\n",
       "</style>\n",
       "<table border=\"1\" class=\"dataframe\">\n",
       "  <thead>\n",
       "    <tr style=\"text-align: right;\">\n",
       "      <th></th>\n",
       "      <th>user</th>\n",
       "      <th>uj</th>\n",
       "      <th>step</th>\n",
       "      <th>cycle</th>\n",
       "      <th>error type</th>\n",
       "      <th>error cause</th>\n",
       "      <th>cause message/ddi</th>\n",
       "    </tr>\n",
       "    <tr>\n",
       "      <th>time</th>\n",
       "      <th></th>\n",
       "      <th></th>\n",
       "      <th></th>\n",
       "      <th></th>\n",
       "      <th></th>\n",
       "      <th></th>\n",
       "      <th></th>\n",
       "    </tr>\n",
       "  </thead>\n",
       "  <tbody>\n",
       "    <tr>\n",
       "      <th>2018-01-29 09:40:21</th>\n",
       "      <td>9</td>\n",
       "      <td>Open and Assign CM WO as Supervisor</td>\n",
       "      <td>Select WO</td>\n",
       "      <td>512</td>\n",
       "      <td>Response DD Extraction Failure</td>\n",
       "      <td>Response DD Extraction Failure</td>\n",
       "      <td>Open and Assign CM WO as Supervisor ID 3</td>\n",
       "    </tr>\n",
       "    <tr>\n",
       "      <th>2018-01-29 09:41:00</th>\n",
       "      <td>9</td>\n",
       "      <td>Open and Assign CM WO as Supervisor</td>\n",
       "      <td>Select WO</td>\n",
       "      <td>513</td>\n",
       "      <td>Response DD Extraction Failure</td>\n",
       "      <td>Response DD Extraction Failure</td>\n",
       "      <td>Open and Assign CM WO as Supervisor ID 3</td>\n",
       "    </tr>\n",
       "    <tr>\n",
       "      <th>2018-01-29 09:41:26</th>\n",
       "      <td>9</td>\n",
       "      <td>Open and Assign CM WO as Supervisor</td>\n",
       "      <td>Select WO</td>\n",
       "      <td>514</td>\n",
       "      <td>Response DD Extraction Failure</td>\n",
       "      <td>Response DD Extraction Failure</td>\n",
       "      <td>Open and Assign CM WO as Supervisor ID 3</td>\n",
       "    </tr>\n",
       "    <tr>\n",
       "      <th>2018-01-29 09:42:08</th>\n",
       "      <td>9</td>\n",
       "      <td>Open and Assign CM WO as Supervisor</td>\n",
       "      <td>Select WO</td>\n",
       "      <td>515</td>\n",
       "      <td>Response DD Extraction Failure</td>\n",
       "      <td>Response DD Extraction Failure</td>\n",
       "      <td>Open and Assign CM WO as Supervisor ID 3</td>\n",
       "    </tr>\n",
       "    <tr>\n",
       "      <th>2018-01-29 09:42:35</th>\n",
       "      <td>9</td>\n",
       "      <td>Open and Assign CM WO as Supervisor</td>\n",
       "      <td>Select WO</td>\n",
       "      <td>516</td>\n",
       "      <td>Response DD Extraction Failure</td>\n",
       "      <td>Response DD Extraction Failure</td>\n",
       "      <td>Open and Assign CM WO as Supervisor ID 3</td>\n",
       "    </tr>\n",
       "  </tbody>\n",
       "</table>\n",
       "</div>"
      ],
      "text/plain": [
       "                     user                                   uj       step  \\\n",
       "time                                                                        \n",
       "2018-01-29 09:40:21     9  Open and Assign CM WO as Supervisor  Select WO   \n",
       "2018-01-29 09:41:00     9  Open and Assign CM WO as Supervisor  Select WO   \n",
       "2018-01-29 09:41:26     9  Open and Assign CM WO as Supervisor  Select WO   \n",
       "2018-01-29 09:42:08     9  Open and Assign CM WO as Supervisor  Select WO   \n",
       "2018-01-29 09:42:35     9  Open and Assign CM WO as Supervisor  Select WO   \n",
       "\n",
       "                     cycle                      error type  \\\n",
       "time                                                         \n",
       "2018-01-29 09:40:21    512  Response DD Extraction Failure   \n",
       "2018-01-29 09:41:00    513  Response DD Extraction Failure   \n",
       "2018-01-29 09:41:26    514  Response DD Extraction Failure   \n",
       "2018-01-29 09:42:08    515  Response DD Extraction Failure   \n",
       "2018-01-29 09:42:35    516  Response DD Extraction Failure   \n",
       "\n",
       "                                        error cause  \\\n",
       "time                                                  \n",
       "2018-01-29 09:40:21  Response DD Extraction Failure   \n",
       "2018-01-29 09:41:00  Response DD Extraction Failure   \n",
       "2018-01-29 09:41:26  Response DD Extraction Failure   \n",
       "2018-01-29 09:42:08  Response DD Extraction Failure   \n",
       "2018-01-29 09:42:35  Response DD Extraction Failure   \n",
       "\n",
       "                                            cause message/ddi  \n",
       "time                                                           \n",
       "2018-01-29 09:40:21  Open and Assign CM WO as Supervisor ID 3  \n",
       "2018-01-29 09:41:00  Open and Assign CM WO as Supervisor ID 3  \n",
       "2018-01-29 09:41:26  Open and Assign CM WO as Supervisor ID 3  \n",
       "2018-01-29 09:42:08  Open and Assign CM WO as Supervisor ID 3  \n",
       "2018-01-29 09:42:35  Open and Assign CM WO as Supervisor ID 3  "
      ]
     },
     "execution_count": 10,
     "metadata": {},
     "output_type": "execute_result"
    }
   ],
   "source": [
    "udf[datetime(2018, 1, 29, 9, 40):]"
   ]
  },
  {
   "cell_type": "code",
   "execution_count": 11,
   "metadata": {
    "collapsed": false
   },
   "outputs": [
    {
     "name": "stdout",
     "output_type": "stream",
     "text": [
      "KeyError: datetime.datetime(2018, 1, 29, 9, 41, 26)\n"
     ]
    }
   ],
   "source": [
    "try:\n",
    "    udf[datetime(2018, 1, 29, 9, 41, 26)]\n",
    "except KeyError:\n",
    "    print('KeyError: datetime.datetime(2018, 1, 29, 9, 41, 26)')"
   ]
  },
  {
   "cell_type": "code",
   "execution_count": 12,
   "metadata": {
    "collapsed": false
   },
   "outputs": [
    {
     "name": "stdout",
     "output_type": "stream",
     "text": [
      "KeyError: Timestamp('2018-01-29 09:41:26')\n"
     ]
    }
   ],
   "source": [
    "try:\n",
    "    udf[pd.to_datetime('2018-01-29 09:41:26', errors='coerce')]\n",
    "except KeyError:\n",
    "    print(\"KeyError: Timestamp('2018-01-29 09:41:26')\")"
   ]
  },
  {
   "cell_type": "code",
   "execution_count": 13,
   "metadata": {
    "collapsed": false
   },
   "outputs": [
    {
     "data": {
      "text/html": [
       "<div>\n",
       "<style scoped>\n",
       "    .dataframe tbody tr th:only-of-type {\n",
       "        vertical-align: middle;\n",
       "    }\n",
       "\n",
       "    .dataframe tbody tr th {\n",
       "        vertical-align: top;\n",
       "    }\n",
       "\n",
       "    .dataframe thead th {\n",
       "        text-align: right;\n",
       "    }\n",
       "</style>\n",
       "<table border=\"1\" class=\"dataframe\">\n",
       "  <thead>\n",
       "    <tr style=\"text-align: right;\">\n",
       "      <th></th>\n",
       "      <th>user</th>\n",
       "      <th>uj</th>\n",
       "      <th>step</th>\n",
       "      <th>cycle</th>\n",
       "      <th>error type</th>\n",
       "      <th>error cause</th>\n",
       "      <th>cause message/ddi</th>\n",
       "    </tr>\n",
       "    <tr>\n",
       "      <th>time</th>\n",
       "      <th></th>\n",
       "      <th></th>\n",
       "      <th></th>\n",
       "      <th></th>\n",
       "      <th></th>\n",
       "      <th></th>\n",
       "      <th></th>\n",
       "    </tr>\n",
       "  </thead>\n",
       "  <tbody>\n",
       "    <tr>\n",
       "      <th>2018-01-29 09:41:26</th>\n",
       "      <td>9</td>\n",
       "      <td>Open and Assign CM WO as Supervisor</td>\n",
       "      <td>Select WO</td>\n",
       "      <td>514</td>\n",
       "      <td>Response DD Extraction Failure</td>\n",
       "      <td>Response DD Extraction Failure</td>\n",
       "      <td>Open and Assign CM WO as Supervisor ID 3</td>\n",
       "    </tr>\n",
       "  </tbody>\n",
       "</table>\n",
       "</div>"
      ],
      "text/plain": [
       "                     user                                   uj       step  \\\n",
       "time                                                                        \n",
       "2018-01-29 09:41:26     9  Open and Assign CM WO as Supervisor  Select WO   \n",
       "\n",
       "                     cycle                      error type  \\\n",
       "time                                                         \n",
       "2018-01-29 09:41:26    514  Response DD Extraction Failure   \n",
       "\n",
       "                                        error cause  \\\n",
       "time                                                  \n",
       "2018-01-29 09:41:26  Response DD Extraction Failure   \n",
       "\n",
       "                                            cause message/ddi  \n",
       "time                                                           \n",
       "2018-01-29 09:41:26  Open and Assign CM WO as Supervisor ID 3  "
      ]
     },
     "execution_count": 13,
     "metadata": {},
     "output_type": "execute_result"
    }
   ],
   "source": [
    "udf[datetime(2018, 1, 29, 9, 41, 26):datetime(2018, 1, 29, 9, 41, 27)]"
   ]
  },
  {
   "cell_type": "markdown",
   "metadata": {},
   "source": [
    "It seems to be working. The key factors are:\n",
    "* errors='coerce'\n",
    "* udf.index = \n",
    "* lookup references should be done by range of datetimes !\n",
    "\n",
    "The double rows for column names is rather a quirk of the \"pretty print\" in Jupyter, since `udf.columns.nlevels` returns 1"
   ]
  },
  {
   "cell_type": "code",
   "execution_count": 14,
   "metadata": {
    "collapsed": false
   },
   "outputs": [
    {
     "data": {
      "text/plain": [
       "1"
      ]
     },
     "execution_count": 14,
     "metadata": {},
     "output_type": "execute_result"
    }
   ],
   "source": [
    "udf.columns.nlevels"
   ]
  },
  {
   "cell_type": "markdown",
   "metadata": {},
   "source": [
    "-----------------------------------------"
   ]
  },
  {
   "cell_type": "code",
   "execution_count": 15,
   "metadata": {
    "collapsed": true
   },
   "outputs": [],
   "source": [
    "# from pandas.tseries import converter as pdtc\n",
    "# import matplotlib.units as munits\n",
    "# import numpy as np\n",
    "\n",
    "# munits.registry[np.datetime64] = pdtc.DatetimeConverter()"
   ]
  },
  {
   "cell_type": "code",
   "execution_count": 16,
   "metadata": {
    "collapsed": true
   },
   "outputs": [],
   "source": [
    "def plotit(df, plot_params):\n",
    "    \n",
    "    fig, ax1 = plt.subplots()\n",
    "\n",
    "    # ax2 = ax1.twinx()\n",
    "    ax1.plot(df.index, df['user'], 'b-')\n",
    "    # ax2.plot(df.index, df['distance'], 'b-')\n",
    "\n",
    "    ax1.set_xlabel('Date')\n",
    "    ax1.set_ylabel('Errors', color='b')\n",
    "    # ax2.set_ylabel('Distance', color='g')\n",
    "\n",
    "\n",
    "    plt.show()\n",
    "    plt.rcParams['figure.figsize'] = 15,9\n",
    "    # df.plot(**plot_params);"
   ]
  },
  {
   "cell_type": "code",
   "execution_count": 17,
   "metadata": {
    "collapsed": false
   },
   "outputs": [
    {
     "data": {
      "image/png": "[encoded data removed]",
      "text/plain": [
       "<matplotlib.figure.Figure at 0x7fdbd17fd4a8>"
      ]
     },
     "metadata": {},
     "output_type": "display_data"
    }
   ],
   "source": [
    "period = 'h'\n",
    "plot_params = {'kind': 'bar', 'title' : 'errors per ' + period, 'figsize': (15, 9) }#  'style': ['-.'], }\n",
    "plotit(udf, plot_params)"
   ]
  },
  {
   "cell_type": "code",
   "execution_count": 18,
   "metadata": {
    "collapsed": false
   },
   "outputs": [
    {
     "data": {
      "text/html": [
       "<div>\n",
       "<style scoped>\n",
       "    .dataframe tbody tr th:only-of-type {\n",
       "        vertical-align: middle;\n",
       "    }\n",
       "\n",
       "    .dataframe tbody tr th {\n",
       "        vertical-align: top;\n",
       "    }\n",
       "\n",
       "    .dataframe thead th {\n",
       "        text-align: right;\n",
       "    }\n",
       "</style>\n",
       "<table border=\"1\" class=\"dataframe\">\n",
       "  <thead>\n",
       "    <tr style=\"text-align: right;\">\n",
       "      <th></th>\n",
       "      <th>user</th>\n",
       "    </tr>\n",
       "    <tr>\n",
       "      <th>time</th>\n",
       "      <th></th>\n",
       "    </tr>\n",
       "  </thead>\n",
       "  <tbody>\n",
       "    <tr>\n",
       "      <th>2018-01-29 01:00:00</th>\n",
       "      <td>1</td>\n",
       "    </tr>\n",
       "    <tr>\n",
       "      <th>2018-01-29 02:00:00</th>\n",
       "      <td>1</td>\n",
       "    </tr>\n",
       "    <tr>\n",
       "      <th>2018-01-29 03:00:00</th>\n",
       "      <td>0</td>\n",
       "    </tr>\n",
       "    <tr>\n",
       "      <th>2018-01-29 04:00:00</th>\n",
       "      <td>2</td>\n",
       "    </tr>\n",
       "    <tr>\n",
       "      <th>2018-01-29 05:00:00</th>\n",
       "      <td>3</td>\n",
       "    </tr>\n",
       "    <tr>\n",
       "      <th>2018-01-29 06:00:00</th>\n",
       "      <td>53</td>\n",
       "    </tr>\n",
       "    <tr>\n",
       "      <th>2018-01-29 07:00:00</th>\n",
       "      <td>103</td>\n",
       "    </tr>\n",
       "    <tr>\n",
       "      <th>2018-01-29 08:00:00</th>\n",
       "      <td>100</td>\n",
       "    </tr>\n",
       "    <tr>\n",
       "      <th>2018-01-29 09:00:00</th>\n",
       "      <td>74</td>\n",
       "    </tr>\n",
       "  </tbody>\n",
       "</table>\n",
       "</div>"
      ],
      "text/plain": [
       "                     user\n",
       "time                     \n",
       "2018-01-29 01:00:00     1\n",
       "2018-01-29 02:00:00     1\n",
       "2018-01-29 03:00:00     0\n",
       "2018-01-29 04:00:00     2\n",
       "2018-01-29 05:00:00     3\n",
       "2018-01-29 06:00:00    53\n",
       "2018-01-29 07:00:00   103\n",
       "2018-01-29 08:00:00   100\n",
       "2018-01-29 09:00:00    74"
      ]
     },
     "execution_count": 18,
     "metadata": {},
     "output_type": "execute_result"
    }
   ],
   "source": [
    "hdf = pd.DataFrame()\n",
    "hdf['user'] = udf.user.resample('H').count()\n",
    "hdf"
   ]
  },
  {
   "cell_type": "code",
   "execution_count": 19,
   "metadata": {
    "collapsed": false
   },
   "outputs": [
    {
     "data": {
      "image/png": "[encoded data removed]",
      "text/plain": [
       "<matplotlib.figure.Figure at 0x7fdbcf720278>"
      ]
     },
     "metadata": {},
     "output_type": "display_data"
    }
   ],
   "source": [
    "plotit(hdf, None)"
   ]
  },
  {
   "cell_type": "code",
   "execution_count": 46,
   "metadata": {
    "collapsed": true
   },
   "outputs": [],
   "source": [
    "def barit(df, bar_width_apparently_in_days=0.04):\n",
    "    \n",
    "    print('bar width:', bar_width_apparently_in_days)\n",
    "    \n",
    "    fig, ax1 = plt.subplots()\n",
    "\n",
    "    # ax2 = ax1.twinx()\n",
    "    ax1.bar(df.index, df['user'], width=bar_width_apparently_in_days, color='b') #, ec='r')\n",
    "    # ax2.plot(df.index, df['distance'], 'b-')\n",
    "\n",
    "    ax1.set_xlabel('Time')\n",
    "    ax1.set_ylabel('Errors', color='b')\n",
    "    # ax2.set_ylabel('Distance', color='g')\n",
    "    \n",
    "    #set ticks every week\n",
    "    if bar_width_apparently_in_days > 0.001:\n",
    "        ax1.xaxis.set_major_locator(mdates.HourLocator())\n",
    "    else:\n",
    "        ax1.xaxis.set_major_locator(mdates.MinuteLocator(interval=20))\n",
    "    \n",
    "    #set major ticks format\n",
    "    ax1.xaxis.set_major_formatter(mdates.DateFormatter('%H:%M'))\n",
    "\n",
    "\n",
    "    plt.show()\n",
    "    plt.rcParams['figure.figsize'] = 15,9\n",
    "    # df.plot(**plot_params);"
   ]
  },
  {
   "cell_type": "code",
   "execution_count": 47,
   "metadata": {
    "collapsed": false
   },
   "outputs": [
    {
     "name": "stdout",
     "output_type": "stream",
     "text": [
      "bar width: 0.04\n"
     ]
    },
    {
     "data": {
      "image/png": "[encoded data removed]",
      "text/plain": [
       "<matplotlib.figure.Figure at 0x7fdbcf551710>"
      ]
     },
     "metadata": {},
     "output_type": "display_data"
    }
   ],
   "source": [
    "barit(hdf, )"
   ]
  },
  {
   "cell_type": "code",
   "execution_count": 48,
   "metadata": {
    "collapsed": false
   },
   "outputs": [
    {
     "data": {
      "text/html": [
       "<div>\n",
       "<style scoped>\n",
       "    .dataframe tbody tr th:only-of-type {\n",
       "        vertical-align: middle;\n",
       "    }\n",
       "\n",
       "    .dataframe tbody tr th {\n",
       "        vertical-align: top;\n",
       "    }\n",
       "\n",
       "    .dataframe thead th {\n",
       "        text-align: right;\n",
       "    }\n",
       "</style>\n",
       "<table border=\"1\" class=\"dataframe\">\n",
       "  <thead>\n",
       "    <tr style=\"text-align: right;\">\n",
       "      <th></th>\n",
       "      <th>user</th>\n",
       "    </tr>\n",
       "    <tr>\n",
       "      <th>time</th>\n",
       "      <th></th>\n",
       "    </tr>\n",
       "  </thead>\n",
       "  <tbody>\n",
       "    <tr>\n",
       "      <th>2018-01-29 01:46:00</th>\n",
       "      <td>1</td>\n",
       "    </tr>\n",
       "    <tr>\n",
       "      <th>2018-01-29 01:47:00</th>\n",
       "      <td>0</td>\n",
       "    </tr>\n",
       "    <tr>\n",
       "      <th>2018-01-29 01:48:00</th>\n",
       "      <td>0</td>\n",
       "    </tr>\n",
       "    <tr>\n",
       "      <th>2018-01-29 01:49:00</th>\n",
       "      <td>0</td>\n",
       "    </tr>\n",
       "    <tr>\n",
       "      <th>2018-01-29 01:50:00</th>\n",
       "      <td>0</td>\n",
       "    </tr>\n",
       "  </tbody>\n",
       "</table>\n",
       "</div>"
      ],
      "text/plain": [
       "                     user\n",
       "time                     \n",
       "2018-01-29 01:46:00     1\n",
       "2018-01-29 01:47:00     0\n",
       "2018-01-29 01:48:00     0\n",
       "2018-01-29 01:49:00     0\n",
       "2018-01-29 01:50:00     0"
      ]
     },
     "execution_count": 48,
     "metadata": {},
     "output_type": "execute_result"
    }
   ],
   "source": [
    "mdf = pd.DataFrame()\n",
    "mdf['user'] = udf.user.resample('T').count()\n",
    "mdf.head()"
   ]
  },
  {
   "cell_type": "code",
   "execution_count": 49,
   "metadata": {
    "collapsed": false
   },
   "outputs": [
    {
     "name": "stdout",
     "output_type": "stream",
     "text": [
      "bar width: 0.04\n"
     ]
    },
    {
     "data": {
      "image/png": "[encoded data removed]",
      "text/plain": [
       "<matplotlib.figure.Figure at 0x7fdbcf7c7cf8>"
      ]
     },
     "metadata": {},
     "output_type": "display_data"
    }
   ],
   "source": [
    "barit(mdf, )"
   ]
  },
  {
   "cell_type": "code",
   "execution_count": 50,
   "metadata": {
    "collapsed": false
   },
   "outputs": [
    {
     "name": "stdout",
     "output_type": "stream",
     "text": [
      "bar width: 0.0006\n"
     ]
    },
    {
     "data": {
      "image/png": "[encoded data removed]",
      "text/plain": [
       "<matplotlib.figure.Figure at 0x7fdbcf7c7c88>"
      ]
     },
     "metadata": {},
     "output_type": "display_data"
    }
   ],
   "source": [
    "barit(mdf, 0.0006)"
   ]
  },
  {
   "cell_type": "code",
   "execution_count": 51,
   "metadata": {
    "collapsed": false
   },
   "outputs": [
    {
     "name": "stdout",
     "output_type": "stream",
     "text": [
      "bar width: 0.0003\n"
     ]
    },
    {
     "data": {
      "image/png": "[encoded data removed]",
      "text/plain": [
       "<matplotlib.figure.Figure at 0x7fdbcee81be0>"
      ]
     },
     "metadata": {},
     "output_type": "display_data"
    }
   ],
   "source": [
    "barit(mdf[datetime(2018, 1, 29, 6):], 0.0003) #datetime(2018, 1, 29, 9, 41, 27)"
   ]
  },
  {
   "cell_type": "code",
   "execution_count": 52,
   "metadata": {
    "collapsed": false
   },
   "outputs": [
    {
     "name": "stdout",
     "output_type": "stream",
     "text": [
      "bar width: 0.0002\n"
     ]
    },
    {
     "data": {
      "image/png": "[encoded data removed]",
      "text/plain": [
       "<matplotlib.figure.Figure at 0x7fdbcf3ba940>"
      ]
     },
     "metadata": {},
     "output_type": "display_data"
    }
   ],
   "source": [
    "barit(mdf[datetime(2018, 1, 29, 6, 40):datetime(2018, 1, 29, 7, 40)], 0.0002)"
   ]
  },
  {
   "cell_type": "markdown",
   "metadata": {},
   "source": [
    "------------------------------"
   ]
  },
  {
   "cell_type": "markdown",
   "metadata": {},
   "source": [
    "Try Seaborn /sns"
   ]
  },
  {
   "cell_type": "code",
   "execution_count": 53,
   "metadata": {
    "collapsed": false
   },
   "outputs": [
    {
     "data": {
      "image/png": "[encoded data removed]",
      "text/plain": [
       "<matplotlib.figure.Figure at 0x7fdbcf720e10>"
      ]
     },
     "metadata": {},
     "output_type": "display_data"
    }
   ],
   "source": [
    "plt.figure(figsize=(12,8))\n",
    "sns.barplot(hdf.index, hdf.user, color=\"b\")\n",
    "plt.grid(True)\n",
    "plt.show()"
   ]
  },
  {
   "cell_type": "code",
   "execution_count": 28,
   "metadata": {
    "collapsed": false
   },
   "outputs": [
    {
     "data": {
      "text/plain": [
       "<matplotlib.axes._subplots.AxesSubplot at 0x7fdbcf77b5c0>"
      ]
     },
     "execution_count": 28,
     "metadata": {},
     "output_type": "execute_result"
    },
    {
     "data": {
      "image/png": "[encoded data removed]",
      "text/plain": [
       "<matplotlib.figure.Figure at 0x7fdbcf673668>"
      ]
     },
     "metadata": {},
     "output_type": "display_data"
    }
   ],
   "source": [
    "f, ax = plt.subplots(figsize=(12,8))\n",
    "sns.countplot('error type', data=udf) #, size=6, aspect=1.5)#, ax=ax[0,0])\n",
    "# sns.factorplot( x=udf.user, data=udf, kind=\"count\", size=6, aspect=1.5)#, ax=ax[0,0])\n",
    "# ax.set_xticklabels('errors') #, step=2)"
   ]
  },
  {
   "cell_type": "markdown",
   "metadata": {},
   "source": [
    "The next example from Seaborn gallery differs from what I need:\n",
    "* \"time\" (i.e. \"year\") in the planets dataset is not an index, rather a category\n",
    "* ultimately I want to count individual error types, rather than just the total errors"
   ]
  },
  {
   "cell_type": "code",
   "execution_count": 29,
   "metadata": {
    "collapsed": false
   },
   "outputs": [
    {
     "data": {
      "text/plain": [
       "<seaborn.axisgrid.FacetGrid at 0x7fdbcf0149b0>"
      ]
     },
     "execution_count": 29,
     "metadata": {},
     "output_type": "execute_result"
    },
    {
     "data": {
      "image/png": "[encoded data removed]",
      "text/plain": [
       "<matplotlib.figure.Figure at 0x7fdbcf1ee7b8>"
      ]
     },
     "metadata": {},
     "output_type": "display_data"
    }
   ],
   "source": [
    "planets = sns.load_dataset(\"planets\")\n",
    "planets.head()\n",
    "\n",
    "years = np.arange(2000, 2015)\n",
    "g = sns.factorplot(x=\"year\", data=planets, kind=\"count\",\n",
    "                   palette=\"BuPu\", size=6, aspect=1.5, order=years)\n",
    "g.set_xticklabels(step=2)"
   ]
  },
  {
   "cell_type": "code",
   "execution_count": 30,
   "metadata": {
    "collapsed": false
   },
   "outputs": [
    {
     "data": {
      "text/html": [
       "<div>\n",
       "<style scoped>\n",
       "    .dataframe tbody tr th:only-of-type {\n",
       "        vertical-align: middle;\n",
       "    }\n",
       "\n",
       "    .dataframe tbody tr th {\n",
       "        vertical-align: top;\n",
       "    }\n",
       "\n",
       "    .dataframe thead th {\n",
       "        text-align: right;\n",
       "    }\n",
       "</style>\n",
       "<table border=\"1\" class=\"dataframe\">\n",
       "  <thead>\n",
       "    <tr style=\"text-align: right;\">\n",
       "      <th></th>\n",
       "      <th>user</th>\n",
       "      <th>uj</th>\n",
       "      <th>step</th>\n",
       "      <th>cycle</th>\n",
       "      <th>error type</th>\n",
       "      <th>error cause</th>\n",
       "      <th>cause message/ddi</th>\n",
       "    </tr>\n",
       "    <tr>\n",
       "      <th>time</th>\n",
       "      <th></th>\n",
       "      <th></th>\n",
       "      <th></th>\n",
       "      <th></th>\n",
       "      <th></th>\n",
       "      <th></th>\n",
       "      <th></th>\n",
       "    </tr>\n",
       "  </thead>\n",
       "  <tbody>\n",
       "    <tr>\n",
       "      <th>2018-01-29 01:46:29</th>\n",
       "      <td>9</td>\n",
       "      <td>Open and Assign CM WO as Supervisor</td>\n",
       "      <td>Select WO</td>\n",
       "      <td>0</td>\n",
       "      <td>500</td>\n",
       "      <td>500</td>\n",
       "      <td>NaN</td>\n",
       "    </tr>\n",
       "    <tr>\n",
       "      <th>2018-01-29 02:57:04</th>\n",
       "      <td>9</td>\n",
       "      <td>Open and Assign CM WO as Supervisor</td>\n",
       "      <td>Save</td>\n",
       "      <td>46</td>\n",
       "      <td>Success Validation Failure</td>\n",
       "      <td>operation resulted in a table with zero rows</td>\n",
       "      <td>searchterm: Record has been saved.</td>\n",
       "    </tr>\n",
       "    <tr>\n",
       "      <th>2018-01-29 04:01:16</th>\n",
       "      <td>9</td>\n",
       "      <td>Open and Assign CM WO as Supervisor</td>\n",
       "      <td>Save</td>\n",
       "      <td>88</td>\n",
       "      <td>Success Validation Failure</td>\n",
       "      <td>Warning Message</td>\n",
       "      <td>BMXAA8229W - Record WORKORDER :  Site=WW Work ...</td>\n",
       "    </tr>\n",
       "    <tr>\n",
       "      <th>2018-01-29 04:56:36</th>\n",
       "      <td>9</td>\n",
       "      <td>Open and Assign CM WO as Supervisor</td>\n",
       "      <td>Save</td>\n",
       "      <td>126</td>\n",
       "      <td>Success Validation Failure</td>\n",
       "      <td>Warning Message</td>\n",
       "      <td>BMXAA8229W - Record WORKORDER :  Site=WW Work ...</td>\n",
       "    </tr>\n",
       "    <tr>\n",
       "      <th>2018-01-29 05:11:33</th>\n",
       "      <td>9</td>\n",
       "      <td>Open and Assign CM WO as Supervisor</td>\n",
       "      <td>Save</td>\n",
       "      <td>136</td>\n",
       "      <td>Success Validation Failure</td>\n",
       "      <td>Warning Message</td>\n",
       "      <td>BMXAA8229W - Record WORKORDER :  Site=WW Work ...</td>\n",
       "    </tr>\n",
       "  </tbody>\n",
       "</table>\n",
       "</div>"
      ],
      "text/plain": [
       "                     user                                   uj       step  \\\n",
       "time                                                                        \n",
       "2018-01-29 01:46:29     9  Open and Assign CM WO as Supervisor  Select WO   \n",
       "2018-01-29 02:57:04     9  Open and Assign CM WO as Supervisor       Save   \n",
       "2018-01-29 04:01:16     9  Open and Assign CM WO as Supervisor       Save   \n",
       "2018-01-29 04:56:36     9  Open and Assign CM WO as Supervisor       Save   \n",
       "2018-01-29 05:11:33     9  Open and Assign CM WO as Supervisor       Save   \n",
       "\n",
       "                     cycle                  error type  \\\n",
       "time                                                     \n",
       "2018-01-29 01:46:29      0                         500   \n",
       "2018-01-29 02:57:04     46  Success Validation Failure   \n",
       "2018-01-29 04:01:16     88  Success Validation Failure   \n",
       "2018-01-29 04:56:36    126  Success Validation Failure   \n",
       "2018-01-29 05:11:33    136  Success Validation Failure   \n",
       "\n",
       "                                                      error cause  \\\n",
       "time                                                                \n",
       "2018-01-29 01:46:29                                           500   \n",
       "2018-01-29 02:57:04  operation resulted in a table with zero rows   \n",
       "2018-01-29 04:01:16                               Warning Message   \n",
       "2018-01-29 04:56:36                               Warning Message   \n",
       "2018-01-29 05:11:33                               Warning Message   \n",
       "\n",
       "                                                     cause message/ddi  \n",
       "time                                                                    \n",
       "2018-01-29 01:46:29                                                NaN  \n",
       "2018-01-29 02:57:04                 searchterm: Record has been saved.  \n",
       "2018-01-29 04:01:16  BMXAA8229W - Record WORKORDER :  Site=WW Work ...  \n",
       "2018-01-29 04:56:36  BMXAA8229W - Record WORKORDER :  Site=WW Work ...  \n",
       "2018-01-29 05:11:33  BMXAA8229W - Record WORKORDER :  Site=WW Work ...  "
      ]
     },
     "execution_count": 30,
     "metadata": {},
     "output_type": "execute_result"
    }
   ],
   "source": [
    "udf.head()"
   ]
  },
  {
   "cell_type": "code",
   "execution_count": 31,
   "metadata": {
    "collapsed": false
   },
   "outputs": [
    {
     "data": {
      "text/html": [
       "<div>\n",
       "<style scoped>\n",
       "    .dataframe tbody tr th:only-of-type {\n",
       "        vertical-align: middle;\n",
       "    }\n",
       "\n",
       "    .dataframe tbody tr th {\n",
       "        vertical-align: top;\n",
       "    }\n",
       "\n",
       "    .dataframe thead th {\n",
       "        text-align: right;\n",
       "    }\n",
       "</style>\n",
       "<table border=\"1\" class=\"dataframe\">\n",
       "  <thead>\n",
       "    <tr style=\"text-align: right;\">\n",
       "      <th></th>\n",
       "      <th>user</th>\n",
       "    </tr>\n",
       "    <tr>\n",
       "      <th>time</th>\n",
       "      <th></th>\n",
       "    </tr>\n",
       "  </thead>\n",
       "  <tbody>\n",
       "    <tr>\n",
       "      <th>2018-01-29 01:00:00</th>\n",
       "      <td>1</td>\n",
       "    </tr>\n",
       "    <tr>\n",
       "      <th>2018-01-29 02:00:00</th>\n",
       "      <td>1</td>\n",
       "    </tr>\n",
       "    <tr>\n",
       "      <th>2018-01-29 03:00:00</th>\n",
       "      <td>0</td>\n",
       "    </tr>\n",
       "    <tr>\n",
       "      <th>2018-01-29 04:00:00</th>\n",
       "      <td>2</td>\n",
       "    </tr>\n",
       "    <tr>\n",
       "      <th>2018-01-29 05:00:00</th>\n",
       "      <td>3</td>\n",
       "    </tr>\n",
       "    <tr>\n",
       "      <th>2018-01-29 06:00:00</th>\n",
       "      <td>53</td>\n",
       "    </tr>\n",
       "    <tr>\n",
       "      <th>2018-01-29 07:00:00</th>\n",
       "      <td>103</td>\n",
       "    </tr>\n",
       "    <tr>\n",
       "      <th>2018-01-29 08:00:00</th>\n",
       "      <td>100</td>\n",
       "    </tr>\n",
       "    <tr>\n",
       "      <th>2018-01-29 09:00:00</th>\n",
       "      <td>74</td>\n",
       "    </tr>\n",
       "  </tbody>\n",
       "</table>\n",
       "</div>"
      ],
      "text/plain": [
       "                     user\n",
       "time                     \n",
       "2018-01-29 01:00:00     1\n",
       "2018-01-29 02:00:00     1\n",
       "2018-01-29 03:00:00     0\n",
       "2018-01-29 04:00:00     2\n",
       "2018-01-29 05:00:00     3\n",
       "2018-01-29 06:00:00    53\n",
       "2018-01-29 07:00:00   103\n",
       "2018-01-29 08:00:00   100\n",
       "2018-01-29 09:00:00    74"
      ]
     },
     "execution_count": 31,
     "metadata": {},
     "output_type": "execute_result"
    }
   ],
   "source": [
    "hdf = pd.DataFrame()\n",
    "hdf['user'] = udf.user.resample('H').count()\n",
    "hdf"
   ]
  },
  {
   "cell_type": "code",
   "execution_count": 32,
   "metadata": {
    "collapsed": false,
    "scrolled": true
   },
   "outputs": [
    {
     "data": {
      "text/html": [
       "<div>\n",
       "<style scoped>\n",
       "    .dataframe tbody tr th:only-of-type {\n",
       "        vertical-align: middle;\n",
       "    }\n",
       "\n",
       "    .dataframe tbody tr th {\n",
       "        vertical-align: top;\n",
       "    }\n",
       "\n",
       "    .dataframe thead th {\n",
       "        text-align: right;\n",
       "    }\n",
       "</style>\n",
       "<table border=\"1\" class=\"dataframe\">\n",
       "  <thead>\n",
       "    <tr style=\"text-align: right;\">\n",
       "      <th></th>\n",
       "      <th>error type</th>\n",
       "      <th>cycle</th>\n",
       "    </tr>\n",
       "    <tr>\n",
       "      <th>time</th>\n",
       "      <th></th>\n",
       "      <th></th>\n",
       "    </tr>\n",
       "  </thead>\n",
       "  <tbody>\n",
       "    <tr>\n",
       "      <th>2018-01-29 01:46:29</th>\n",
       "      <td>500</td>\n",
       "      <td>0</td>\n",
       "    </tr>\n",
       "    <tr>\n",
       "      <th>2018-01-29 02:57:04</th>\n",
       "      <td>Success Validation Failure</td>\n",
       "      <td>46</td>\n",
       "    </tr>\n",
       "    <tr>\n",
       "      <th>2018-01-29 04:01:16</th>\n",
       "      <td>Success Validation Failure</td>\n",
       "      <td>88</td>\n",
       "    </tr>\n",
       "    <tr>\n",
       "      <th>2018-01-29 04:56:36</th>\n",
       "      <td>Success Validation Failure</td>\n",
       "      <td>126</td>\n",
       "    </tr>\n",
       "    <tr>\n",
       "      <th>2018-01-29 05:11:33</th>\n",
       "      <td>Success Validation Failure</td>\n",
       "      <td>136</td>\n",
       "    </tr>\n",
       "    <tr>\n",
       "      <th>2018-01-29 05:31:07</th>\n",
       "      <td>Success Validation Failure</td>\n",
       "      <td>150</td>\n",
       "    </tr>\n",
       "    <tr>\n",
       "      <th>2018-01-29 05:58:38</th>\n",
       "      <td>Success Validation Failure</td>\n",
       "      <td>169</td>\n",
       "    </tr>\n",
       "    <tr>\n",
       "      <th>2018-01-29 06:10:28</th>\n",
       "      <td>Success Validation Failure</td>\n",
       "      <td>177</td>\n",
       "    </tr>\n",
       "    <tr>\n",
       "      <th>2018-01-29 06:11:47</th>\n",
       "      <td>Success Validation Failure</td>\n",
       "      <td>178</td>\n",
       "    </tr>\n",
       "    <tr>\n",
       "      <th>2018-01-29 06:16:31</th>\n",
       "      <td>Success Validation Failure</td>\n",
       "      <td>182</td>\n",
       "    </tr>\n",
       "    <tr>\n",
       "      <th>2018-01-29 06:17:22</th>\n",
       "      <td>Success Validation Failure</td>\n",
       "      <td>183</td>\n",
       "    </tr>\n",
       "    <tr>\n",
       "      <th>2018-01-29 06:21:21</th>\n",
       "      <td>Success Validation Failure</td>\n",
       "      <td>186</td>\n",
       "    </tr>\n",
       "    <tr>\n",
       "      <th>2018-01-29 06:22:42</th>\n",
       "      <td>Success Validation Failure</td>\n",
       "      <td>187</td>\n",
       "    </tr>\n",
       "    <tr>\n",
       "      <th>2018-01-29 06:24:04</th>\n",
       "      <td>Success Validation Failure</td>\n",
       "      <td>188</td>\n",
       "    </tr>\n",
       "    <tr>\n",
       "      <th>2018-01-29 06:25:15</th>\n",
       "      <td>Success Validation Failure</td>\n",
       "      <td>189</td>\n",
       "    </tr>\n",
       "    <tr>\n",
       "      <th>2018-01-29 06:26:41</th>\n",
       "      <td>Success Validation Failure</td>\n",
       "      <td>190</td>\n",
       "    </tr>\n",
       "    <tr>\n",
       "      <th>2018-01-29 06:34:15</th>\n",
       "      <td>Response DD Extraction Failure</td>\n",
       "      <td>196</td>\n",
       "    </tr>\n",
       "    <tr>\n",
       "      <th>2018-01-29 06:34:44</th>\n",
       "      <td>Response DD Extraction Failure</td>\n",
       "      <td>197</td>\n",
       "    </tr>\n",
       "    <tr>\n",
       "      <th>2018-01-29 06:35:24</th>\n",
       "      <td>Response DD Extraction Failure</td>\n",
       "      <td>198</td>\n",
       "    </tr>\n",
       "    <tr>\n",
       "      <th>2018-01-29 06:35:51</th>\n",
       "      <td>Response DD Extraction Failure</td>\n",
       "      <td>199</td>\n",
       "    </tr>\n",
       "    <tr>\n",
       "      <th>2018-01-29 06:36:24</th>\n",
       "      <td>Response DD Extraction Failure</td>\n",
       "      <td>200</td>\n",
       "    </tr>\n",
       "    <tr>\n",
       "      <th>2018-01-29 06:37:05</th>\n",
       "      <td>Response DD Extraction Failure</td>\n",
       "      <td>201</td>\n",
       "    </tr>\n",
       "    <tr>\n",
       "      <th>2018-01-29 06:37:38</th>\n",
       "      <td>Response DD Extraction Failure</td>\n",
       "      <td>202</td>\n",
       "    </tr>\n",
       "    <tr>\n",
       "      <th>2018-01-29 06:38:12</th>\n",
       "      <td>Response DD Extraction Failure</td>\n",
       "      <td>203</td>\n",
       "    </tr>\n",
       "    <tr>\n",
       "      <th>2018-01-29 06:38:52</th>\n",
       "      <td>Response DD Extraction Failure</td>\n",
       "      <td>204</td>\n",
       "    </tr>\n",
       "    <tr>\n",
       "      <th>2018-01-29 06:39:32</th>\n",
       "      <td>Response DD Extraction Failure</td>\n",
       "      <td>205</td>\n",
       "    </tr>\n",
       "    <tr>\n",
       "      <th>2018-01-29 06:40:02</th>\n",
       "      <td>Response DD Extraction Failure</td>\n",
       "      <td>206</td>\n",
       "    </tr>\n",
       "    <tr>\n",
       "      <th>2018-01-29 06:40:37</th>\n",
       "      <td>Response DD Extraction Failure</td>\n",
       "      <td>207</td>\n",
       "    </tr>\n",
       "    <tr>\n",
       "      <th>2018-01-29 06:41:09</th>\n",
       "      <td>Response DD Extraction Failure</td>\n",
       "      <td>208</td>\n",
       "    </tr>\n",
       "    <tr>\n",
       "      <th>2018-01-29 06:41:42</th>\n",
       "      <td>Response DD Extraction Failure</td>\n",
       "      <td>209</td>\n",
       "    </tr>\n",
       "    <tr>\n",
       "      <th>...</th>\n",
       "      <td>...</td>\n",
       "      <td>...</td>\n",
       "    </tr>\n",
       "    <tr>\n",
       "      <th>2018-01-29 09:25:44</th>\n",
       "      <td>Response DD Extraction Failure</td>\n",
       "      <td>487</td>\n",
       "    </tr>\n",
       "    <tr>\n",
       "      <th>2018-01-29 09:26:24</th>\n",
       "      <td>Response DD Extraction Failure</td>\n",
       "      <td>488</td>\n",
       "    </tr>\n",
       "    <tr>\n",
       "      <th>2018-01-29 09:26:52</th>\n",
       "      <td>Response DD Extraction Failure</td>\n",
       "      <td>489</td>\n",
       "    </tr>\n",
       "    <tr>\n",
       "      <th>2018-01-29 09:27:22</th>\n",
       "      <td>Response DD Extraction Failure</td>\n",
       "      <td>490</td>\n",
       "    </tr>\n",
       "    <tr>\n",
       "      <th>2018-01-29 09:27:55</th>\n",
       "      <td>Response DD Extraction Failure</td>\n",
       "      <td>491</td>\n",
       "    </tr>\n",
       "    <tr>\n",
       "      <th>2018-01-29 09:28:30</th>\n",
       "      <td>Response DD Extraction Failure</td>\n",
       "      <td>492</td>\n",
       "    </tr>\n",
       "    <tr>\n",
       "      <th>2018-01-29 09:29:09</th>\n",
       "      <td>Response DD Extraction Failure</td>\n",
       "      <td>493</td>\n",
       "    </tr>\n",
       "    <tr>\n",
       "      <th>2018-01-29 09:29:42</th>\n",
       "      <td>Response DD Extraction Failure</td>\n",
       "      <td>494</td>\n",
       "    </tr>\n",
       "    <tr>\n",
       "      <th>2018-01-29 09:30:21</th>\n",
       "      <td>Response DD Extraction Failure</td>\n",
       "      <td>495</td>\n",
       "    </tr>\n",
       "    <tr>\n",
       "      <th>2018-01-29 09:30:55</th>\n",
       "      <td>Response DD Extraction Failure</td>\n",
       "      <td>496</td>\n",
       "    </tr>\n",
       "    <tr>\n",
       "      <th>2018-01-29 09:31:33</th>\n",
       "      <td>Response DD Extraction Failure</td>\n",
       "      <td>497</td>\n",
       "    </tr>\n",
       "    <tr>\n",
       "      <th>2018-01-29 09:32:14</th>\n",
       "      <td>Response DD Extraction Failure</td>\n",
       "      <td>498</td>\n",
       "    </tr>\n",
       "    <tr>\n",
       "      <th>2018-01-29 09:32:44</th>\n",
       "      <td>Response DD Extraction Failure</td>\n",
       "      <td>499</td>\n",
       "    </tr>\n",
       "    <tr>\n",
       "      <th>2018-01-29 09:33:24</th>\n",
       "      <td>Response DD Extraction Failure</td>\n",
       "      <td>500</td>\n",
       "    </tr>\n",
       "    <tr>\n",
       "      <th>2018-01-29 09:33:56</th>\n",
       "      <td>Response DD Extraction Failure</td>\n",
       "      <td>501</td>\n",
       "    </tr>\n",
       "    <tr>\n",
       "      <th>2018-01-29 09:34:32</th>\n",
       "      <td>Response DD Extraction Failure</td>\n",
       "      <td>502</td>\n",
       "    </tr>\n",
       "    <tr>\n",
       "      <th>2018-01-29 09:35:09</th>\n",
       "      <td>Response DD Extraction Failure</td>\n",
       "      <td>503</td>\n",
       "    </tr>\n",
       "    <tr>\n",
       "      <th>2018-01-29 09:35:48</th>\n",
       "      <td>Response DD Extraction Failure</td>\n",
       "      <td>504</td>\n",
       "    </tr>\n",
       "    <tr>\n",
       "      <th>2018-01-29 09:36:28</th>\n",
       "      <td>Response DD Extraction Failure</td>\n",
       "      <td>505</td>\n",
       "    </tr>\n",
       "    <tr>\n",
       "      <th>2018-01-29 09:37:04</th>\n",
       "      <td>Response DD Extraction Failure</td>\n",
       "      <td>506</td>\n",
       "    </tr>\n",
       "    <tr>\n",
       "      <th>2018-01-29 09:37:32</th>\n",
       "      <td>Response DD Extraction Failure</td>\n",
       "      <td>507</td>\n",
       "    </tr>\n",
       "    <tr>\n",
       "      <th>2018-01-29 09:38:02</th>\n",
       "      <td>Response DD Extraction Failure</td>\n",
       "      <td>508</td>\n",
       "    </tr>\n",
       "    <tr>\n",
       "      <th>2018-01-29 09:38:39</th>\n",
       "      <td>Response DD Extraction Failure</td>\n",
       "      <td>509</td>\n",
       "    </tr>\n",
       "    <tr>\n",
       "      <th>2018-01-29 09:39:14</th>\n",
       "      <td>Response DD Extraction Failure</td>\n",
       "      <td>510</td>\n",
       "    </tr>\n",
       "    <tr>\n",
       "      <th>2018-01-29 09:39:51</th>\n",
       "      <td>Response DD Extraction Failure</td>\n",
       "      <td>511</td>\n",
       "    </tr>\n",
       "    <tr>\n",
       "      <th>2018-01-29 09:40:21</th>\n",
       "      <td>Response DD Extraction Failure</td>\n",
       "      <td>512</td>\n",
       "    </tr>\n",
       "    <tr>\n",
       "      <th>2018-01-29 09:41:00</th>\n",
       "      <td>Response DD Extraction Failure</td>\n",
       "      <td>513</td>\n",
       "    </tr>\n",
       "    <tr>\n",
       "      <th>2018-01-29 09:41:26</th>\n",
       "      <td>Response DD Extraction Failure</td>\n",
       "      <td>514</td>\n",
       "    </tr>\n",
       "    <tr>\n",
       "      <th>2018-01-29 09:42:08</th>\n",
       "      <td>Response DD Extraction Failure</td>\n",
       "      <td>515</td>\n",
       "    </tr>\n",
       "    <tr>\n",
       "      <th>2018-01-29 09:42:35</th>\n",
       "      <td>Response DD Extraction Failure</td>\n",
       "      <td>516</td>\n",
       "    </tr>\n",
       "  </tbody>\n",
       "</table>\n",
       "<p>337 rows × 2 columns</p>\n",
       "</div>"
      ],
      "text/plain": [
       "                                         error type  cycle\n",
       "time                                                      \n",
       "2018-01-29 01:46:29                             500      0\n",
       "2018-01-29 02:57:04      Success Validation Failure     46\n",
       "2018-01-29 04:01:16      Success Validation Failure     88\n",
       "2018-01-29 04:56:36      Success Validation Failure    126\n",
       "2018-01-29 05:11:33      Success Validation Failure    136\n",
       "2018-01-29 05:31:07      Success Validation Failure    150\n",
       "2018-01-29 05:58:38      Success Validation Failure    169\n",
       "2018-01-29 06:10:28      Success Validation Failure    177\n",
       "2018-01-29 06:11:47      Success Validation Failure    178\n",
       "2018-01-29 06:16:31      Success Validation Failure    182\n",
       "2018-01-29 06:17:22      Success Validation Failure    183\n",
       "2018-01-29 06:21:21      Success Validation Failure    186\n",
       "2018-01-29 06:22:42      Success Validation Failure    187\n",
       "2018-01-29 06:24:04      Success Validation Failure    188\n",
       "2018-01-29 06:25:15      Success Validation Failure    189\n",
       "2018-01-29 06:26:41      Success Validation Failure    190\n",
       "2018-01-29 06:34:15  Response DD Extraction Failure    196\n",
       "2018-01-29 06:34:44  Response DD Extraction Failure    197\n",
       "2018-01-29 06:35:24  Response DD Extraction Failure    198\n",
       "2018-01-29 06:35:51  Response DD Extraction Failure    199\n",
       "2018-01-29 06:36:24  Response DD Extraction Failure    200\n",
       "2018-01-29 06:37:05  Response DD Extraction Failure    201\n",
       "2018-01-29 06:37:38  Response DD Extraction Failure    202\n",
       "2018-01-29 06:38:12  Response DD Extraction Failure    203\n",
       "2018-01-29 06:38:52  Response DD Extraction Failure    204\n",
       "2018-01-29 06:39:32  Response DD Extraction Failure    205\n",
       "2018-01-29 06:40:02  Response DD Extraction Failure    206\n",
       "2018-01-29 06:40:37  Response DD Extraction Failure    207\n",
       "2018-01-29 06:41:09  Response DD Extraction Failure    208\n",
       "2018-01-29 06:41:42  Response DD Extraction Failure    209\n",
       "...                                             ...    ...\n",
       "2018-01-29 09:25:44  Response DD Extraction Failure    487\n",
       "2018-01-29 09:26:24  Response DD Extraction Failure    488\n",
       "2018-01-29 09:26:52  Response DD Extraction Failure    489\n",
       "2018-01-29 09:27:22  Response DD Extraction Failure    490\n",
       "2018-01-29 09:27:55  Response DD Extraction Failure    491\n",
       "2018-01-29 09:28:30  Response DD Extraction Failure    492\n",
       "2018-01-29 09:29:09  Response DD Extraction Failure    493\n",
       "2018-01-29 09:29:42  Response DD Extraction Failure    494\n",
       "2018-01-29 09:30:21  Response DD Extraction Failure    495\n",
       "2018-01-29 09:30:55  Response DD Extraction Failure    496\n",
       "2018-01-29 09:31:33  Response DD Extraction Failure    497\n",
       "2018-01-29 09:32:14  Response DD Extraction Failure    498\n",
       "2018-01-29 09:32:44  Response DD Extraction Failure    499\n",
       "2018-01-29 09:33:24  Response DD Extraction Failure    500\n",
       "2018-01-29 09:33:56  Response DD Extraction Failure    501\n",
       "2018-01-29 09:34:32  Response DD Extraction Failure    502\n",
       "2018-01-29 09:35:09  Response DD Extraction Failure    503\n",
       "2018-01-29 09:35:48  Response DD Extraction Failure    504\n",
       "2018-01-29 09:36:28  Response DD Extraction Failure    505\n",
       "2018-01-29 09:37:04  Response DD Extraction Failure    506\n",
       "2018-01-29 09:37:32  Response DD Extraction Failure    507\n",
       "2018-01-29 09:38:02  Response DD Extraction Failure    508\n",
       "2018-01-29 09:38:39  Response DD Extraction Failure    509\n",
       "2018-01-29 09:39:14  Response DD Extraction Failure    510\n",
       "2018-01-29 09:39:51  Response DD Extraction Failure    511\n",
       "2018-01-29 09:40:21  Response DD Extraction Failure    512\n",
       "2018-01-29 09:41:00  Response DD Extraction Failure    513\n",
       "2018-01-29 09:41:26  Response DD Extraction Failure    514\n",
       "2018-01-29 09:42:08  Response DD Extraction Failure    515\n",
       "2018-01-29 09:42:35  Response DD Extraction Failure    516\n",
       "\n",
       "[337 rows x 2 columns]"
      ]
     },
     "execution_count": 32,
     "metadata": {},
     "output_type": "execute_result"
    }
   ],
   "source": [
    "tmpdf = pd.DataFrame()\n",
    "tmpdf['error type'] = udf['error type']\n",
    "tmpdf['cycle'] = udf['cycle'].astype(int)\n",
    "tmpdf"
   ]
  },
  {
   "cell_type": "markdown",
   "metadata": {},
   "source": [
    "The \".groupby\" works as follows: creates sor of \"dictionary\" (DataFrameGroupBy object) with keys matching the groups, and each value in the dictionary is a DataFrame with the corresponding rows from the original DF."
   ]
  },
  {
   "cell_type": "code",
   "execution_count": 33,
   "metadata": {
    "collapsed": false,
    "scrolled": true
   },
   "outputs": [
    {
     "name": "stdout",
     "output_type": "stream",
     "text": [
      "                    error type  cycle\n",
      "time                                 \n",
      "2018-01-29 01:46:29        500      0 \n",
      "\n",
      "\n",
      "                                         error type  cycle\n",
      "time                                                      \n",
      "2018-01-29 06:34:15  Response DD Extraction Failure    196\n",
      "2018-01-29 06:34:44  Response DD Extraction Failure    197\n",
      "2018-01-29 06:35:24  Response DD Extraction Failure    198\n",
      "2018-01-29 06:35:51  Response DD Extraction Failure    199\n",
      "2018-01-29 06:36:24  Response DD Extraction Failure    200\n",
      "2018-01-29 06:37:05  Response DD Extraction Failure    201\n",
      "2018-01-29 06:37:38  Response DD Extraction Failure    202\n",
      "2018-01-29 06:38:12  Response DD Extraction Failure    203\n",
      "2018-01-29 06:38:52  Response DD Extraction Failure    204\n",
      "2018-01-29 06:39:32  Response DD Extraction Failure    205\n",
      "2018-01-29 06:40:02  Response DD Extraction Failure    206\n",
      "2018-01-29 06:40:37  Response DD Extraction Failure    207\n",
      "2018-01-29 06:41:09  Response DD Extraction Failure    208\n",
      "2018-01-29 06:41:42  Response DD Extraction Failure    209\n",
      "2018-01-29 06:42:11  Response DD Extraction Failure    210\n",
      "2018-01-29 06:42:57  Response DD Extraction Failure    211\n",
      "2018-01-29 06:43:35  Response DD Extraction Failure    212\n",
      "2018-01-29 06:44:19  Response DD Extraction Failure    213\n",
      "2018-01-29 06:44:49  Response DD Extraction Failure    214\n",
      "2018-01-29 06:45:27  Response DD Extraction Failure    215\n",
      "2018-01-29 06:46:00  Response DD Extraction Failure    216\n",
      "2018-01-29 06:46:32  Response DD Extraction Failure    217\n",
      "2018-01-29 06:47:05  Response DD Extraction Failure    218\n",
      "2018-01-29 06:47:44  Response DD Extraction Failure    219\n",
      "2018-01-29 06:48:22  Response DD Extraction Failure    220\n",
      "2018-01-29 06:48:56  Response DD Extraction Failure    221\n",
      "2018-01-29 06:49:35  Response DD Extraction Failure    222\n",
      "2018-01-29 06:50:13  Response DD Extraction Failure    223\n",
      "2018-01-29 06:50:40  Response DD Extraction Failure    224\n",
      "2018-01-29 06:51:14  Response DD Extraction Failure    225\n",
      "...                                             ...    ...\n",
      "2018-01-29 09:25:44  Response DD Extraction Failure    487\n",
      "2018-01-29 09:26:24  Response DD Extraction Failure    488\n",
      "2018-01-29 09:26:52  Response DD Extraction Failure    489\n",
      "2018-01-29 09:27:22  Response DD Extraction Failure    490\n",
      "2018-01-29 09:27:55  Response DD Extraction Failure    491\n",
      "2018-01-29 09:28:30  Response DD Extraction Failure    492\n",
      "2018-01-29 09:29:09  Response DD Extraction Failure    493\n",
      "2018-01-29 09:29:42  Response DD Extraction Failure    494\n",
      "2018-01-29 09:30:21  Response DD Extraction Failure    495\n",
      "2018-01-29 09:30:55  Response DD Extraction Failure    496\n",
      "2018-01-29 09:31:33  Response DD Extraction Failure    497\n",
      "2018-01-29 09:32:14  Response DD Extraction Failure    498\n",
      "2018-01-29 09:32:44  Response DD Extraction Failure    499\n",
      "2018-01-29 09:33:24  Response DD Extraction Failure    500\n",
      "2018-01-29 09:33:56  Response DD Extraction Failure    501\n",
      "2018-01-29 09:34:32  Response DD Extraction Failure    502\n",
      "2018-01-29 09:35:09  Response DD Extraction Failure    503\n",
      "2018-01-29 09:35:48  Response DD Extraction Failure    504\n",
      "2018-01-29 09:36:28  Response DD Extraction Failure    505\n",
      "2018-01-29 09:37:04  Response DD Extraction Failure    506\n",
      "2018-01-29 09:37:32  Response DD Extraction Failure    507\n",
      "2018-01-29 09:38:02  Response DD Extraction Failure    508\n",
      "2018-01-29 09:38:39  Response DD Extraction Failure    509\n",
      "2018-01-29 09:39:14  Response DD Extraction Failure    510\n",
      "2018-01-29 09:39:51  Response DD Extraction Failure    511\n",
      "2018-01-29 09:40:21  Response DD Extraction Failure    512\n",
      "2018-01-29 09:41:00  Response DD Extraction Failure    513\n",
      "2018-01-29 09:41:26  Response DD Extraction Failure    514\n",
      "2018-01-29 09:42:08  Response DD Extraction Failure    515\n",
      "2018-01-29 09:42:35  Response DD Extraction Failure    516\n",
      "\n",
      "[321 rows x 2 columns] \n",
      "\n",
      "\n",
      "                                     error type  cycle\n",
      "time                                                  \n",
      "2018-01-29 02:57:04  Success Validation Failure     46\n",
      "2018-01-29 04:01:16  Success Validation Failure     88\n",
      "2018-01-29 04:56:36  Success Validation Failure    126\n",
      "2018-01-29 05:11:33  Success Validation Failure    136\n",
      "2018-01-29 05:31:07  Success Validation Failure    150\n",
      "2018-01-29 05:58:38  Success Validation Failure    169\n",
      "2018-01-29 06:10:28  Success Validation Failure    177\n",
      "2018-01-29 06:11:47  Success Validation Failure    178\n",
      "2018-01-29 06:16:31  Success Validation Failure    182\n",
      "2018-01-29 06:17:22  Success Validation Failure    183\n",
      "2018-01-29 06:21:21  Success Validation Failure    186\n",
      "2018-01-29 06:22:42  Success Validation Failure    187\n",
      "2018-01-29 06:24:04  Success Validation Failure    188\n",
      "2018-01-29 06:25:15  Success Validation Failure    189\n",
      "2018-01-29 06:26:41  Success Validation Failure    190 \n",
      "\n",
      "\n"
     ]
    }
   ],
   "source": [
    "grouped_df = tmpdf.groupby('error type')\n",
    "for key, item in grouped_df:\n",
    "    print(grouped_df.get_group(key), '\\n\\n')"
   ]
  },
  {
   "cell_type": "markdown",
   "metadata": {},
   "source": [
    "Applying a function to the DataFrameGroupBy object, causes it to be \"reduced\" to a regular DataFrame - prior dict keys are now indexes and the rows values are collapsed"
   ]
  },
  {
   "cell_type": "code",
   "execution_count": 34,
   "metadata": {
    "collapsed": false
   },
   "outputs": [
    {
     "name": "stdout",
     "output_type": "stream",
     "text": [
      "<class 'pandas.core.frame.DataFrame'>\n"
     ]
    },
    {
     "data": {
      "text/html": [
       "<div>\n",
       "<style scoped>\n",
       "    .dataframe tbody tr th:only-of-type {\n",
       "        vertical-align: middle;\n",
       "    }\n",
       "\n",
       "    .dataframe tbody tr th {\n",
       "        vertical-align: top;\n",
       "    }\n",
       "\n",
       "    .dataframe thead th {\n",
       "        text-align: right;\n",
       "    }\n",
       "</style>\n",
       "<table border=\"1\" class=\"dataframe\">\n",
       "  <thead>\n",
       "    <tr style=\"text-align: right;\">\n",
       "      <th></th>\n",
       "      <th>cycle</th>\n",
       "    </tr>\n",
       "    <tr>\n",
       "      <th>error type</th>\n",
       "      <th></th>\n",
       "    </tr>\n",
       "  </thead>\n",
       "  <tbody>\n",
       "    <tr>\n",
       "      <th>500</th>\n",
       "      <td>0</td>\n",
       "    </tr>\n",
       "    <tr>\n",
       "      <th>Response DD Extraction Failure</th>\n",
       "      <td>114276</td>\n",
       "    </tr>\n",
       "    <tr>\n",
       "      <th>Success Validation Failure</th>\n",
       "      <td>2375</td>\n",
       "    </tr>\n",
       "  </tbody>\n",
       "</table>\n",
       "</div>"
      ],
      "text/plain": [
       "                                 cycle\n",
       "error type                            \n",
       "500                                  0\n",
       "Response DD Extraction Failure  114276\n",
       "Success Validation Failure        2375"
      ]
     },
     "execution_count": 34,
     "metadata": {},
     "output_type": "execute_result"
    }
   ],
   "source": [
    "summed = grouped_df.sum()\n",
    "print(type(summed))\n",
    "summed"
   ]
  },
  {
   "cell_type": "markdown",
   "metadata": {},
   "source": [
    "Applying `.resample(<period_encoding>)`, generally results in object that cannot be directly viewed (yet has index). Only after applyng additional function, the resulting object is a Dataframe."
   ]
  },
  {
   "cell_type": "code",
   "execution_count": 35,
   "metadata": {
    "collapsed": false
   },
   "outputs": [
    {
     "name": "stdout",
     "output_type": "stream",
     "text": [
      "DatetimeIndex(['2018-01-29 01:00:00', '2018-01-29 02:00:00',\n",
      "               '2018-01-29 03:00:00', '2018-01-29 04:00:00',\n",
      "               '2018-01-29 05:00:00', '2018-01-29 06:00:00',\n",
      "               '2018-01-29 07:00:00', '2018-01-29 08:00:00',\n",
      "               '2018-01-29 09:00:00'],\n",
      "              dtype='datetime64[ns]', name='time', freq='H')\n"
     ]
    },
    {
     "name": "stderr",
     "output_type": "stream",
     "text": [
      "/home/bob/.local/lib/python3.6/site-packages/ipykernel_launcher.py:2: FutureWarning: \n",
      ".resample() is now a deferred operation\n",
      "You called index(...) on this deferred object which materialized it into a dataframe\n",
      "by implicitly taking the mean.  Use .resample(...).mean() instead\n",
      "  \n"
     ]
    },
    {
     "data": {
      "text/html": [
       "<div>\n",
       "<style scoped>\n",
       "    .dataframe tbody tr th:only-of-type {\n",
       "        vertical-align: middle;\n",
       "    }\n",
       "\n",
       "    .dataframe tbody tr th {\n",
       "        vertical-align: top;\n",
       "    }\n",
       "\n",
       "    .dataframe thead th {\n",
       "        text-align: right;\n",
       "    }\n",
       "</style>\n",
       "<table border=\"1\" class=\"dataframe\">\n",
       "  <thead>\n",
       "    <tr style=\"text-align: right;\">\n",
       "      <th></th>\n",
       "      <th>cycle</th>\n",
       "    </tr>\n",
       "    <tr>\n",
       "      <th>time</th>\n",
       "      <th></th>\n",
       "    </tr>\n",
       "  </thead>\n",
       "  <tbody>\n",
       "    <tr>\n",
       "      <th>2018-01-29 01:00:00</th>\n",
       "      <td>0.000000</td>\n",
       "    </tr>\n",
       "    <tr>\n",
       "      <th>2018-01-29 02:00:00</th>\n",
       "      <td>46.000000</td>\n",
       "    </tr>\n",
       "    <tr>\n",
       "      <th>2018-01-29 03:00:00</th>\n",
       "      <td>NaN</td>\n",
       "    </tr>\n",
       "    <tr>\n",
       "      <th>2018-01-29 04:00:00</th>\n",
       "      <td>107.000000</td>\n",
       "    </tr>\n",
       "    <tr>\n",
       "      <th>2018-01-29 05:00:00</th>\n",
       "      <td>151.666667</td>\n",
       "    </tr>\n",
       "    <tr>\n",
       "      <th>2018-01-29 06:00:00</th>\n",
       "      <td>211.886792</td>\n",
       "    </tr>\n",
       "    <tr>\n",
       "      <th>2018-01-29 07:00:00</th>\n",
       "      <td>291.000000</td>\n",
       "    </tr>\n",
       "    <tr>\n",
       "      <th>2018-01-29 08:00:00</th>\n",
       "      <td>392.500000</td>\n",
       "    </tr>\n",
       "    <tr>\n",
       "      <th>2018-01-29 09:00:00</th>\n",
       "      <td>479.500000</td>\n",
       "    </tr>\n",
       "  </tbody>\n",
       "</table>\n",
       "</div>"
      ],
      "text/plain": [
       "                          cycle\n",
       "time                           \n",
       "2018-01-29 01:00:00    0.000000\n",
       "2018-01-29 02:00:00   46.000000\n",
       "2018-01-29 03:00:00         NaN\n",
       "2018-01-29 04:00:00  107.000000\n",
       "2018-01-29 05:00:00  151.666667\n",
       "2018-01-29 06:00:00  211.886792\n",
       "2018-01-29 07:00:00  291.000000\n",
       "2018-01-29 08:00:00  392.500000\n",
       "2018-01-29 09:00:00  479.500000"
      ]
     },
     "execution_count": 35,
     "metadata": {},
     "output_type": "execute_result"
    }
   ],
   "source": [
    "resampled = tmpdf.resample('H')\n",
    "print(resampled.index)\n",
    "# resampled.loc[resampled.index[0]]\n",
    "# resampled.iloc[0]\n",
    "\n",
    "resampled_mean = tmpdf.resample('H').mean()\n",
    "resampled_mean"
   ]
  },
  {
   "cell_type": "markdown",
   "metadata": {},
   "source": [
    "Applying `.resample()` on top of a grouped object, gives a DatetimeIndexResamplerGroupby object. The key difference is that now there is MuliIndex."
   ]
  },
  {
   "cell_type": "code",
   "execution_count": 36,
   "metadata": {
    "collapsed": false
   },
   "outputs": [
    {
     "name": "stdout",
     "output_type": "stream",
     "text": [
      "MultiIndex(levels=[['500', 'Response DD Extraction Failure', 'Success Validation Failure'], [2018-01-29 01:00:00, 2018-01-29 02:00:00, 2018-01-29 03:00:00, 2018-01-29 04:00:00, 2018-01-29 05:00:00, 2018-01-29 06:00:00, 2018-01-29 07:00:00, 2018-01-29 08:00:00, 2018-01-29 09:00:00]],\n",
      "           labels=[[0, 1, 1, 1, 1, 2, 2, 2, 2, 2], [0, 5, 6, 7, 8, 1, 2, 3, 4, 5]],\n",
      "           names=['error type', 'time'])\n"
     ]
    },
    {
     "name": "stderr",
     "output_type": "stream",
     "text": [
      "/home/bob/.local/lib/python3.6/site-packages/ipykernel_launcher.py:2: FutureWarning: \n",
      ".resample() is now a deferred operation\n",
      "You called index(...) on this deferred object which materialized it into a dataframe\n",
      "by implicitly taking the mean.  Use .resample(...).mean() instead\n",
      "  \n"
     ]
    },
    {
     "data": {
      "text/html": [
       "<div>\n",
       "<style scoped>\n",
       "    .dataframe tbody tr th:only-of-type {\n",
       "        vertical-align: middle;\n",
       "    }\n",
       "\n",
       "    .dataframe tbody tr th {\n",
       "        vertical-align: top;\n",
       "    }\n",
       "\n",
       "    .dataframe thead th {\n",
       "        text-align: right;\n",
       "    }\n",
       "</style>\n",
       "<table border=\"1\" class=\"dataframe\">\n",
       "  <thead>\n",
       "    <tr style=\"text-align: right;\">\n",
       "      <th></th>\n",
       "      <th></th>\n",
       "      <th>cycle</th>\n",
       "    </tr>\n",
       "    <tr>\n",
       "      <th>error type</th>\n",
       "      <th>time</th>\n",
       "      <th></th>\n",
       "    </tr>\n",
       "  </thead>\n",
       "  <tbody>\n",
       "    <tr>\n",
       "      <th>500</th>\n",
       "      <th>2018-01-29 01:00:00</th>\n",
       "      <td>0.000000</td>\n",
       "    </tr>\n",
       "    <tr>\n",
       "      <th rowspan=\"4\" valign=\"top\">Response DD Extraction Failure</th>\n",
       "      <th>2018-01-29 06:00:00</th>\n",
       "      <td>217.500000</td>\n",
       "    </tr>\n",
       "    <tr>\n",
       "      <th>2018-01-29 07:00:00</th>\n",
       "      <td>291.000000</td>\n",
       "    </tr>\n",
       "    <tr>\n",
       "      <th>2018-01-29 08:00:00</th>\n",
       "      <td>392.500000</td>\n",
       "    </tr>\n",
       "    <tr>\n",
       "      <th>2018-01-29 09:00:00</th>\n",
       "      <td>479.500000</td>\n",
       "    </tr>\n",
       "    <tr>\n",
       "      <th rowspan=\"5\" valign=\"top\">Success Validation Failure</th>\n",
       "      <th>2018-01-29 02:00:00</th>\n",
       "      <td>46.000000</td>\n",
       "    </tr>\n",
       "    <tr>\n",
       "      <th>2018-01-29 03:00:00</th>\n",
       "      <td>NaN</td>\n",
       "    </tr>\n",
       "    <tr>\n",
       "      <th>2018-01-29 04:00:00</th>\n",
       "      <td>107.000000</td>\n",
       "    </tr>\n",
       "    <tr>\n",
       "      <th>2018-01-29 05:00:00</th>\n",
       "      <td>151.666667</td>\n",
       "    </tr>\n",
       "    <tr>\n",
       "      <th>2018-01-29 06:00:00</th>\n",
       "      <td>184.444444</td>\n",
       "    </tr>\n",
       "  </tbody>\n",
       "</table>\n",
       "</div>"
      ],
      "text/plain": [
       "                                                         cycle\n",
       "error type                     time                           \n",
       "500                            2018-01-29 01:00:00    0.000000\n",
       "Response DD Extraction Failure 2018-01-29 06:00:00  217.500000\n",
       "                               2018-01-29 07:00:00  291.000000\n",
       "                               2018-01-29 08:00:00  392.500000\n",
       "                               2018-01-29 09:00:00  479.500000\n",
       "Success Validation Failure     2018-01-29 02:00:00   46.000000\n",
       "                               2018-01-29 03:00:00         NaN\n",
       "                               2018-01-29 04:00:00  107.000000\n",
       "                               2018-01-29 05:00:00  151.666667\n",
       "                               2018-01-29 06:00:00  184.444444"
      ]
     },
     "execution_count": 36,
     "metadata": {},
     "output_type": "execute_result"
    }
   ],
   "source": [
    "resampled = grouped_df.resample('H')\n",
    "print(resampled.index)\n",
    "resampled_mean = grouped_df.resample('H').mean()\n",
    "resampled_mean"
   ]
  },
  {
   "cell_type": "code",
   "execution_count": 37,
   "metadata": {
    "collapsed": false
   },
   "outputs": [
    {
     "data": {
      "text/html": [
       "<div>\n",
       "<style scoped>\n",
       "    .dataframe tbody tr th:only-of-type {\n",
       "        vertical-align: middle;\n",
       "    }\n",
       "\n",
       "    .dataframe tbody tr th {\n",
       "        vertical-align: top;\n",
       "    }\n",
       "\n",
       "    .dataframe thead tr th {\n",
       "        text-align: left;\n",
       "    }\n",
       "\n",
       "    .dataframe thead tr:last-of-type th {\n",
       "        text-align: right;\n",
       "    }\n",
       "</style>\n",
       "<table border=\"1\" class=\"dataframe\">\n",
       "  <thead>\n",
       "    <tr>\n",
       "      <th></th>\n",
       "      <th colspan=\"3\" halign=\"left\">error type</th>\n",
       "      <th colspan=\"3\" halign=\"left\">cycle</th>\n",
       "    </tr>\n",
       "    <tr>\n",
       "      <th>error type</th>\n",
       "      <th>500</th>\n",
       "      <th>Response DD Extraction Failure</th>\n",
       "      <th>Success Validation Failure</th>\n",
       "      <th>500</th>\n",
       "      <th>Response DD Extraction Failure</th>\n",
       "      <th>Success Validation Failure</th>\n",
       "    </tr>\n",
       "    <tr>\n",
       "      <th>time</th>\n",
       "      <th></th>\n",
       "      <th></th>\n",
       "      <th></th>\n",
       "      <th></th>\n",
       "      <th></th>\n",
       "      <th></th>\n",
       "    </tr>\n",
       "  </thead>\n",
       "  <tbody>\n",
       "    <tr>\n",
       "      <th>2018-01-29 01:00:00</th>\n",
       "      <td>1.0</td>\n",
       "      <td>NaN</td>\n",
       "      <td>NaN</td>\n",
       "      <td>1.0</td>\n",
       "      <td>NaN</td>\n",
       "      <td>NaN</td>\n",
       "    </tr>\n",
       "    <tr>\n",
       "      <th>2018-01-29 02:00:00</th>\n",
       "      <td>NaN</td>\n",
       "      <td>NaN</td>\n",
       "      <td>1.0</td>\n",
       "      <td>NaN</td>\n",
       "      <td>NaN</td>\n",
       "      <td>1.0</td>\n",
       "    </tr>\n",
       "    <tr>\n",
       "      <th>2018-01-29 03:00:00</th>\n",
       "      <td>NaN</td>\n",
       "      <td>NaN</td>\n",
       "      <td>0.0</td>\n",
       "      <td>NaN</td>\n",
       "      <td>NaN</td>\n",
       "      <td>0.0</td>\n",
       "    </tr>\n",
       "    <tr>\n",
       "      <th>2018-01-29 04:00:00</th>\n",
       "      <td>NaN</td>\n",
       "      <td>NaN</td>\n",
       "      <td>2.0</td>\n",
       "      <td>NaN</td>\n",
       "      <td>NaN</td>\n",
       "      <td>2.0</td>\n",
       "    </tr>\n",
       "    <tr>\n",
       "      <th>2018-01-29 05:00:00</th>\n",
       "      <td>NaN</td>\n",
       "      <td>NaN</td>\n",
       "      <td>3.0</td>\n",
       "      <td>NaN</td>\n",
       "      <td>NaN</td>\n",
       "      <td>3.0</td>\n",
       "    </tr>\n",
       "    <tr>\n",
       "      <th>2018-01-29 06:00:00</th>\n",
       "      <td>NaN</td>\n",
       "      <td>44.0</td>\n",
       "      <td>9.0</td>\n",
       "      <td>NaN</td>\n",
       "      <td>44.0</td>\n",
       "      <td>9.0</td>\n",
       "    </tr>\n",
       "    <tr>\n",
       "      <th>2018-01-29 07:00:00</th>\n",
       "      <td>NaN</td>\n",
       "      <td>103.0</td>\n",
       "      <td>NaN</td>\n",
       "      <td>NaN</td>\n",
       "      <td>103.0</td>\n",
       "      <td>NaN</td>\n",
       "    </tr>\n",
       "    <tr>\n",
       "      <th>2018-01-29 08:00:00</th>\n",
       "      <td>NaN</td>\n",
       "      <td>100.0</td>\n",
       "      <td>NaN</td>\n",
       "      <td>NaN</td>\n",
       "      <td>100.0</td>\n",
       "      <td>NaN</td>\n",
       "    </tr>\n",
       "    <tr>\n",
       "      <th>2018-01-29 09:00:00</th>\n",
       "      <td>NaN</td>\n",
       "      <td>74.0</td>\n",
       "      <td>NaN</td>\n",
       "      <td>NaN</td>\n",
       "      <td>74.0</td>\n",
       "      <td>NaN</td>\n",
       "    </tr>\n",
       "  </tbody>\n",
       "</table>\n",
       "</div>"
      ],
      "text/plain": [
       "                    error type                                 \\\n",
       "error type                 500 Response DD Extraction Failure   \n",
       "time                                                            \n",
       "2018-01-29 01:00:00        1.0                            NaN   \n",
       "2018-01-29 02:00:00        NaN                            NaN   \n",
       "2018-01-29 03:00:00        NaN                            NaN   \n",
       "2018-01-29 04:00:00        NaN                            NaN   \n",
       "2018-01-29 05:00:00        NaN                            NaN   \n",
       "2018-01-29 06:00:00        NaN                           44.0   \n",
       "2018-01-29 07:00:00        NaN                          103.0   \n",
       "2018-01-29 08:00:00        NaN                          100.0   \n",
       "2018-01-29 09:00:00        NaN                           74.0   \n",
       "\n",
       "                                               cycle  \\\n",
       "error type          Success Validation Failure   500   \n",
       "time                                                   \n",
       "2018-01-29 01:00:00                        NaN   1.0   \n",
       "2018-01-29 02:00:00                        1.0   NaN   \n",
       "2018-01-29 03:00:00                        0.0   NaN   \n",
       "2018-01-29 04:00:00                        2.0   NaN   \n",
       "2018-01-29 05:00:00                        3.0   NaN   \n",
       "2018-01-29 06:00:00                        9.0   NaN   \n",
       "2018-01-29 07:00:00                        NaN   NaN   \n",
       "2018-01-29 08:00:00                        NaN   NaN   \n",
       "2018-01-29 09:00:00                        NaN   NaN   \n",
       "\n",
       "                                                                               \n",
       "error type          Response DD Extraction Failure Success Validation Failure  \n",
       "time                                                                           \n",
       "2018-01-29 01:00:00                            NaN                        NaN  \n",
       "2018-01-29 02:00:00                            NaN                        1.0  \n",
       "2018-01-29 03:00:00                            NaN                        0.0  \n",
       "2018-01-29 04:00:00                            NaN                        2.0  \n",
       "2018-01-29 05:00:00                            NaN                        3.0  \n",
       "2018-01-29 06:00:00                           44.0                        9.0  \n",
       "2018-01-29 07:00:00                          103.0                        NaN  \n",
       "2018-01-29 08:00:00                          100.0                        NaN  \n",
       "2018-01-29 09:00:00                           74.0                        NaN  "
      ]
     },
     "execution_count": 37,
     "metadata": {},
     "output_type": "execute_result"
    }
   ],
   "source": [
    "ndf = tmpdf.groupby('error type').resample('H').count().unstack('error type')\n",
    "ndf"
   ]
  },
  {
   "cell_type": "markdown",
   "metadata": {},
   "source": [
    "The above case where we used the cycle as nummeric value is not ideal - changing to just error_type"
   ]
  },
  {
   "cell_type": "code",
   "execution_count": 38,
   "metadata": {
    "collapsed": false,
    "scrolled": true
   },
   "outputs": [
    {
     "data": {
      "text/html": [
       "<div>\n",
       "<style scoped>\n",
       "    .dataframe tbody tr th:only-of-type {\n",
       "        vertical-align: middle;\n",
       "    }\n",
       "\n",
       "    .dataframe tbody tr th {\n",
       "        vertical-align: top;\n",
       "    }\n",
       "\n",
       "    .dataframe thead th {\n",
       "        text-align: right;\n",
       "    }\n",
       "</style>\n",
       "<table border=\"1\" class=\"dataframe\">\n",
       "  <thead>\n",
       "    <tr style=\"text-align: right;\">\n",
       "      <th></th>\n",
       "      <th>error type</th>\n",
       "    </tr>\n",
       "    <tr>\n",
       "      <th>time</th>\n",
       "      <th></th>\n",
       "    </tr>\n",
       "  </thead>\n",
       "  <tbody>\n",
       "    <tr>\n",
       "      <th>2018-01-29 01:46:29</th>\n",
       "      <td>500</td>\n",
       "    </tr>\n",
       "    <tr>\n",
       "      <th>2018-01-29 02:57:04</th>\n",
       "      <td>Success Validation Failure</td>\n",
       "    </tr>\n",
       "    <tr>\n",
       "      <th>2018-01-29 04:01:16</th>\n",
       "      <td>Success Validation Failure</td>\n",
       "    </tr>\n",
       "    <tr>\n",
       "      <th>2018-01-29 04:56:36</th>\n",
       "      <td>Success Validation Failure</td>\n",
       "    </tr>\n",
       "    <tr>\n",
       "      <th>2018-01-29 05:11:33</th>\n",
       "      <td>Success Validation Failure</td>\n",
       "    </tr>\n",
       "    <tr>\n",
       "      <th>2018-01-29 05:31:07</th>\n",
       "      <td>Success Validation Failure</td>\n",
       "    </tr>\n",
       "    <tr>\n",
       "      <th>2018-01-29 05:58:38</th>\n",
       "      <td>Success Validation Failure</td>\n",
       "    </tr>\n",
       "    <tr>\n",
       "      <th>2018-01-29 06:10:28</th>\n",
       "      <td>Success Validation Failure</td>\n",
       "    </tr>\n",
       "    <tr>\n",
       "      <th>2018-01-29 06:11:47</th>\n",
       "      <td>Success Validation Failure</td>\n",
       "    </tr>\n",
       "    <tr>\n",
       "      <th>2018-01-29 06:16:31</th>\n",
       "      <td>Success Validation Failure</td>\n",
       "    </tr>\n",
       "    <tr>\n",
       "      <th>2018-01-29 06:17:22</th>\n",
       "      <td>Success Validation Failure</td>\n",
       "    </tr>\n",
       "    <tr>\n",
       "      <th>2018-01-29 06:21:21</th>\n",
       "      <td>Success Validation Failure</td>\n",
       "    </tr>\n",
       "    <tr>\n",
       "      <th>2018-01-29 06:22:42</th>\n",
       "      <td>Success Validation Failure</td>\n",
       "    </tr>\n",
       "    <tr>\n",
       "      <th>2018-01-29 06:24:04</th>\n",
       "      <td>Success Validation Failure</td>\n",
       "    </tr>\n",
       "    <tr>\n",
       "      <th>2018-01-29 06:25:15</th>\n",
       "      <td>Success Validation Failure</td>\n",
       "    </tr>\n",
       "    <tr>\n",
       "      <th>2018-01-29 06:26:41</th>\n",
       "      <td>Success Validation Failure</td>\n",
       "    </tr>\n",
       "    <tr>\n",
       "      <th>2018-01-29 06:34:15</th>\n",
       "      <td>Response DD Extraction Failure</td>\n",
       "    </tr>\n",
       "    <tr>\n",
       "      <th>2018-01-29 06:34:44</th>\n",
       "      <td>Response DD Extraction Failure</td>\n",
       "    </tr>\n",
       "    <tr>\n",
       "      <th>2018-01-29 06:35:24</th>\n",
       "      <td>Response DD Extraction Failure</td>\n",
       "    </tr>\n",
       "    <tr>\n",
       "      <th>2018-01-29 06:35:51</th>\n",
       "      <td>Response DD Extraction Failure</td>\n",
       "    </tr>\n",
       "    <tr>\n",
       "      <th>2018-01-29 06:36:24</th>\n",
       "      <td>Response DD Extraction Failure</td>\n",
       "    </tr>\n",
       "    <tr>\n",
       "      <th>2018-01-29 06:37:05</th>\n",
       "      <td>Response DD Extraction Failure</td>\n",
       "    </tr>\n",
       "    <tr>\n",
       "      <th>2018-01-29 06:37:38</th>\n",
       "      <td>Response DD Extraction Failure</td>\n",
       "    </tr>\n",
       "    <tr>\n",
       "      <th>2018-01-29 06:38:12</th>\n",
       "      <td>Response DD Extraction Failure</td>\n",
       "    </tr>\n",
       "    <tr>\n",
       "      <th>2018-01-29 06:38:52</th>\n",
       "      <td>Response DD Extraction Failure</td>\n",
       "    </tr>\n",
       "    <tr>\n",
       "      <th>2018-01-29 06:39:32</th>\n",
       "      <td>Response DD Extraction Failure</td>\n",
       "    </tr>\n",
       "    <tr>\n",
       "      <th>2018-01-29 06:40:02</th>\n",
       "      <td>Response DD Extraction Failure</td>\n",
       "    </tr>\n",
       "    <tr>\n",
       "      <th>2018-01-29 06:40:37</th>\n",
       "      <td>Response DD Extraction Failure</td>\n",
       "    </tr>\n",
       "    <tr>\n",
       "      <th>2018-01-29 06:41:09</th>\n",
       "      <td>Response DD Extraction Failure</td>\n",
       "    </tr>\n",
       "    <tr>\n",
       "      <th>2018-01-29 06:41:42</th>\n",
       "      <td>Response DD Extraction Failure</td>\n",
       "    </tr>\n",
       "    <tr>\n",
       "      <th>...</th>\n",
       "      <td>...</td>\n",
       "    </tr>\n",
       "    <tr>\n",
       "      <th>2018-01-29 09:25:44</th>\n",
       "      <td>Response DD Extraction Failure</td>\n",
       "    </tr>\n",
       "    <tr>\n",
       "      <th>2018-01-29 09:26:24</th>\n",
       "      <td>Response DD Extraction Failure</td>\n",
       "    </tr>\n",
       "    <tr>\n",
       "      <th>2018-01-29 09:26:52</th>\n",
       "      <td>Response DD Extraction Failure</td>\n",
       "    </tr>\n",
       "    <tr>\n",
       "      <th>2018-01-29 09:27:22</th>\n",
       "      <td>Response DD Extraction Failure</td>\n",
       "    </tr>\n",
       "    <tr>\n",
       "      <th>2018-01-29 09:27:55</th>\n",
       "      <td>Response DD Extraction Failure</td>\n",
       "    </tr>\n",
       "    <tr>\n",
       "      <th>2018-01-29 09:28:30</th>\n",
       "      <td>Response DD Extraction Failure</td>\n",
       "    </tr>\n",
       "    <tr>\n",
       "      <th>2018-01-29 09:29:09</th>\n",
       "      <td>Response DD Extraction Failure</td>\n",
       "    </tr>\n",
       "    <tr>\n",
       "      <th>2018-01-29 09:29:42</th>\n",
       "      <td>Response DD Extraction Failure</td>\n",
       "    </tr>\n",
       "    <tr>\n",
       "      <th>2018-01-29 09:30:21</th>\n",
       "      <td>Response DD Extraction Failure</td>\n",
       "    </tr>\n",
       "    <tr>\n",
       "      <th>2018-01-29 09:30:55</th>\n",
       "      <td>Response DD Extraction Failure</td>\n",
       "    </tr>\n",
       "    <tr>\n",
       "      <th>2018-01-29 09:31:33</th>\n",
       "      <td>Response DD Extraction Failure</td>\n",
       "    </tr>\n",
       "    <tr>\n",
       "      <th>2018-01-29 09:32:14</th>\n",
       "      <td>Response DD Extraction Failure</td>\n",
       "    </tr>\n",
       "    <tr>\n",
       "      <th>2018-01-29 09:32:44</th>\n",
       "      <td>Response DD Extraction Failure</td>\n",
       "    </tr>\n",
       "    <tr>\n",
       "      <th>2018-01-29 09:33:24</th>\n",
       "      <td>Response DD Extraction Failure</td>\n",
       "    </tr>\n",
       "    <tr>\n",
       "      <th>2018-01-29 09:33:56</th>\n",
       "      <td>Response DD Extraction Failure</td>\n",
       "    </tr>\n",
       "    <tr>\n",
       "      <th>2018-01-29 09:34:32</th>\n",
       "      <td>Response DD Extraction Failure</td>\n",
       "    </tr>\n",
       "    <tr>\n",
       "      <th>2018-01-29 09:35:09</th>\n",
       "      <td>Response DD Extraction Failure</td>\n",
       "    </tr>\n",
       "    <tr>\n",
       "      <th>2018-01-29 09:35:48</th>\n",
       "      <td>Response DD Extraction Failure</td>\n",
       "    </tr>\n",
       "    <tr>\n",
       "      <th>2018-01-29 09:36:28</th>\n",
       "      <td>Response DD Extraction Failure</td>\n",
       "    </tr>\n",
       "    <tr>\n",
       "      <th>2018-01-29 09:37:04</th>\n",
       "      <td>Response DD Extraction Failure</td>\n",
       "    </tr>\n",
       "    <tr>\n",
       "      <th>2018-01-29 09:37:32</th>\n",
       "      <td>Response DD Extraction Failure</td>\n",
       "    </tr>\n",
       "    <tr>\n",
       "      <th>2018-01-29 09:38:02</th>\n",
       "      <td>Response DD Extraction Failure</td>\n",
       "    </tr>\n",
       "    <tr>\n",
       "      <th>2018-01-29 09:38:39</th>\n",
       "      <td>Response DD Extraction Failure</td>\n",
       "    </tr>\n",
       "    <tr>\n",
       "      <th>2018-01-29 09:39:14</th>\n",
       "      <td>Response DD Extraction Failure</td>\n",
       "    </tr>\n",
       "    <tr>\n",
       "      <th>2018-01-29 09:39:51</th>\n",
       "      <td>Response DD Extraction Failure</td>\n",
       "    </tr>\n",
       "    <tr>\n",
       "      <th>2018-01-29 09:40:21</th>\n",
       "      <td>Response DD Extraction Failure</td>\n",
       "    </tr>\n",
       "    <tr>\n",
       "      <th>2018-01-29 09:41:00</th>\n",
       "      <td>Response DD Extraction Failure</td>\n",
       "    </tr>\n",
       "    <tr>\n",
       "      <th>2018-01-29 09:41:26</th>\n",
       "      <td>Response DD Extraction Failure</td>\n",
       "    </tr>\n",
       "    <tr>\n",
       "      <th>2018-01-29 09:42:08</th>\n",
       "      <td>Response DD Extraction Failure</td>\n",
       "    </tr>\n",
       "    <tr>\n",
       "      <th>2018-01-29 09:42:35</th>\n",
       "      <td>Response DD Extraction Failure</td>\n",
       "    </tr>\n",
       "  </tbody>\n",
       "</table>\n",
       "<p>337 rows × 1 columns</p>\n",
       "</div>"
      ],
      "text/plain": [
       "                                         error type\n",
       "time                                               \n",
       "2018-01-29 01:46:29                             500\n",
       "2018-01-29 02:57:04      Success Validation Failure\n",
       "2018-01-29 04:01:16      Success Validation Failure\n",
       "2018-01-29 04:56:36      Success Validation Failure\n",
       "2018-01-29 05:11:33      Success Validation Failure\n",
       "2018-01-29 05:31:07      Success Validation Failure\n",
       "2018-01-29 05:58:38      Success Validation Failure\n",
       "2018-01-29 06:10:28      Success Validation Failure\n",
       "2018-01-29 06:11:47      Success Validation Failure\n",
       "2018-01-29 06:16:31      Success Validation Failure\n",
       "2018-01-29 06:17:22      Success Validation Failure\n",
       "2018-01-29 06:21:21      Success Validation Failure\n",
       "2018-01-29 06:22:42      Success Validation Failure\n",
       "2018-01-29 06:24:04      Success Validation Failure\n",
       "2018-01-29 06:25:15      Success Validation Failure\n",
       "2018-01-29 06:26:41      Success Validation Failure\n",
       "2018-01-29 06:34:15  Response DD Extraction Failure\n",
       "2018-01-29 06:34:44  Response DD Extraction Failure\n",
       "2018-01-29 06:35:24  Response DD Extraction Failure\n",
       "2018-01-29 06:35:51  Response DD Extraction Failure\n",
       "2018-01-29 06:36:24  Response DD Extraction Failure\n",
       "2018-01-29 06:37:05  Response DD Extraction Failure\n",
       "2018-01-29 06:37:38  Response DD Extraction Failure\n",
       "2018-01-29 06:38:12  Response DD Extraction Failure\n",
       "2018-01-29 06:38:52  Response DD Extraction Failure\n",
       "2018-01-29 06:39:32  Response DD Extraction Failure\n",
       "2018-01-29 06:40:02  Response DD Extraction Failure\n",
       "2018-01-29 06:40:37  Response DD Extraction Failure\n",
       "2018-01-29 06:41:09  Response DD Extraction Failure\n",
       "2018-01-29 06:41:42  Response DD Extraction Failure\n",
       "...                                             ...\n",
       "2018-01-29 09:25:44  Response DD Extraction Failure\n",
       "2018-01-29 09:26:24  Response DD Extraction Failure\n",
       "2018-01-29 09:26:52  Response DD Extraction Failure\n",
       "2018-01-29 09:27:22  Response DD Extraction Failure\n",
       "2018-01-29 09:27:55  Response DD Extraction Failure\n",
       "2018-01-29 09:28:30  Response DD Extraction Failure\n",
       "2018-01-29 09:29:09  Response DD Extraction Failure\n",
       "2018-01-29 09:29:42  Response DD Extraction Failure\n",
       "2018-01-29 09:30:21  Response DD Extraction Failure\n",
       "2018-01-29 09:30:55  Response DD Extraction Failure\n",
       "2018-01-29 09:31:33  Response DD Extraction Failure\n",
       "2018-01-29 09:32:14  Response DD Extraction Failure\n",
       "2018-01-29 09:32:44  Response DD Extraction Failure\n",
       "2018-01-29 09:33:24  Response DD Extraction Failure\n",
       "2018-01-29 09:33:56  Response DD Extraction Failure\n",
       "2018-01-29 09:34:32  Response DD Extraction Failure\n",
       "2018-01-29 09:35:09  Response DD Extraction Failure\n",
       "2018-01-29 09:35:48  Response DD Extraction Failure\n",
       "2018-01-29 09:36:28  Response DD Extraction Failure\n",
       "2018-01-29 09:37:04  Response DD Extraction Failure\n",
       "2018-01-29 09:37:32  Response DD Extraction Failure\n",
       "2018-01-29 09:38:02  Response DD Extraction Failure\n",
       "2018-01-29 09:38:39  Response DD Extraction Failure\n",
       "2018-01-29 09:39:14  Response DD Extraction Failure\n",
       "2018-01-29 09:39:51  Response DD Extraction Failure\n",
       "2018-01-29 09:40:21  Response DD Extraction Failure\n",
       "2018-01-29 09:41:00  Response DD Extraction Failure\n",
       "2018-01-29 09:41:26  Response DD Extraction Failure\n",
       "2018-01-29 09:42:08  Response DD Extraction Failure\n",
       "2018-01-29 09:42:35  Response DD Extraction Failure\n",
       "\n",
       "[337 rows x 1 columns]"
      ]
     },
     "execution_count": 38,
     "metadata": {},
     "output_type": "execute_result"
    }
   ],
   "source": [
    "tmpdf = pd.DataFrame()\n",
    "tmpdf['error type'] = udf['error type']\n",
    "tmpdf"
   ]
  },
  {
   "cell_type": "markdown",
   "metadata": {},
   "source": [
    "Here `.unstack()` \"pivots\" the index based on the error_type values to columns"
   ]
  },
  {
   "cell_type": "code",
   "execution_count": 39,
   "metadata": {
    "collapsed": false
   },
   "outputs": [
    {
     "data": {
      "text/html": [
       "<div>\n",
       "<style scoped>\n",
       "    .dataframe tbody tr th:only-of-type {\n",
       "        vertical-align: middle;\n",
       "    }\n",
       "\n",
       "    .dataframe tbody tr th {\n",
       "        vertical-align: top;\n",
       "    }\n",
       "\n",
       "    .dataframe thead tr th {\n",
       "        text-align: left;\n",
       "    }\n",
       "\n",
       "    .dataframe thead tr:last-of-type th {\n",
       "        text-align: right;\n",
       "    }\n",
       "</style>\n",
       "<table border=\"1\" class=\"dataframe\">\n",
       "  <thead>\n",
       "    <tr>\n",
       "      <th></th>\n",
       "      <th colspan=\"3\" halign=\"left\">error type</th>\n",
       "    </tr>\n",
       "    <tr>\n",
       "      <th>error type</th>\n",
       "      <th>500</th>\n",
       "      <th>Response DD Extraction Failure</th>\n",
       "      <th>Success Validation Failure</th>\n",
       "    </tr>\n",
       "    <tr>\n",
       "      <th>time</th>\n",
       "      <th></th>\n",
       "      <th></th>\n",
       "      <th></th>\n",
       "    </tr>\n",
       "  </thead>\n",
       "  <tbody>\n",
       "    <tr>\n",
       "      <th>2018-01-29 01:00:00</th>\n",
       "      <td>1.0</td>\n",
       "      <td>NaN</td>\n",
       "      <td>NaN</td>\n",
       "    </tr>\n",
       "    <tr>\n",
       "      <th>2018-01-29 02:00:00</th>\n",
       "      <td>NaN</td>\n",
       "      <td>NaN</td>\n",
       "      <td>1.0</td>\n",
       "    </tr>\n",
       "    <tr>\n",
       "      <th>2018-01-29 03:00:00</th>\n",
       "      <td>NaN</td>\n",
       "      <td>NaN</td>\n",
       "      <td>0.0</td>\n",
       "    </tr>\n",
       "    <tr>\n",
       "      <th>2018-01-29 04:00:00</th>\n",
       "      <td>NaN</td>\n",
       "      <td>NaN</td>\n",
       "      <td>2.0</td>\n",
       "    </tr>\n",
       "    <tr>\n",
       "      <th>2018-01-29 05:00:00</th>\n",
       "      <td>NaN</td>\n",
       "      <td>NaN</td>\n",
       "      <td>3.0</td>\n",
       "    </tr>\n",
       "    <tr>\n",
       "      <th>2018-01-29 06:00:00</th>\n",
       "      <td>NaN</td>\n",
       "      <td>44.0</td>\n",
       "      <td>9.0</td>\n",
       "    </tr>\n",
       "    <tr>\n",
       "      <th>2018-01-29 07:00:00</th>\n",
       "      <td>NaN</td>\n",
       "      <td>103.0</td>\n",
       "      <td>NaN</td>\n",
       "    </tr>\n",
       "    <tr>\n",
       "      <th>2018-01-29 08:00:00</th>\n",
       "      <td>NaN</td>\n",
       "      <td>100.0</td>\n",
       "      <td>NaN</td>\n",
       "    </tr>\n",
       "    <tr>\n",
       "      <th>2018-01-29 09:00:00</th>\n",
       "      <td>NaN</td>\n",
       "      <td>74.0</td>\n",
       "      <td>NaN</td>\n",
       "    </tr>\n",
       "  </tbody>\n",
       "</table>\n",
       "</div>"
      ],
      "text/plain": [
       "                    error type                                 \\\n",
       "error type                 500 Response DD Extraction Failure   \n",
       "time                                                            \n",
       "2018-01-29 01:00:00        1.0                            NaN   \n",
       "2018-01-29 02:00:00        NaN                            NaN   \n",
       "2018-01-29 03:00:00        NaN                            NaN   \n",
       "2018-01-29 04:00:00        NaN                            NaN   \n",
       "2018-01-29 05:00:00        NaN                            NaN   \n",
       "2018-01-29 06:00:00        NaN                           44.0   \n",
       "2018-01-29 07:00:00        NaN                          103.0   \n",
       "2018-01-29 08:00:00        NaN                          100.0   \n",
       "2018-01-29 09:00:00        NaN                           74.0   \n",
       "\n",
       "                                                \n",
       "error type          Success Validation Failure  \n",
       "time                                            \n",
       "2018-01-29 01:00:00                        NaN  \n",
       "2018-01-29 02:00:00                        1.0  \n",
       "2018-01-29 03:00:00                        0.0  \n",
       "2018-01-29 04:00:00                        2.0  \n",
       "2018-01-29 05:00:00                        3.0  \n",
       "2018-01-29 06:00:00                        9.0  \n",
       "2018-01-29 07:00:00                        NaN  \n",
       "2018-01-29 08:00:00                        NaN  \n",
       "2018-01-29 09:00:00                        NaN  "
      ]
     },
     "execution_count": 39,
     "metadata": {},
     "output_type": "execute_result"
    }
   ],
   "source": [
    "ndf = tmpdf.groupby('error type').resample('H').count().unstack('error type')\n",
    "ndf"
   ]
  },
  {
   "cell_type": "code",
   "execution_count": 40,
   "metadata": {
    "collapsed": false
   },
   "outputs": [
    {
     "data": {
      "text/plain": [
       "<matplotlib.axes._subplots.AxesSubplot at 0x7fdbcec4b0f0>"
      ]
     },
     "execution_count": 40,
     "metadata": {},
     "output_type": "execute_result"
    },
    {
     "data": {
      "image/png": "[encoded data removed]",
      "text/plain": [
       "<matplotlib.figure.Figure at 0x7fdbcec83080>"
      ]
     },
     "metadata": {},
     "output_type": "display_data"
    }
   ],
   "source": [
    "ndf.plot.bar(stacked=True)"
   ]
  },
  {
   "cell_type": "code",
   "execution_count": 41,
   "metadata": {
    "collapsed": true
   },
   "outputs": [],
   "source": [
    "def bar_categorical(udf, feature, freq='H'):\n",
    "    tmpdf = pd.DataFrame()\n",
    "    tmpdf[feature] = udf[feature]\n",
    "    ndf = tmpdf.groupby(feature).resample(freq).count().unstack(feature)\n",
    "    ndf.plot.bar(stacked=True)"
   ]
  },
  {
   "cell_type": "code",
   "execution_count": 43,
   "metadata": {
    "collapsed": false
   },
   "outputs": [
    {
     "data": {
      "image/png": "[encoded data removed]",
      "text/plain": [
       "<matplotlib.figure.Figure at 0x7fdbcecb9fd0>"
      ]
     },
     "metadata": {},
     "output_type": "display_data"
    }
   ],
   "source": [
    "# udf = vusers['0014'].show_errors()\n",
    "# udf.index = pd.to_datetime(udf.time, errors='coerce')\n",
    "bar_categorical(udf, 'error type', '15T')"
   ]
  },
  {
   "cell_type": "code",
   "execution_count": 44,
   "metadata": {
    "collapsed": false
   },
   "outputs": [
    {
     "data": {
      "image/png": "[encoded data removed]",
      "text/plain": [
       "<matplotlib.figure.Figure at 0x7fdbcefe6a90>"
      ]
     },
     "metadata": {},
     "output_type": "display_data"
    }
   ],
   "source": [
    "bar_categorical(udf, 'step', '15T')"
   ]
  },
  {
   "cell_type": "code",
   "execution_count": 45,
   "metadata": {
    "collapsed": false
   },
   "outputs": [
    {
     "data": {
      "image/png": "[encoded data removed]",
      "text/plain": [
       "<matplotlib.figure.Figure at 0x7fdbcf607b00>"
      ]
     },
     "metadata": {},
     "output_type": "display_data"
    }
   ],
   "source": [
    "bar_categorical(udf, 'cause message/ddi', '15T')"
   ]
  }
 ],
 "metadata": {
  "anaconda-cloud": {},
  "celltoolbar": "Raw Cell Format",
  "kernelspec": {
   "display_name": "Python 3",
   "language": "python",
   "name": "python3"
  },
  "language_info": {
   "codemirror_mode": {
    "name": "ipython",
    "version": 3
   },
   "file_extension": ".py",
   "mimetype": "text/x-python",
   "name": "python",
   "nbconvert_exporter": "python",
   "pygments_lexer": "ipython3",
   "version": "3.6.3"
  }
 },
 "nbformat": 4,
 "nbformat_minor": 0
}
