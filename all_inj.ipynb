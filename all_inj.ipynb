{
 "cells": [
  {
   "cell_type": "code",
   "execution_count": 1,
   "metadata": {
    "collapsed": true
   },
   "outputs": [],
   "source": [
    "import re, os\n",
    "from datetime import datetime\n",
    "import shutil\n",
    "import pickle\n",
    "from collections import OrderedDict\n",
    "import pandas as pd\n",
    "import numpy as np\n",
    "import matplotlib.pyplot as plt\n",
    "import matplotlib.dates as mdates\n",
    "import seaborn as sns\n",
    "from IPython.display import display\n",
    "\n",
    "ROOT_FOLDER = \"/mnt/hgfs/projlogs/SFW/sops1/SOPS/Performance Test - Performance_Test1\"\n",
    "ROOT_FOLDER = \"/mnt/hgfs/projlogs/SFW/hq1/Performance Test - Performance_Test1\"\n",
    "# MILL, POND, OPP1, OPP2, FOX\n",
    "# SOPS, HQ1, BAYVIEW, FIELD1\n",
    "# Bristol720, JouleHouse, Birchwood, Leicester\n",
    "# fox, mill, pond, opp1, opp2\n",
    "ROOT_FOLDER = \"/mnt/hgfs/projlogs/Integral/Maximo_13_mar/\"\n",
    "MSG_SHORT_LEN = 20 #characters"
   ]
  },
  {
   "cell_type": "code",
   "execution_count": 2,
   "metadata": {
    "collapsed": true
   },
   "outputs": [],
   "source": [
    "# pd.set_option('display.mpl_style', 'default')\n",
    "pd.set_option('plotting.matplotlib.register_converters', 'default')\n",
    "%matplotlib inline\n",
    "plt.style.use('ggplot')\n",
    "sns.set_color_codes(\"pastel\")"
   ]
  },
  {
   "cell_type": "code",
   "execution_count": 3,
   "metadata": {
    "collapsed": false
   },
   "outputs": [],
   "source": [
    "class TestError():\n",
    "\n",
    "    def __init__(self, timestamp, userid, cycleid, uj, stepid, errortype, message, test_folder):\n",
    "        self.time = pd.to_datetime(timestamp, infer_datetime_format=True) \n",
    "        self.userid = userid\n",
    "        self.cycleid = cycleid\n",
    "        self.stepid = stepid\n",
    "        self.errortype = errortype\n",
    "        self.message = message\n",
    "        self.test_folder = test_folder\n",
    "        self.uj = uj\n",
    "        \n",
    "        self.cause = ''\n",
    "        self.cause_message = ''\n",
    "        \n",
    "        if errortype == 'Success Validation Failure':\n",
    "            sv = re.search(r'failed sub validations: (.+?)\\) for step \".+?\" was not found in the response. The response received has been written to \"(.+?)\"', message)\n",
    "            self.validation = sv.group(1)\n",
    "            self.file = sv.group(2)\n",
    "            # name_parts = self.file.split('__')\n",
    "            # self.uj = name_parts[0]\n",
    "        else:\n",
    "            self.validation = None\n",
    "            self.file = None\n",
    "\n",
    "        if errortype == 'Response DD Extraction Failure':\n",
    "            ddisrc = re.search(r'Error reading value for response DD item (.+?) used in step (.+?)', message)\n",
    "            self.dditem = ddisrc.group(1)\n",
    "            # !!! the line below currently gives wrong value due to BUG in the ST logs.\n",
    "            # self.ddi_source = ddisrc.group(2)\n",
    "        else:\n",
    "            self.dditem = None\n",
    "    \n",
    "    def show(self, shorten=True):\n",
    "        if shorten:\n",
    "            message = self.cause_message[:MSG_SHORT_LEN] + (len(self.cause_message)>MSG_SHORT_LEN)*'...'\n",
    "        if self.dditem:\n",
    "            message = self.dditem\n",
    "        return OrderedDict([('time', self.time),\n",
    "                ('user', self.userid),\n",
    "#                 ('total errors', 0),\n",
    "                ('uj', self.uj),\n",
    "                ('step', self.stepid),\n",
    "                ('cycle', self.cycleid),\n",
    "                ('error type', self.errortype),\n",
    "                ('error cause', self.cause),\n",
    "                ('cause message/ddi', self.cause_message),\n",
    "               ])\n",
    "    \n",
    "    def set_snapshot_details(self):\n",
    "        pass\n",
    "        \n",
    "    def _read_error_file(self):\n",
    "        if self.errortype == 'Success Validation Failure':\n",
    "            try:\n",
    "                # for QR, log files are directly in the log folder for the run\n",
    "                with open(os.path.join(self.test_folder, self.file), 'rt') as f:\n",
    "                    html = f.read()\n",
    "            except FileNotFoundError:\n",
    "                # for non-QR, log files are in subfolders named after virtual user ids\n",
    "                with open(os.path.join(self.test_folder, 'user'+self.userid , self.file), 'rt') as f:\n",
    "                    html = f.read()\n",
    "\n",
    "        return html\n",
    "    \n",
    "    def _set_cause(self, cause, message):\n",
    "        self.cause = cause\n",
    "        self.cause_message = message\n",
    "        \n",
    "    def determine_casuse(self):\n",
    "        if self.errortype == 'Success Validation Failure':\n",
    "            html = self._read_error_file()\n",
    "            if html.count('<label for=\"username\">User Name:</label>')>0:\n",
    "                self._set_cause('logged off', '')\n",
    "                return None\n",
    "\n",
    "            kick_match = re.search(r'redirect><\\!\\[CDATA\\[https*://.+?/maximo/webclient/login/logout.jsp.*?\\]\\]></redirect>', html)\n",
    "            if kick_match is not None:\n",
    "                self._set_cause('Maximo forcefully signed out the user', '')\n",
    "                return None\n",
    "\n",
    "            if html.count('title=\"Please wait...\">Please wait...</label>')>0:\n",
    "                self._set_cause('Long Op', '')\n",
    "                return None\n",
    "            \n",
    "            if html.count(\"addLongOpTimeout('dolongopquerycheck()',\")>0:\n",
    "                self._set_cause('Long Op', '')\n",
    "                return None\n",
    "\n",
    "            if html.count('MessageWarning.png')>0:\n",
    "                msg = html[html.find('MessageWarning.png'):]\n",
    "                msg = '<' + msg[:msg.find('</table>')]\n",
    "                msg = re.sub(r'<[^>]*?>', '', msg)\n",
    "                msg = msg.replace('\\n','').strip()\n",
    "                self._set_cause('Warning Message', msg)\n",
    "                return None\n",
    "\n",
    "            if html.count('st_MessageQuestion.png')>0:\n",
    "                msg = html[html.find('st_MessageQuestion.png'):]\n",
    "                msg = '<' + msg[:msg.find('</table>')]\n",
    "                msg = re.sub(r'<[^>]*?>', '', msg)\n",
    "                msg = msg.replace('\\n','').strip()\n",
    "                self._set_cause('Question Message', msg)\n",
    "                return None\n",
    "            \n",
    "            if html.count('st_MessageCritical.png')>0:\n",
    "                msg = html[html.find('st_MessageCritical.png'):]\n",
    "                msg = '<' + msg[:msg.find('</table>')]\n",
    "                msg = msg[:msg.find('</component>')]                \n",
    "                msg = re.sub(r'<[^>]*?>', '', msg)\n",
    "                msg = msg.replace('\\n','').strip()\n",
    "                self._set_cause('Critical Message', msg)\n",
    "                return None\n",
    "\n",
    "            if html.count('>0 - 0 of 0')>0:\n",
    "                self._set_cause('operation resulted in a table with zero rows', 'searchterm: ' + self.validation)\n",
    "                return None\n",
    "\n",
    "            break_index = html.find('---------------Response-----------------')\n",
    "            html_request_only = html[:break_index]\n",
    "            html_response_only = html[break_index + 40:]\n",
    "            if html_response_only.count(self.validation)>0:\n",
    "                self._set_cause('validation bug', 'searchterm: ' + self.validation)\n",
    "                return None\n",
    "\n",
    "            ###  --- COB specific errors ---\n",
    "            if  html_response_only.count('\"id\":\"0_APPRSS_OPTION\",\"text\":\"APPRSS\"') and not html_response_only.count('Approved'):\n",
    "                self._set_cause('missing \"Approved\" option', '')\n",
    "                return None\n",
    "\n",
    "            if html_request_only.count('targetId%22%3A%22mx387') and html_response_only.count('title=\"1 - 2 of 2\">1 - 2'):\n",
    "                self._set_cause('dynamic response', 'missing reference of WO field, thus cant validate')\n",
    "                return None\n",
    "\n",
    "            if html_request_only.count('<command>ISWM-RECORDFAILUREREPORT</command>'):\n",
    "                self._set_cause('response lacks confirmation of recordid', 'response lacks confirmation of recordid')\n",
    "                return None   \n",
    "            ### --- ==================== ---\n",
    "            \n",
    "            ###  --- Integral specific errors ---\n",
    "            if  html_response_only.count('The PPM & Work Order Billing Process has now been initiated.') and \\\n",
    "                                                    not html_response_only.count('Record has been saved.'):\n",
    "                self._set_cause('new Wrokflow response',\n",
    "                    'received \"The PPM & Work Order Billing Process has now been initiated.\" instead of \"Record has been saved.\"')\n",
    "                return None\n",
    "            \n",
    "            if  html_response_only.count('>Do nothing</label>') and html_response_only.count('>Cancel the bill</label>'):\n",
    "                self._set_cause('new Wrokflow response', 'received radio buttons \"Do nothing\" and \"Cancel the bill\"')\n",
    "                return None\n",
    "            ### --- ==================== ---\n",
    "            \n",
    "            self._set_cause('unknown validation fail', html_response_only)\n",
    "            self.html = html\n",
    "        else:\n",
    "            self._set_cause(self.errortype, '')\n"
   ]
  },
  {
   "cell_type": "code",
   "execution_count": 4,
   "metadata": {
    "collapsed": true
   },
   "outputs": [],
   "source": [
    "class Loop():\n",
    "    \n",
    "    def __init__(self, lead_error, lenght):\n",
    "        # the start & end index, should refer to cycle index, not error index\n",
    "        self.lead_error = lead_error\n",
    "        self.start = int(lead_error.cycleid)\n",
    "        self.end = self.start + lenght\n",
    "        # the +1 is needed because both the starter and the final cycles are part of the loop\n",
    "        # it shouldn't be passed in the constructor in order to properly calculate the end cycle id\n",
    "        self.lenght = lenght + 1\n",
    "        \n",
    "    def show(self):\n",
    "        return OrderedDict([('loop start', self.start), ('loop length', self.lenght),])\n",
    "    \n",
    "    def __repr__(self):\n",
    "        return str(self.start) + '-' + str(self.end)"
   ]
  },
  {
   "cell_type": "code",
   "execution_count": 5,
   "metadata": {
    "collapsed": false
   },
   "outputs": [],
   "source": [
    "class VirtualUser():\n",
    "    \n",
    "    def __init__(self, userid, start_time, uj, errors=[], loops=[], max_loop=None):\n",
    "        self.userid = userid\n",
    "        self.start_time = start_time\n",
    "        self.uj = uj\n",
    "        self.errors = errors\n",
    "        self.loops = loops\n",
    "        self.max_loop = max_loop\n",
    "        \n",
    "    # If I can user.errors.append(err) , why create a method?\n",
    "    def append_error(self, error):\n",
    "        self.errors.append(error)\n",
    "\n",
    "    def process_errors(self):\n",
    "        self.error_count = len(self.errors)\n",
    "        \n",
    "        consecutive_count = 0\n",
    "        consecutiveness = ''\n",
    "        max_consecutive = -1\n",
    "        max_loop = -1\n",
    "        # looping over errors in reverse, thus init with values of the last error in the list\n",
    "        prior_error = self.errors[-1]\n",
    "        for error in reversed(self.errors):\n",
    "            error.determine_casuse()\n",
    "\n",
    "            # the 1st condition needs <= instead of == because there could be multiple errors per cycleid\n",
    "            # the 2nd condoition is to avoid counting the initial record as a consecutive term\n",
    "            if int(prior_error.cycleid) - int(error.cycleid) <= 1 and error != self.errors[-1]:\n",
    "                consecutive_count += 1\n",
    "            else:\n",
    "                if consecutive_count > 0:\n",
    "                    new_loop = Loop(prior_error, consecutive_count)\n",
    "                    self.loops.append(new_loop)\n",
    "                    consecutiveness = ';' + str(new_loop) + consecutiveness\n",
    "\n",
    "                    # update max_loop\n",
    "                    if consecutive_count > max_consecutive:\n",
    "                        max_consecutive = consecutive_count\n",
    "                        self.max_loop = new_loop\n",
    "\n",
    "                consecutive_count = 0\n",
    "                \n",
    "            prior_error = error\n",
    "        \n",
    "        # check if the for-ending error was completing an error-loop\n",
    "        if consecutive_count > 0:\n",
    "            new_loop = Loop(prior_error, consecutive_count)\n",
    "            self.loops.append(new_loop)\n",
    "            consecutiveness = ';' + str(new_loop) + consecutiveness\n",
    "\n",
    "            # update max_loop\n",
    "            if consecutive_count > max_consecutive:\n",
    "                max_consecutive = consecutive_count\n",
    "                self.max_loop = new_loop\n",
    "        \n",
    "        self._process_cause_stats()\n",
    "        \n",
    "        return consecutiveness[1:]\n",
    "    \n",
    "    def _process_cause_stats(self):\n",
    "        causes = {}\n",
    "        for e in self.errors:\n",
    "            if e.cause in causes.keys():\n",
    "                causes[e.cause] += 1\n",
    "            else:\n",
    "                causes[e.cause] = 1\n",
    "\n",
    "        self.causes = causes\n",
    "        \n",
    "    def lead_error_info(self, shorten=True):\n",
    "        # return info on the \"lead\" error of the longest error-loop\n",
    "        #   or the first error for the user\n",
    "        \n",
    "        if self.max_loop:\n",
    "            lead_error_info = self.max_loop.lead_error.show(shorten=shorten)\n",
    "            max_loop_info = self.max_loop.show()\n",
    "        else:\n",
    "            lead_error_info = self.errors[0].show(shorten=shorten)\n",
    "            max_loop_info = OrderedDict([('loop start', ''), ('loop length', '')])\n",
    "            \n",
    "        def surgery(ordered_dict, index, insertion):\n",
    "            return OrderedDict(list(ordered_dict.items())[:index] + \n",
    "                               list(insertion.items()) + \n",
    "                               list(ordered_dict.items())[index:])\n",
    "        \n",
    "        lead_error_info = surgery(lead_error_info, 2, {'total errors': user.error_count})\n",
    "        lead_error_info = surgery(lead_error_info, -2, max_loop_info)\n",
    "            \n",
    "        return lead_error_info\n",
    "    \n",
    "    def get_errors(self, shorten=True):\n",
    "        result = pd.DataFrame([ z.show(shorten=shorten) for z in self.errors ])\n",
    "        result.index = pd.to_datetime(result.time, errors='coerce')\n",
    "        result.drop(columns=['time'])\n",
    "        return result"
   ]
  },
  {
   "cell_type": "markdown",
   "metadata": {},
   "source": [
    "the graph functionality should not be tied in the classes; plotting should decouple from DF resampling"
   ]
  },
  {
   "cell_type": "code",
   "execution_count": 6,
   "metadata": {
    "collapsed": true
   },
   "outputs": [],
   "source": [
    "def groupby_resample(udf, feature, freq='H'):\n",
    "    tmpdf = pd.DataFrame()\n",
    "    tmpdf[feature] = udf[feature]\n",
    "    ndf = tmpdf.groupby(feature).resample(freq).count().unstack(feature)\n",
    "    return ndf\n",
    "    # ndf.plot.bar(stacked=True)"
   ]
  },
  {
   "cell_type": "code",
   "execution_count": 7,
   "metadata": {
    "collapsed": true
   },
   "outputs": [],
   "source": [
    "def timeslice(df, start=None, end=None):\n",
    "    # \n",
    "    if start and isinstance(start, str):\n",
    "        start = pd.to_datetime(start, errors='coerce')\n",
    "    if end and isinstance(end, str):\n",
    "        end = pd.to_datetime(end, errors='coerce')\n",
    "    if start and end:\n",
    "        ndf = df[start:end]\n",
    "    elif start and not end:\n",
    "        ndf = df[start:]\n",
    "    elif end and not start:\n",
    "        ndf = df[:end]\n",
    "    else:\n",
    "        ndf = df[:]\n",
    "    return ndf"
   ]
  },
  {
   "cell_type": "code",
   "execution_count": 8,
   "metadata": {
    "collapsed": true
   },
   "outputs": [],
   "source": [
    "def bar_categorical(udf, feature, freq='H', figsize=(12,8), title=None):\n",
    "    tmpdf = pd.DataFrame()\n",
    "    tmpdf[feature] = udf[feature]\n",
    "    ndf = tmpdf.groupby(feature).resample(freq).count().unstack(feature)\n",
    "    ndf.plot.bar(stacked=True, figsize=figsize)\n",
    "    if title:\n",
    "        plt.title(title);"
   ]
  },
  {
   "cell_type": "markdown",
   "metadata": {},
   "source": [
    "# Load pickles"
   ]
  },
  {
   "cell_type": "markdown",
   "metadata": {},
   "source": [
    "Determine the number of relevant injector folders."
   ]
  },
  {
   "cell_type": "code",
   "execution_count": 9,
   "metadata": {
    "collapsed": false
   },
   "outputs": [
    {
     "name": "stdout",
     "output_type": "stream",
     "text": [
      "at /mnt/hgfs/projlogs/Integral/Maximo_13_mar/ , found 4 injector folders:  ['Birchwood', 'Bristol720', 'JouleHouse', 'Leicester']\n"
     ]
    }
   ],
   "source": [
    "test_folder = ROOT_FOLDER\n",
    "\n",
    "## Considered running simultaneous analisys of different injectors:\n",
    "##    it will not work, because user ids are repeated i.e user 0006 on INJ1 will be assigned to UJ1,\n",
    "##    while user 0006 on INJ2 will have different UJ, and different errors, and etc.\n",
    "\n",
    "folders = [ f for f in os.listdir(test_folder) if os.path.isdir(os.path.join(test_folder,f)) ]\n",
    "print('at', test_folder, ', found', len(folders), 'injector folders: ', folders)"
   ]
  },
  {
   "cell_type": "markdown",
   "metadata": {},
   "source": [
    "In case of multiple log files, merge them and work with the merged file."
   ]
  },
  {
   "cell_type": "code",
   "execution_count": 10,
   "metadata": {
    "collapsed": false
   },
   "outputs": [
    {
     "name": "stdout",
     "output_type": "stream",
     "text": [
      "multiple injectors found - loading pickeles:\n",
      "injector Birchwood reports 1 erroring users\n",
      "injector Bristol720 reports 14 erroring users\n",
      "injector JouleHouse reports 5 erroring users\n",
      "injector Leicester reports 2 erroring users\n"
     ]
    }
   ],
   "source": [
    "if len(folders)>1:\n",
    "    print('multiple injectors found - loading pickeles:')\n",
    "    injectors = {}\n",
    "    for inj_folder in folders:\n",
    "        injectors[inj_folder] = pickle.load(open(os.path.join(test_folder, inj_folder, 'with_loops.pickle'), 'rb'))\n",
    "        print('injector', inj_folder, 'reports', len(injectors[inj_folder]), 'erroring users')\n",
    "else:\n",
    "    print('one or no folders found - exiting')\n",
    "    exit(1)"
   ]
  },
  {
   "cell_type": "markdown",
   "metadata": {},
   "source": [
    "### Overall injector stats"
   ]
  },
  {
   "cell_type": "code",
   "execution_count": 11,
   "metadata": {
    "collapsed": true
   },
   "outputs": [],
   "source": [
    "# vusers = pickle.load(open(os.path.join(test_folder, 'with_loops.pickle'), 'rb'))"
   ]
  },
  {
   "cell_type": "code",
   "execution_count": 12,
   "metadata": {
    "collapsed": false,
    "scrolled": false
   },
   "outputs": [
    {
     "name": "stdout",
     "output_type": "stream",
     "text": [
      "2018-03-13 20:13:53,0005,43,Billing,Select All Records 1,15,Success Validation Failure,15,37,operation resulted in a table with zero rows,searchterm: <div id=\"mbff42c79_tdrow_\\[C:0\\]_tbselrow-gr\\[R:\\d+?\\]\".+?checked=\"checked\",\n",
      "   >>> Bristol720 0022\n"
     ]
    },
    {
     "data": {
      "text/html": [
       "<div>\n",
       "<style scoped>\n",
       "    .dataframe tbody tr th:only-of-type {\n",
       "        vertical-align: middle;\n",
       "    }\n",
       "\n",
       "    .dataframe tbody tr th {\n",
       "        vertical-align: top;\n",
       "    }\n",
       "\n",
       "    .dataframe thead th {\n",
       "        text-align: right;\n",
       "    }\n",
       "</style>\n",
       "<table border=\"1\" class=\"dataframe\">\n",
       "  <thead>\n",
       "    <tr style=\"text-align: right;\">\n",
       "      <th></th>\n",
       "      <th>time</th>\n",
       "      <th>user</th>\n",
       "      <th>uj</th>\n",
       "      <th>step</th>\n",
       "      <th>cycle</th>\n",
       "      <th>error type</th>\n",
       "      <th>error cause</th>\n",
       "      <th>cause message/ddi</th>\n",
       "    </tr>\n",
       "    <tr>\n",
       "      <th>time</th>\n",
       "      <th></th>\n",
       "      <th></th>\n",
       "      <th></th>\n",
       "      <th></th>\n",
       "      <th></th>\n",
       "      <th></th>\n",
       "      <th></th>\n",
       "      <th></th>\n",
       "    </tr>\n",
       "  </thead>\n",
       "  <tbody>\n",
       "    <tr>\n",
       "      <th>2018-03-13 19:56:49</th>\n",
       "      <td>2018-03-13 19:56:49</td>\n",
       "      <td>0022</td>\n",
       "      <td></td>\n",
       "      <td>Homepage</td>\n",
       "      <td>1</td>\n",
       "      <td>Success Validation Failure</td>\n",
       "      <td>unknown validation fail</td>\n",
       "      <td>\\n&lt;!DOCTYPE html&gt;\\n&lt;html lang=\"en\"&gt;\\n\\t&lt;head&gt;\\...</td>\n",
       "    </tr>\n",
       "  </tbody>\n",
       "</table>\n",
       "</div>"
      ],
      "text/plain": [
       "                                   time  user uj      step cycle  \\\n",
       "time                                                               \n",
       "2018-03-13 19:56:49 2018-03-13 19:56:49  0022     Homepage     1   \n",
       "\n",
       "                                     error type              error cause  \\\n",
       "time                                                                       \n",
       "2018-03-13 19:56:49  Success Validation Failure  unknown validation fail   \n",
       "\n",
       "                                                     cause message/ddi  \n",
       "time                                                                    \n",
       "2018-03-13 19:56:49  \\n<!DOCTYPE html>\\n<html lang=\"en\">\\n\\t<head>\\...  "
      ]
     },
     "metadata": {},
     "output_type": "display_data"
    },
    {
     "name": "stdout",
     "output_type": "stream",
     "text": [
      "2018-03-13 19:56:08,0022,2,, (3),0,Connection Error,0,2,Connection Error,,\n",
      "   >>> Bristol720 0025\n"
     ]
    },
    {
     "data": {
      "text/html": [
       "<div>\n",
       "<style scoped>\n",
       "    .dataframe tbody tr th:only-of-type {\n",
       "        vertical-align: middle;\n",
       "    }\n",
       "\n",
       "    .dataframe tbody tr th {\n",
       "        vertical-align: top;\n",
       "    }\n",
       "\n",
       "    .dataframe thead th {\n",
       "        text-align: right;\n",
       "    }\n",
       "</style>\n",
       "<table border=\"1\" class=\"dataframe\">\n",
       "  <thead>\n",
       "    <tr style=\"text-align: right;\">\n",
       "      <th></th>\n",
       "      <th>time</th>\n",
       "      <th>user</th>\n",
       "      <th>uj</th>\n",
       "      <th>step</th>\n",
       "      <th>cycle</th>\n",
       "      <th>error type</th>\n",
       "      <th>error cause</th>\n",
       "      <th>cause message/ddi</th>\n",
       "    </tr>\n",
       "    <tr>\n",
       "      <th>time</th>\n",
       "      <th></th>\n",
       "      <th></th>\n",
       "      <th></th>\n",
       "      <th></th>\n",
       "      <th></th>\n",
       "      <th></th>\n",
       "      <th></th>\n",
       "      <th></th>\n",
       "    </tr>\n",
       "  </thead>\n",
       "  <tbody>\n",
       "    <tr>\n",
       "      <th>2018-03-13 19:58:12</th>\n",
       "      <td>2018-03-13 19:58:12</td>\n",
       "      <td>0025</td>\n",
       "      <td></td>\n",
       "      <td>Homepage</td>\n",
       "      <td>1</td>\n",
       "      <td>Success Validation Failure</td>\n",
       "      <td>unknown validation fail</td>\n",
       "      <td>\\n&lt;!DOCTYPE html&gt;\\n&lt;html lang=\"en\"&gt;\\n\\t&lt;head&gt;\\...</td>\n",
       "    </tr>\n",
       "  </tbody>\n",
       "</table>\n",
       "</div>"
      ],
      "text/plain": [
       "                                   time  user uj      step cycle  \\\n",
       "time                                                               \n",
       "2018-03-13 19:58:12 2018-03-13 19:58:12  0025     Homepage     1   \n",
       "\n",
       "                                     error type              error cause  \\\n",
       "time                                                                       \n",
       "2018-03-13 19:58:12  Success Validation Failure  unknown validation fail   \n",
       "\n",
       "                                                     cause message/ddi  \n",
       "time                                                                    \n",
       "2018-03-13 19:58:12  \\n<!DOCTYPE html>\\n<html lang=\"en\">\\n\\t<head>\\...  "
      ]
     },
     "metadata": {},
     "output_type": "display_data"
    },
    {
     "name": "stdout",
     "output_type": "stream",
     "text": [
      "2018-03-13 19:57:46,0025,2,, (5),0,Connection Error,0,2,Connection Error,,\n",
      "   >>> Bristol720 0028\n"
     ]
    },
    {
     "data": {
      "text/html": [
       "<div>\n",
       "<style scoped>\n",
       "    .dataframe tbody tr th:only-of-type {\n",
       "        vertical-align: middle;\n",
       "    }\n",
       "\n",
       "    .dataframe tbody tr th {\n",
       "        vertical-align: top;\n",
       "    }\n",
       "\n",
       "    .dataframe thead th {\n",
       "        text-align: right;\n",
       "    }\n",
       "</style>\n",
       "<table border=\"1\" class=\"dataframe\">\n",
       "  <thead>\n",
       "    <tr style=\"text-align: right;\">\n",
       "      <th></th>\n",
       "      <th>time</th>\n",
       "      <th>user</th>\n",
       "      <th>uj</th>\n",
       "      <th>step</th>\n",
       "      <th>cycle</th>\n",
       "      <th>error type</th>\n",
       "      <th>error cause</th>\n",
       "      <th>cause message/ddi</th>\n",
       "    </tr>\n",
       "    <tr>\n",
       "      <th>time</th>\n",
       "      <th></th>\n",
       "      <th></th>\n",
       "      <th></th>\n",
       "      <th></th>\n",
       "      <th></th>\n",
       "      <th></th>\n",
       "      <th></th>\n",
       "      <th></th>\n",
       "    </tr>\n",
       "  </thead>\n",
       "  <tbody>\n",
       "    <tr>\n",
       "      <th>2018-03-13 19:59:53</th>\n",
       "      <td>2018-03-13 19:59:53</td>\n",
       "      <td>0028</td>\n",
       "      <td></td>\n",
       "      <td>Homepage</td>\n",
       "      <td>1</td>\n",
       "      <td>Success Validation Failure</td>\n",
       "      <td>unknown validation fail</td>\n",
       "      <td>\\n&lt;!DOCTYPE html&gt;\\n&lt;html lang=\"en\"&gt;\\n\\t&lt;head&gt;\\...</td>\n",
       "    </tr>\n",
       "  </tbody>\n",
       "</table>\n",
       "</div>"
      ],
      "text/plain": [
       "                                   time  user uj      step cycle  \\\n",
       "time                                                               \n",
       "2018-03-13 19:59:53 2018-03-13 19:59:53  0028     Homepage     1   \n",
       "\n",
       "                                     error type              error cause  \\\n",
       "time                                                                       \n",
       "2018-03-13 19:59:53  Success Validation Failure  unknown validation fail   \n",
       "\n",
       "                                                     cause message/ddi  \n",
       "time                                                                    \n",
       "2018-03-13 19:59:53  \\n<!DOCTYPE html>\\n<html lang=\"en\">\\n\\t<head>\\...  "
      ]
     },
     "metadata": {},
     "output_type": "display_data"
    },
    {
     "name": "stdout",
     "output_type": "stream",
     "text": [
      "2018-03-13 19:59:25,0028,2,, (5),0,Connection Error,0,2,Connection Error,,\n",
      "2018-03-13 20:07:57,0044,1,,Homepage,0,Connection Error,,,Connection Error,,\n",
      "   >>> Bristol720 0062\n"
     ]
    },
    {
     "data": {
      "text/html": [
       "<div>\n",
       "<style scoped>\n",
       "    .dataframe tbody tr th:only-of-type {\n",
       "        vertical-align: middle;\n",
       "    }\n",
       "\n",
       "    .dataframe tbody tr th {\n",
       "        vertical-align: top;\n",
       "    }\n",
       "\n",
       "    .dataframe thead th {\n",
       "        text-align: right;\n",
       "    }\n",
       "</style>\n",
       "<table border=\"1\" class=\"dataframe\">\n",
       "  <thead>\n",
       "    <tr style=\"text-align: right;\">\n",
       "      <th></th>\n",
       "      <th>time</th>\n",
       "      <th>user</th>\n",
       "      <th>uj</th>\n",
       "      <th>step</th>\n",
       "      <th>cycle</th>\n",
       "      <th>error type</th>\n",
       "      <th>error cause</th>\n",
       "      <th>cause message/ddi</th>\n",
       "    </tr>\n",
       "    <tr>\n",
       "      <th>time</th>\n",
       "      <th></th>\n",
       "      <th></th>\n",
       "      <th></th>\n",
       "      <th></th>\n",
       "      <th></th>\n",
       "      <th></th>\n",
       "      <th></th>\n",
       "      <th></th>\n",
       "    </tr>\n",
       "  </thead>\n",
       "  <tbody>\n",
       "    <tr>\n",
       "      <th>2018-03-13 20:19:32</th>\n",
       "      <td>2018-03-13 20:19:32</td>\n",
       "      <td>0062</td>\n",
       "      <td></td>\n",
       "      <td>Homepage</td>\n",
       "      <td>1</td>\n",
       "      <td>Success Validation Failure</td>\n",
       "      <td>unknown validation fail</td>\n",
       "      <td>\\n&lt;!DOCTYPE html&gt;\\n&lt;html lang=\"en\"&gt;\\n\\t&lt;head&gt;\\...</td>\n",
       "    </tr>\n",
       "  </tbody>\n",
       "</table>\n",
       "</div>"
      ],
      "text/plain": [
       "                                   time  user uj      step cycle  \\\n",
       "time                                                               \n",
       "2018-03-13 20:19:32 2018-03-13 20:19:32  0062     Homepage     1   \n",
       "\n",
       "                                     error type              error cause  \\\n",
       "time                                                                       \n",
       "2018-03-13 20:19:32  Success Validation Failure  unknown validation fail   \n",
       "\n",
       "                                                     cause message/ddi  \n",
       "time                                                                    \n",
       "2018-03-13 20:19:32  \\n<!DOCTYPE html>\\n<html lang=\"en\">\\n\\t<head>\\...  "
      ]
     },
     "metadata": {},
     "output_type": "display_data"
    },
    {
     "name": "stdout",
     "output_type": "stream",
     "text": [
      "2018-03-13 20:18:10,0062,2,, (4),0,Connection Error,0,2,Connection Error,,\n",
      "   >>> Bristol720 0067\n"
     ]
    },
    {
     "data": {
      "text/html": [
       "<div>\n",
       "<style scoped>\n",
       "    .dataframe tbody tr th:only-of-type {\n",
       "        vertical-align: middle;\n",
       "    }\n",
       "\n",
       "    .dataframe tbody tr th {\n",
       "        vertical-align: top;\n",
       "    }\n",
       "\n",
       "    .dataframe thead th {\n",
       "        text-align: right;\n",
       "    }\n",
       "</style>\n",
       "<table border=\"1\" class=\"dataframe\">\n",
       "  <thead>\n",
       "    <tr style=\"text-align: right;\">\n",
       "      <th></th>\n",
       "      <th>time</th>\n",
       "      <th>user</th>\n",
       "      <th>uj</th>\n",
       "      <th>step</th>\n",
       "      <th>cycle</th>\n",
       "      <th>error type</th>\n",
       "      <th>error cause</th>\n",
       "      <th>cause message/ddi</th>\n",
       "    </tr>\n",
       "    <tr>\n",
       "      <th>time</th>\n",
       "      <th></th>\n",
       "      <th></th>\n",
       "      <th></th>\n",
       "      <th></th>\n",
       "      <th></th>\n",
       "      <th></th>\n",
       "      <th></th>\n",
       "      <th></th>\n",
       "    </tr>\n",
       "  </thead>\n",
       "  <tbody>\n",
       "    <tr>\n",
       "      <th>2018-03-13 20:22:12</th>\n",
       "      <td>2018-03-13 20:22:12</td>\n",
       "      <td>0067</td>\n",
       "      <td></td>\n",
       "      <td>Homepage</td>\n",
       "      <td>1</td>\n",
       "      <td>Success Validation Failure</td>\n",
       "      <td>unknown validation fail</td>\n",
       "      <td>\\n&lt;!DOCTYPE html&gt;\\n&lt;html lang=\"en\"&gt;\\n\\t&lt;head&gt;\\...</td>\n",
       "    </tr>\n",
       "  </tbody>\n",
       "</table>\n",
       "</div>"
      ],
      "text/plain": [
       "                                   time  user uj      step cycle  \\\n",
       "time                                                               \n",
       "2018-03-13 20:22:12 2018-03-13 20:22:12  0067     Homepage     1   \n",
       "\n",
       "                                     error type              error cause  \\\n",
       "time                                                                       \n",
       "2018-03-13 20:22:12  Success Validation Failure  unknown validation fail   \n",
       "\n",
       "                                                     cause message/ddi  \n",
       "time                                                                    \n",
       "2018-03-13 20:22:12  \\n<!DOCTYPE html>\\n<html lang=\"en\">\\n\\t<head>\\...  "
      ]
     },
     "metadata": {},
     "output_type": "display_data"
    },
    {
     "name": "stdout",
     "output_type": "stream",
     "text": [
      "2018-03-13 20:20:55,0067,2,, (3),0,Connection Error,0,2,Connection Error,,\n",
      "   >>> Bristol720 0078\n"
     ]
    },
    {
     "data": {
      "text/html": [
       "<div>\n",
       "<style scoped>\n",
       "    .dataframe tbody tr th:only-of-type {\n",
       "        vertical-align: middle;\n",
       "    }\n",
       "\n",
       "    .dataframe tbody tr th {\n",
       "        vertical-align: top;\n",
       "    }\n",
       "\n",
       "    .dataframe thead th {\n",
       "        text-align: right;\n",
       "    }\n",
       "</style>\n",
       "<table border=\"1\" class=\"dataframe\">\n",
       "  <thead>\n",
       "    <tr style=\"text-align: right;\">\n",
       "      <th></th>\n",
       "      <th>time</th>\n",
       "      <th>user</th>\n",
       "      <th>uj</th>\n",
       "      <th>step</th>\n",
       "      <th>cycle</th>\n",
       "      <th>error type</th>\n",
       "      <th>error cause</th>\n",
       "      <th>cause message/ddi</th>\n",
       "    </tr>\n",
       "    <tr>\n",
       "      <th>time</th>\n",
       "      <th></th>\n",
       "      <th></th>\n",
       "      <th></th>\n",
       "      <th></th>\n",
       "      <th></th>\n",
       "      <th></th>\n",
       "      <th></th>\n",
       "      <th></th>\n",
       "    </tr>\n",
       "  </thead>\n",
       "  <tbody>\n",
       "    <tr>\n",
       "      <th>2018-03-13 20:27:45</th>\n",
       "      <td>2018-03-13 20:27:45</td>\n",
       "      <td>0078</td>\n",
       "      <td></td>\n",
       "      <td>Homepage</td>\n",
       "      <td>1</td>\n",
       "      <td>Success Validation Failure</td>\n",
       "      <td>unknown validation fail</td>\n",
       "      <td>\\n&lt;!DOCTYPE html&gt;\\n&lt;html lang=\"en\"&gt;\\n\\t&lt;head&gt;\\...</td>\n",
       "    </tr>\n",
       "  </tbody>\n",
       "</table>\n",
       "</div>"
      ],
      "text/plain": [
       "                                   time  user uj      step cycle  \\\n",
       "time                                                               \n",
       "2018-03-13 20:27:45 2018-03-13 20:27:45  0078     Homepage     1   \n",
       "\n",
       "                                     error type              error cause  \\\n",
       "time                                                                       \n",
       "2018-03-13 20:27:45  Success Validation Failure  unknown validation fail   \n",
       "\n",
       "                                                     cause message/ddi  \n",
       "time                                                                    \n",
       "2018-03-13 20:27:45  \\n<!DOCTYPE html>\\n<html lang=\"en\">\\n\\t<head>\\...  "
      ]
     },
     "metadata": {},
     "output_type": "display_data"
    },
    {
     "name": "stdout",
     "output_type": "stream",
     "text": [
      "2018-03-13 20:26:56,0078,2,, (2),0,Connection Error,0,2,Connection Error,,\n",
      "2018-03-13 20:07:37,0080,62,Billing,Route Workflow 1,15,Success Validation Failure,15,55,new Wrokflow response,received \"The PPM & Work Order Billing Process has now been initiated.\" instead of \"Record has been saved.\",\n",
      "2018-03-13 20:20:01,0081,44,Billing,Select All Records 1,17,Success Validation Failure,17,43,operation resulted in a table with zero rows,searchterm: <div id=\"mbff42c79_tdrow_\\[C:0\\]_tbselrow-gr\\[R:\\d+?\\]\".+?checked=\"checked\",\n",
      "2018-03-13 20:40:03,0082,28,Billing,Select All Records 1,26,Success Validation Failure,26,23,operation resulted in a table with zero rows,searchterm: <div id=\"mbff42c79_tdrow_\\[C:0\\]_tbselrow-gr\\[R:\\d+?\\]\".+?checked=\"checked\",\n",
      "2018-03-13 19:48:53,0083,40,Billing,Route Workflow 1,0,Success Validation Failure,0,40,new Wrokflow response,received radio buttons \"Do nothing\" and \"Cancel the bill\",\n",
      "2018-03-13 21:00:04,0086,3,Billing,Select All Records 1,29,Success Validation Failure,29,3,operation resulted in a table with zero rows,searchterm: <div id=\"mbff42c79_tdrow_\\[C:0\\]_tbselrow-gr\\[R:\\d+?\\]\".+?checked=\"checked\",\n",
      "2018-03-13 19:53:05,0088,1,Billing,Homepage,0,Connection Error,,,Connection Error,,\n",
      "2018-03-13 20:57:36,0090,6,Billing,Select All Records 1,26,Success Validation Failure,26,6,operation resulted in a table with zero rows,searchterm: <div id=\"mbff42c79_tdrow_\\[C:0\\]_tbselrow-gr\\[R:\\d+?\\]\".+?checked=\"checked\",\n",
      "   >>> JouleHouse 0008\n"
     ]
    },
    {
     "data": {
      "text/html": [
       "<div>\n",
       "<style scoped>\n",
       "    .dataframe tbody tr th:only-of-type {\n",
       "        vertical-align: middle;\n",
       "    }\n",
       "\n",
       "    .dataframe tbody tr th {\n",
       "        vertical-align: top;\n",
       "    }\n",
       "\n",
       "    .dataframe thead th {\n",
       "        text-align: right;\n",
       "    }\n",
       "</style>\n",
       "<table border=\"1\" class=\"dataframe\">\n",
       "  <thead>\n",
       "    <tr style=\"text-align: right;\">\n",
       "      <th></th>\n",
       "      <th>time</th>\n",
       "      <th>user</th>\n",
       "      <th>uj</th>\n",
       "      <th>step</th>\n",
       "      <th>cycle</th>\n",
       "      <th>error type</th>\n",
       "      <th>error cause</th>\n",
       "      <th>cause message/ddi</th>\n",
       "    </tr>\n",
       "    <tr>\n",
       "      <th>time</th>\n",
       "      <th></th>\n",
       "      <th></th>\n",
       "      <th></th>\n",
       "      <th></th>\n",
       "      <th></th>\n",
       "      <th></th>\n",
       "      <th></th>\n",
       "      <th></th>\n",
       "    </tr>\n",
       "  </thead>\n",
       "  <tbody>\n",
       "    <tr>\n",
       "      <th>2018-03-13 19:54:20</th>\n",
       "      <td>2018-03-13 19:54:20</td>\n",
       "      <td>0008</td>\n",
       "      <td></td>\n",
       "      <td>Homepage</td>\n",
       "      <td>1</td>\n",
       "      <td>Success Validation Failure</td>\n",
       "      <td>unknown validation fail</td>\n",
       "      <td>\\n&lt;!DOCTYPE html&gt;\\n&lt;html lang=\"en\"&gt;\\n\\t&lt;head&gt;\\...</td>\n",
       "    </tr>\n",
       "  </tbody>\n",
       "</table>\n",
       "</div>"
      ],
      "text/plain": [
       "                                   time  user uj      step cycle  \\\n",
       "time                                                               \n",
       "2018-03-13 19:54:20 2018-03-13 19:54:20  0008     Homepage     1   \n",
       "\n",
       "                                     error type              error cause  \\\n",
       "time                                                                       \n",
       "2018-03-13 19:54:20  Success Validation Failure  unknown validation fail   \n",
       "\n",
       "                                                     cause message/ddi  \n",
       "time                                                                    \n",
       "2018-03-13 19:54:20  \\n<!DOCTYPE html>\\n<html lang=\"en\">\\n\\t<head>\\...  "
      ]
     },
     "metadata": {},
     "output_type": "display_data"
    },
    {
     "name": "stdout",
     "output_type": "stream",
     "text": [
      "2018-03-13 19:54:07,0008,2,, (2),0,Connection Error,0,2,Connection Error,,\n",
      "   >>> JouleHouse 0009\n"
     ]
    },
    {
     "data": {
      "text/html": [
       "<div>\n",
       "<style scoped>\n",
       "    .dataframe tbody tr th:only-of-type {\n",
       "        vertical-align: middle;\n",
       "    }\n",
       "\n",
       "    .dataframe tbody tr th {\n",
       "        vertical-align: top;\n",
       "    }\n",
       "\n",
       "    .dataframe thead th {\n",
       "        text-align: right;\n",
       "    }\n",
       "</style>\n",
       "<table border=\"1\" class=\"dataframe\">\n",
       "  <thead>\n",
       "    <tr style=\"text-align: right;\">\n",
       "      <th></th>\n",
       "      <th>time</th>\n",
       "      <th>user</th>\n",
       "      <th>uj</th>\n",
       "      <th>step</th>\n",
       "      <th>cycle</th>\n",
       "      <th>error type</th>\n",
       "      <th>error cause</th>\n",
       "      <th>cause message/ddi</th>\n",
       "    </tr>\n",
       "    <tr>\n",
       "      <th>time</th>\n",
       "      <th></th>\n",
       "      <th></th>\n",
       "      <th></th>\n",
       "      <th></th>\n",
       "      <th></th>\n",
       "      <th></th>\n",
       "      <th></th>\n",
       "      <th></th>\n",
       "    </tr>\n",
       "  </thead>\n",
       "  <tbody>\n",
       "    <tr>\n",
       "      <th>2018-03-13 19:55:40</th>\n",
       "      <td>2018-03-13 19:55:40</td>\n",
       "      <td>0009</td>\n",
       "      <td></td>\n",
       "      <td>Homepage</td>\n",
       "      <td>1</td>\n",
       "      <td>Success Validation Failure</td>\n",
       "      <td>unknown validation fail</td>\n",
       "      <td>\\n&lt;!DOCTYPE html&gt;\\n&lt;html lang=\"en\"&gt;\\n\\t&lt;head&gt;\\...</td>\n",
       "    </tr>\n",
       "  </tbody>\n",
       "</table>\n",
       "</div>"
      ],
      "text/plain": [
       "                                   time  user uj      step cycle  \\\n",
       "time                                                               \n",
       "2018-03-13 19:55:40 2018-03-13 19:55:40  0009     Homepage     1   \n",
       "\n",
       "                                     error type              error cause  \\\n",
       "time                                                                       \n",
       "2018-03-13 19:55:40  Success Validation Failure  unknown validation fail   \n",
       "\n",
       "                                                     cause message/ddi  \n",
       "time                                                                    \n",
       "2018-03-13 19:55:40  \\n<!DOCTYPE html>\\n<html lang=\"en\">\\n\\t<head>\\...  "
      ]
     },
     "metadata": {},
     "output_type": "display_data"
    },
    {
     "name": "stdout",
     "output_type": "stream",
     "text": [
      "2018-03-13 19:55:28,0009,2,, (2),0,Connection Error,0,2,Connection Error,,\n",
      "2018-03-13 20:12:16,0010,56,Billing,Select All Records 1,18,Success Validation Failure,18,48,operation resulted in a table with zero rows,searchterm: <div id=\"mbff42c79_tdrow_\\[C:0\\]_tbselrow-gr\\[R:\\d+?\\]\".+?checked=\"checked\",\n",
      "2018-03-13 20:19:47,0011,42,Billing,Select All Records 1,15,Success Validation Failure,15,41,operation resulted in a table with zero rows,searchterm: <div id=\"mbff42c79_tdrow_\\[C:0\\]_tbselrow-gr\\[R:\\d+?\\]\".+?checked=\"checked\",\n",
      "2018-03-13 20:38:37,0012,20,Billing,Select All Records 1,16,Success Validation Failure,16,16,operation resulted in a table with zero rows,searchterm: <div id=\"mbff42c79_tdrow_\\[C:0\\]_tbselrow-gr\\[R:\\d+?\\]\".+?checked=\"checked\",\n",
      "   >>> Leicester 0001\n"
     ]
    },
    {
     "data": {
      "text/html": [
       "<div>\n",
       "<style scoped>\n",
       "    .dataframe tbody tr th:only-of-type {\n",
       "        vertical-align: middle;\n",
       "    }\n",
       "\n",
       "    .dataframe tbody tr th {\n",
       "        vertical-align: top;\n",
       "    }\n",
       "\n",
       "    .dataframe thead th {\n",
       "        text-align: right;\n",
       "    }\n",
       "</style>\n",
       "<table border=\"1\" class=\"dataframe\">\n",
       "  <thead>\n",
       "    <tr style=\"text-align: right;\">\n",
       "      <th></th>\n",
       "      <th>time</th>\n",
       "      <th>user</th>\n",
       "      <th>uj</th>\n",
       "      <th>step</th>\n",
       "      <th>cycle</th>\n",
       "      <th>error type</th>\n",
       "      <th>error cause</th>\n",
       "      <th>cause message/ddi</th>\n",
       "    </tr>\n",
       "    <tr>\n",
       "      <th>time</th>\n",
       "      <th></th>\n",
       "      <th></th>\n",
       "      <th></th>\n",
       "      <th></th>\n",
       "      <th></th>\n",
       "      <th></th>\n",
       "      <th></th>\n",
       "      <th></th>\n",
       "    </tr>\n",
       "  </thead>\n",
       "  <tbody>\n",
       "    <tr>\n",
       "      <th>2018-03-13 19:47:24</th>\n",
       "      <td>2018-03-13 19:47:24</td>\n",
       "      <td>0001</td>\n",
       "      <td></td>\n",
       "      <td>Homepage</td>\n",
       "      <td>1</td>\n",
       "      <td>Success Validation Failure</td>\n",
       "      <td>unknown validation fail</td>\n",
       "      <td>\\n&lt;!DOCTYPE html&gt;\\n&lt;html lang=\"en\"&gt;\\n\\t&lt;head&gt;\\...</td>\n",
       "    </tr>\n",
       "  </tbody>\n",
       "</table>\n",
       "</div>"
      ],
      "text/plain": [
       "                                   time  user uj      step cycle  \\\n",
       "time                                                               \n",
       "2018-03-13 19:47:24 2018-03-13 19:47:24  0001     Homepage     1   \n",
       "\n",
       "                                     error type              error cause  \\\n",
       "time                                                                       \n",
       "2018-03-13 19:47:24  Success Validation Failure  unknown validation fail   \n",
       "\n",
       "                                                     cause message/ddi  \n",
       "time                                                                    \n",
       "2018-03-13 19:47:24  \\n<!DOCTYPE html>\\n<html lang=\"en\">\\n\\t<head>\\...  "
      ]
     },
     "metadata": {},
     "output_type": "display_data"
    },
    {
     "name": "stdout",
     "output_type": "stream",
     "text": [
      "2018-03-13 19:47:13,0001,2,, (4),0,Connection Error,0,2,Connection Error,,\n",
      "2018-03-13 20:11:00,0005,57,Billing,Select SR OK,16,Success Validation Failure,16,52,Critical Message,BMXAQ0426E - A new bill for the customer agreement cannot be created at this time. Either bill lines are being copied to a bill batch or a previous copy failed and has not been reset. The copy process must be complete before a new bill can be created,\n"
     ]
    },
    {
     "data": {
      "text/html": [
       "<div>\n",
       "<style scoped>\n",
       "    .dataframe tbody tr th:only-of-type {\n",
       "        vertical-align: middle;\n",
       "    }\n",
       "\n",
       "    .dataframe tbody tr th {\n",
       "        vertical-align: top;\n",
       "    }\n",
       "\n",
       "    .dataframe thead th {\n",
       "        text-align: right;\n",
       "    }\n",
       "</style>\n",
       "<table border=\"1\" class=\"dataframe\">\n",
       "  <thead>\n",
       "    <tr style=\"text-align: right;\">\n",
       "      <th></th>\n",
       "      <th>inj</th>\n",
       "      <th>time</th>\n",
       "      <th>user</th>\n",
       "      <th>total errors</th>\n",
       "      <th>uj</th>\n",
       "      <th>step</th>\n",
       "      <th>cycle</th>\n",
       "      <th>error type</th>\n",
       "      <th>loop start</th>\n",
       "      <th>loop length</th>\n",
       "      <th>error cause</th>\n",
       "      <th>cause message/ddi</th>\n",
       "    </tr>\n",
       "  </thead>\n",
       "  <tbody>\n",
       "    <tr>\n",
       "      <th>0</th>\n",
       "      <td>Birchwood</td>\n",
       "      <td>2018-03-13 20:13:53</td>\n",
       "      <td>0005</td>\n",
       "      <td>43</td>\n",
       "      <td>Billing</td>\n",
       "      <td>Select All Records 1</td>\n",
       "      <td>15</td>\n",
       "      <td>Success Validation Failure</td>\n",
       "      <td>15</td>\n",
       "      <td>37</td>\n",
       "      <td>operation resulted in a table with zero rows</td>\n",
       "      <td>searchterm: &lt;div id=\"mbff42c79_tdrow_\\[C:0\\]_t...</td>\n",
       "    </tr>\n",
       "    <tr>\n",
       "      <th>1</th>\n",
       "      <td>Bristol720</td>\n",
       "      <td>2018-03-13 19:56:08</td>\n",
       "      <td>0022</td>\n",
       "      <td>2</td>\n",
       "      <td></td>\n",
       "      <td>(3)</td>\n",
       "      <td>0</td>\n",
       "      <td>Connection Error</td>\n",
       "      <td>0</td>\n",
       "      <td>2</td>\n",
       "      <td>Connection Error</td>\n",
       "      <td></td>\n",
       "    </tr>\n",
       "    <tr>\n",
       "      <th>2</th>\n",
       "      <td>Bristol720</td>\n",
       "      <td>2018-03-13 19:57:46</td>\n",
       "      <td>0025</td>\n",
       "      <td>2</td>\n",
       "      <td></td>\n",
       "      <td>(5)</td>\n",
       "      <td>0</td>\n",
       "      <td>Connection Error</td>\n",
       "      <td>0</td>\n",
       "      <td>2</td>\n",
       "      <td>Connection Error</td>\n",
       "      <td></td>\n",
       "    </tr>\n",
       "    <tr>\n",
       "      <th>3</th>\n",
       "      <td>Bristol720</td>\n",
       "      <td>2018-03-13 19:59:25</td>\n",
       "      <td>0028</td>\n",
       "      <td>2</td>\n",
       "      <td></td>\n",
       "      <td>(5)</td>\n",
       "      <td>0</td>\n",
       "      <td>Connection Error</td>\n",
       "      <td>0</td>\n",
       "      <td>2</td>\n",
       "      <td>Connection Error</td>\n",
       "      <td></td>\n",
       "    </tr>\n",
       "    <tr>\n",
       "      <th>4</th>\n",
       "      <td>Bristol720</td>\n",
       "      <td>2018-03-13 20:07:57</td>\n",
       "      <td>0044</td>\n",
       "      <td>1</td>\n",
       "      <td></td>\n",
       "      <td>Homepage</td>\n",
       "      <td>0</td>\n",
       "      <td>Connection Error</td>\n",
       "      <td></td>\n",
       "      <td></td>\n",
       "      <td>Connection Error</td>\n",
       "      <td></td>\n",
       "    </tr>\n",
       "    <tr>\n",
       "      <th>5</th>\n",
       "      <td>Bristol720</td>\n",
       "      <td>2018-03-13 20:18:10</td>\n",
       "      <td>0062</td>\n",
       "      <td>2</td>\n",
       "      <td></td>\n",
       "      <td>(4)</td>\n",
       "      <td>0</td>\n",
       "      <td>Connection Error</td>\n",
       "      <td>0</td>\n",
       "      <td>2</td>\n",
       "      <td>Connection Error</td>\n",
       "      <td></td>\n",
       "    </tr>\n",
       "    <tr>\n",
       "      <th>6</th>\n",
       "      <td>Bristol720</td>\n",
       "      <td>2018-03-13 20:20:55</td>\n",
       "      <td>0067</td>\n",
       "      <td>2</td>\n",
       "      <td></td>\n",
       "      <td>(3)</td>\n",
       "      <td>0</td>\n",
       "      <td>Connection Error</td>\n",
       "      <td>0</td>\n",
       "      <td>2</td>\n",
       "      <td>Connection Error</td>\n",
       "      <td></td>\n",
       "    </tr>\n",
       "    <tr>\n",
       "      <th>7</th>\n",
       "      <td>Bristol720</td>\n",
       "      <td>2018-03-13 20:26:56</td>\n",
       "      <td>0078</td>\n",
       "      <td>2</td>\n",
       "      <td></td>\n",
       "      <td>(2)</td>\n",
       "      <td>0</td>\n",
       "      <td>Connection Error</td>\n",
       "      <td>0</td>\n",
       "      <td>2</td>\n",
       "      <td>Connection Error</td>\n",
       "      <td></td>\n",
       "    </tr>\n",
       "    <tr>\n",
       "      <th>8</th>\n",
       "      <td>Bristol720</td>\n",
       "      <td>2018-03-13 20:07:37</td>\n",
       "      <td>0080</td>\n",
       "      <td>62</td>\n",
       "      <td>Billing</td>\n",
       "      <td>Route Workflow 1</td>\n",
       "      <td>15</td>\n",
       "      <td>Success Validation Failure</td>\n",
       "      <td>15</td>\n",
       "      <td>55</td>\n",
       "      <td>new Wrokflow response</td>\n",
       "      <td>received \"The PPM &amp; Work Order Billing Process...</td>\n",
       "    </tr>\n",
       "    <tr>\n",
       "      <th>9</th>\n",
       "      <td>Bristol720</td>\n",
       "      <td>2018-03-13 20:20:01</td>\n",
       "      <td>0081</td>\n",
       "      <td>44</td>\n",
       "      <td>Billing</td>\n",
       "      <td>Select All Records 1</td>\n",
       "      <td>17</td>\n",
       "      <td>Success Validation Failure</td>\n",
       "      <td>17</td>\n",
       "      <td>43</td>\n",
       "      <td>operation resulted in a table with zero rows</td>\n",
       "      <td>searchterm: &lt;div id=\"mbff42c79_tdrow_\\[C:0\\]_t...</td>\n",
       "    </tr>\n",
       "    <tr>\n",
       "      <th>10</th>\n",
       "      <td>Bristol720</td>\n",
       "      <td>2018-03-13 20:40:03</td>\n",
       "      <td>0082</td>\n",
       "      <td>28</td>\n",
       "      <td>Billing</td>\n",
       "      <td>Select All Records 1</td>\n",
       "      <td>26</td>\n",
       "      <td>Success Validation Failure</td>\n",
       "      <td>26</td>\n",
       "      <td>23</td>\n",
       "      <td>operation resulted in a table with zero rows</td>\n",
       "      <td>searchterm: &lt;div id=\"mbff42c79_tdrow_\\[C:0\\]_t...</td>\n",
       "    </tr>\n",
       "    <tr>\n",
       "      <th>11</th>\n",
       "      <td>Bristol720</td>\n",
       "      <td>2018-03-13 19:48:53</td>\n",
       "      <td>0083</td>\n",
       "      <td>40</td>\n",
       "      <td>Billing</td>\n",
       "      <td>Route Workflow 1</td>\n",
       "      <td>0</td>\n",
       "      <td>Success Validation Failure</td>\n",
       "      <td>0</td>\n",
       "      <td>40</td>\n",
       "      <td>new Wrokflow response</td>\n",
       "      <td>received radio buttons \"Do nothing\" and \"Cance...</td>\n",
       "    </tr>\n",
       "    <tr>\n",
       "      <th>12</th>\n",
       "      <td>Bristol720</td>\n",
       "      <td>2018-03-13 21:00:04</td>\n",
       "      <td>0086</td>\n",
       "      <td>3</td>\n",
       "      <td>Billing</td>\n",
       "      <td>Select All Records 1</td>\n",
       "      <td>29</td>\n",
       "      <td>Success Validation Failure</td>\n",
       "      <td>29</td>\n",
       "      <td>3</td>\n",
       "      <td>operation resulted in a table with zero rows</td>\n",
       "      <td>searchterm: &lt;div id=\"mbff42c79_tdrow_\\[C:0\\]_t...</td>\n",
       "    </tr>\n",
       "    <tr>\n",
       "      <th>13</th>\n",
       "      <td>Bristol720</td>\n",
       "      <td>2018-03-13 19:53:05</td>\n",
       "      <td>0088</td>\n",
       "      <td>1</td>\n",
       "      <td>Billing</td>\n",
       "      <td>Homepage</td>\n",
       "      <td>0</td>\n",
       "      <td>Connection Error</td>\n",
       "      <td></td>\n",
       "      <td></td>\n",
       "      <td>Connection Error</td>\n",
       "      <td></td>\n",
       "    </tr>\n",
       "    <tr>\n",
       "      <th>14</th>\n",
       "      <td>Bristol720</td>\n",
       "      <td>2018-03-13 20:57:36</td>\n",
       "      <td>0090</td>\n",
       "      <td>6</td>\n",
       "      <td>Billing</td>\n",
       "      <td>Select All Records 1</td>\n",
       "      <td>26</td>\n",
       "      <td>Success Validation Failure</td>\n",
       "      <td>26</td>\n",
       "      <td>6</td>\n",
       "      <td>operation resulted in a table with zero rows</td>\n",
       "      <td>searchterm: &lt;div id=\"mbff42c79_tdrow_\\[C:0\\]_t...</td>\n",
       "    </tr>\n",
       "    <tr>\n",
       "      <th>15</th>\n",
       "      <td>JouleHouse</td>\n",
       "      <td>2018-03-13 19:54:07</td>\n",
       "      <td>0008</td>\n",
       "      <td>2</td>\n",
       "      <td></td>\n",
       "      <td>(2)</td>\n",
       "      <td>0</td>\n",
       "      <td>Connection Error</td>\n",
       "      <td>0</td>\n",
       "      <td>2</td>\n",
       "      <td>Connection Error</td>\n",
       "      <td></td>\n",
       "    </tr>\n",
       "    <tr>\n",
       "      <th>16</th>\n",
       "      <td>JouleHouse</td>\n",
       "      <td>2018-03-13 19:55:28</td>\n",
       "      <td>0009</td>\n",
       "      <td>2</td>\n",
       "      <td></td>\n",
       "      <td>(2)</td>\n",
       "      <td>0</td>\n",
       "      <td>Connection Error</td>\n",
       "      <td>0</td>\n",
       "      <td>2</td>\n",
       "      <td>Connection Error</td>\n",
       "      <td></td>\n",
       "    </tr>\n",
       "    <tr>\n",
       "      <th>17</th>\n",
       "      <td>JouleHouse</td>\n",
       "      <td>2018-03-13 20:12:16</td>\n",
       "      <td>0010</td>\n",
       "      <td>56</td>\n",
       "      <td>Billing</td>\n",
       "      <td>Select All Records 1</td>\n",
       "      <td>18</td>\n",
       "      <td>Success Validation Failure</td>\n",
       "      <td>18</td>\n",
       "      <td>48</td>\n",
       "      <td>operation resulted in a table with zero rows</td>\n",
       "      <td>searchterm: &lt;div id=\"mbff42c79_tdrow_\\[C:0\\]_t...</td>\n",
       "    </tr>\n",
       "    <tr>\n",
       "      <th>18</th>\n",
       "      <td>JouleHouse</td>\n",
       "      <td>2018-03-13 20:19:47</td>\n",
       "      <td>0011</td>\n",
       "      <td>42</td>\n",
       "      <td>Billing</td>\n",
       "      <td>Select All Records 1</td>\n",
       "      <td>15</td>\n",
       "      <td>Success Validation Failure</td>\n",
       "      <td>15</td>\n",
       "      <td>41</td>\n",
       "      <td>operation resulted in a table with zero rows</td>\n",
       "      <td>searchterm: &lt;div id=\"mbff42c79_tdrow_\\[C:0\\]_t...</td>\n",
       "    </tr>\n",
       "    <tr>\n",
       "      <th>19</th>\n",
       "      <td>JouleHouse</td>\n",
       "      <td>2018-03-13 20:38:37</td>\n",
       "      <td>0012</td>\n",
       "      <td>20</td>\n",
       "      <td>Billing</td>\n",
       "      <td>Select All Records 1</td>\n",
       "      <td>16</td>\n",
       "      <td>Success Validation Failure</td>\n",
       "      <td>16</td>\n",
       "      <td>16</td>\n",
       "      <td>operation resulted in a table with zero rows</td>\n",
       "      <td>searchterm: &lt;div id=\"mbff42c79_tdrow_\\[C:0\\]_t...</td>\n",
       "    </tr>\n",
       "    <tr>\n",
       "      <th>20</th>\n",
       "      <td>Leicester</td>\n",
       "      <td>2018-03-13 19:47:13</td>\n",
       "      <td>0001</td>\n",
       "      <td>2</td>\n",
       "      <td></td>\n",
       "      <td>(4)</td>\n",
       "      <td>0</td>\n",
       "      <td>Connection Error</td>\n",
       "      <td>0</td>\n",
       "      <td>2</td>\n",
       "      <td>Connection Error</td>\n",
       "      <td></td>\n",
       "    </tr>\n",
       "    <tr>\n",
       "      <th>21</th>\n",
       "      <td>Leicester</td>\n",
       "      <td>2018-03-13 20:11:00</td>\n",
       "      <td>0005</td>\n",
       "      <td>57</td>\n",
       "      <td>Billing</td>\n",
       "      <td>Select SR OK</td>\n",
       "      <td>16</td>\n",
       "      <td>Success Validation Failure</td>\n",
       "      <td>16</td>\n",
       "      <td>52</td>\n",
       "      <td>Critical Message</td>\n",
       "      <td>BMXAQ0426E - A new bill for the customer agree...</td>\n",
       "    </tr>\n",
       "  </tbody>\n",
       "</table>\n",
       "</div>"
      ],
      "text/plain": [
       "           inj                time  user  total errors       uj  \\\n",
       "0    Birchwood 2018-03-13 20:13:53  0005            43  Billing   \n",
       "1   Bristol720 2018-03-13 19:56:08  0022             2            \n",
       "2   Bristol720 2018-03-13 19:57:46  0025             2            \n",
       "3   Bristol720 2018-03-13 19:59:25  0028             2            \n",
       "4   Bristol720 2018-03-13 20:07:57  0044             1            \n",
       "5   Bristol720 2018-03-13 20:18:10  0062             2            \n",
       "6   Bristol720 2018-03-13 20:20:55  0067             2            \n",
       "7   Bristol720 2018-03-13 20:26:56  0078             2            \n",
       "8   Bristol720 2018-03-13 20:07:37  0080            62  Billing   \n",
       "9   Bristol720 2018-03-13 20:20:01  0081            44  Billing   \n",
       "10  Bristol720 2018-03-13 20:40:03  0082            28  Billing   \n",
       "11  Bristol720 2018-03-13 19:48:53  0083            40  Billing   \n",
       "12  Bristol720 2018-03-13 21:00:04  0086             3  Billing   \n",
       "13  Bristol720 2018-03-13 19:53:05  0088             1  Billing   \n",
       "14  Bristol720 2018-03-13 20:57:36  0090             6  Billing   \n",
       "15  JouleHouse 2018-03-13 19:54:07  0008             2            \n",
       "16  JouleHouse 2018-03-13 19:55:28  0009             2            \n",
       "17  JouleHouse 2018-03-13 20:12:16  0010            56  Billing   \n",
       "18  JouleHouse 2018-03-13 20:19:47  0011            42  Billing   \n",
       "19  JouleHouse 2018-03-13 20:38:37  0012            20  Billing   \n",
       "20   Leicester 2018-03-13 19:47:13  0001             2            \n",
       "21   Leicester 2018-03-13 20:11:00  0005            57  Billing   \n",
       "\n",
       "                    step cycle                  error type loop start  \\\n",
       "0   Select All Records 1    15  Success Validation Failure         15   \n",
       "1                    (3)     0            Connection Error          0   \n",
       "2                    (5)     0            Connection Error          0   \n",
       "3                    (5)     0            Connection Error          0   \n",
       "4               Homepage     0            Connection Error              \n",
       "5                    (4)     0            Connection Error          0   \n",
       "6                    (3)     0            Connection Error          0   \n",
       "7                    (2)     0            Connection Error          0   \n",
       "8       Route Workflow 1    15  Success Validation Failure         15   \n",
       "9   Select All Records 1    17  Success Validation Failure         17   \n",
       "10  Select All Records 1    26  Success Validation Failure         26   \n",
       "11      Route Workflow 1     0  Success Validation Failure          0   \n",
       "12  Select All Records 1    29  Success Validation Failure         29   \n",
       "13              Homepage     0            Connection Error              \n",
       "14  Select All Records 1    26  Success Validation Failure         26   \n",
       "15                   (2)     0            Connection Error          0   \n",
       "16                   (2)     0            Connection Error          0   \n",
       "17  Select All Records 1    18  Success Validation Failure         18   \n",
       "18  Select All Records 1    15  Success Validation Failure         15   \n",
       "19  Select All Records 1    16  Success Validation Failure         16   \n",
       "20                   (4)     0            Connection Error          0   \n",
       "21          Select SR OK    16  Success Validation Failure         16   \n",
       "\n",
       "   loop length                                   error cause  \\\n",
       "0           37  operation resulted in a table with zero rows   \n",
       "1            2                              Connection Error   \n",
       "2            2                              Connection Error   \n",
       "3            2                              Connection Error   \n",
       "4                                           Connection Error   \n",
       "5            2                              Connection Error   \n",
       "6            2                              Connection Error   \n",
       "7            2                              Connection Error   \n",
       "8           55                         new Wrokflow response   \n",
       "9           43  operation resulted in a table with zero rows   \n",
       "10          23  operation resulted in a table with zero rows   \n",
       "11          40                         new Wrokflow response   \n",
       "12           3  operation resulted in a table with zero rows   \n",
       "13                                          Connection Error   \n",
       "14           6  operation resulted in a table with zero rows   \n",
       "15           2                              Connection Error   \n",
       "16           2                              Connection Error   \n",
       "17          48  operation resulted in a table with zero rows   \n",
       "18          41  operation resulted in a table with zero rows   \n",
       "19          16  operation resulted in a table with zero rows   \n",
       "20           2                              Connection Error   \n",
       "21          52                              Critical Message   \n",
       "\n",
       "                                    cause message/ddi  \n",
       "0   searchterm: <div id=\"mbff42c79_tdrow_\\[C:0\\]_t...  \n",
       "1                                                      \n",
       "2                                                      \n",
       "3                                                      \n",
       "4                                                      \n",
       "5                                                      \n",
       "6                                                      \n",
       "7                                                      \n",
       "8   received \"The PPM & Work Order Billing Process...  \n",
       "9   searchterm: <div id=\"mbff42c79_tdrow_\\[C:0\\]_t...  \n",
       "10  searchterm: <div id=\"mbff42c79_tdrow_\\[C:0\\]_t...  \n",
       "11  received radio buttons \"Do nothing\" and \"Cance...  \n",
       "12  searchterm: <div id=\"mbff42c79_tdrow_\\[C:0\\]_t...  \n",
       "13                                                     \n",
       "14  searchterm: <div id=\"mbff42c79_tdrow_\\[C:0\\]_t...  \n",
       "15                                                     \n",
       "16                                                     \n",
       "17  searchterm: <div id=\"mbff42c79_tdrow_\\[C:0\\]_t...  \n",
       "18  searchterm: <div id=\"mbff42c79_tdrow_\\[C:0\\]_t...  \n",
       "19  searchterm: <div id=\"mbff42c79_tdrow_\\[C:0\\]_t...  \n",
       "20                                                     \n",
       "21  BMXAQ0426E - A new bill for the customer agree...  "
      ]
     },
     "execution_count": 12,
     "metadata": {},
     "output_type": "execute_result"
    }
   ],
   "source": [
    "causes = {}\n",
    "causes_keys = []\n",
    "accu = []\n",
    "for inj in folders:\n",
    "    sorted_keys = sorted(injectors[inj].keys())\n",
    "    for userid in sorted_keys:\n",
    "        user = injectors[inj][userid]\n",
    "        errors_values = list(user.lead_error_info(shorten=False).values())\n",
    "        all_user_errors = user.get_errors(shorten=False)\n",
    "        unknowns = all_user_errors.loc[all_user_errors['error cause'] == 'unknown validation fail']\n",
    "        if len(unknowns):\n",
    "            print('   >>>', inj, userid)\n",
    "            display(unknowns)\n",
    "        accu.append([inj] + errors_values)\n",
    "        for val in errors_values:\n",
    "            try:\n",
    "                print(val[:250], end=',')\n",
    "            except TypeError:\n",
    "                print(val, end=',')\n",
    "        print()\n",
    "        if causes_keys == []:\n",
    "            causes_keys = list(user.lead_error_info(shorten=False))\n",
    "\n",
    "        # summation of values of corresponding key over list of dicts\n",
    "        for key in user.causes.keys():\n",
    "            causes[key]=causes.setdefault(key, 0) + user.causes[key]\n",
    "\n",
    "data = pd.DataFrame(accu, columns=['inj'] + causes_keys)\n",
    "data"
   ]
  },
  {
   "cell_type": "markdown",
   "metadata": {},
   "source": [
    "Info on the \"lead\" errors for the longest error-loop or, if no error-loop, the first error for the user:"
   ]
  },
  {
   "cell_type": "code",
   "execution_count": 13,
   "metadata": {
    "collapsed": false
   },
   "outputs": [],
   "source": [
    "cat = list(causes.items())\n",
    "stats = [ z[1] for z in cat ]\n",
    "types = [ z[0] for z in cat ]\n",
    "# cdf = pd.DataFrame(stats, index=types, columns=['cause type'])\n",
    "cdft = pd.DataFrame([stats], index=['count'], columns=types)\n",
    "# cdf.plot.bar(figsize=(12,8));\n",
    "# the_table = plt.table(cellText=[stats], loc='top') #rowLabels= ['cause type'],\n",
    "# the_table.set_fontsize(14)"
   ]
  },
  {
   "cell_type": "code",
   "execution_count": 14,
   "metadata": {
    "collapsed": false
   },
   "outputs": [
    {
     "data": {
      "image/png": "[encoded data removed]",
      "text/plain": [
       "<matplotlib.figure.Figure at 0x7f469330dc18>"
      ]
     },
     "metadata": {},
     "output_type": "display_data"
    }
   ],
   "source": [
    "f, ax = plt.subplots(figsize=(12,8))\n",
    "sns.barplot(data=cdft);\n",
    "ax.set_xticklabels(ax.get_xticklabels(), rotation=40, ha=\"right\")\n",
    "the_table = plt.table(cellText=[stats], loc='top') #rowLabels= ['cause type'],\n",
    "the_table.set_fontsize(14)\n",
    "plt.tight_layout()\n",
    "plt.show();"
   ]
  },
  {
   "cell_type": "markdown",
   "metadata": {},
   "source": [
    "# Analysis of individual virtual users"
   ]
  },
  {
   "cell_type": "code",
   "execution_count": 15,
   "metadata": {
    "collapsed": false
   },
   "outputs": [
    {
     "ename": "SyntaxError",
     "evalue": "invalid syntax (<ipython-input-15-f2aac8727edc>, line 1)",
     "output_type": "error",
     "traceback": [
      "\u001b[0;36m  File \u001b[0;32m\"<ipython-input-15-f2aac8727edc>\"\u001b[0;36m, line \u001b[0;32m1\u001b[0m\n\u001b[0;31m    FAIL HERE\u001b[0m\n\u001b[0m            ^\u001b[0m\n\u001b[0;31mSyntaxError\u001b[0m\u001b[0;31m:\u001b[0m invalid syntax\n"
     ]
    }
   ],
   "source": [
    "FAIL HERE"
   ]
  },
  {
   "cell_type": "code",
   "execution_count": null,
   "metadata": {
    "collapsed": false
   },
   "outputs": [],
   "source": [
    "%%javascript\n",
    "IPython.notebook.kernel.execute(\"URL = '\" + window.location + \"'\");"
   ]
  },
  {
   "cell_type": "code",
   "execution_count": null,
   "metadata": {
    "collapsed": false
   },
   "outputs": [],
   "source": [
    "uid = URL.split('?')[1].split('=')[1]\n",
    "errs9 = vusers[uid].get_errors()"
   ]
  },
  {
   "cell_type": "code",
   "execution_count": null,
   "metadata": {
    "collapsed": true
   },
   "outputs": [],
   "source": [
    "uid='0005'\n",
    "errs9 = vusers[uid].get_errors()"
   ]
  },
  {
   "cell_type": "code",
   "execution_count": null,
   "metadata": {
    "collapsed": false,
    "scrolled": false
   },
   "outputs": [],
   "source": [
    "# shorten the cause message\n",
    "errs9['cause message/ddi'] = errs9['cause message/ddi'].apply(lambda x: x[:50])\n",
    "bar_categorical(errs9, 'error type', 'T', figsize=(15,9), title=uid + '_' + vusers[uid].uj);\n",
    "bar_categorical(errs9, 'cause message/ddi', 'T', figsize=(15,9));\n",
    "bar_categorical(errs9, ['step'], 'T', figsize=(15,9))"
   ]
  },
  {
   "cell_type": "code",
   "execution_count": null,
   "metadata": {
    "collapsed": false,
    "scrolled": false
   },
   "outputs": [],
   "source": [
    "pd.options.display.max_rows = 9999\n",
    "display(errs9)"
   ]
  },
  {
   "cell_type": "markdown",
   "metadata": {},
   "source": [
    "-------------------------------------"
   ]
  },
  {
   "cell_type": "code",
   "execution_count": null,
   "metadata": {
    "collapsed": false
   },
   "outputs": [],
   "source": [
    "sdf = timeslice(errs9, datetime(2018, 1, 29, 9, 41, 26), datetime(2018, 1, 29, 9, 41, 27))\n",
    "print(sdf)\n",
    "sdf = timeslice(errs9, '2018-1-29T9:41:26', '2018-1-29T9:41:27')\n",
    "print(sdf)"
   ]
  },
  {
   "cell_type": "code",
   "execution_count": null,
   "metadata": {
    "collapsed": false
   },
   "outputs": [],
   "source": [
    "# errs9['2018-1-29 9:41']"
   ]
  },
  {
   "cell_type": "markdown",
   "metadata": {},
   "source": [
    "https://jakevdp.github.io/PythonDataScienceHandbook/03.11-working-with-time-series.html#Resampling-and-converting-frequencies"
   ]
  },
  {
   "cell_type": "code",
   "execution_count": null,
   "metadata": {
    "collapsed": false
   },
   "outputs": [],
   "source": [
    "vusers['0005'].errors[0].show() # shorten=False)"
   ]
  },
  {
   "cell_type": "markdown",
   "metadata": {},
   "source": [
    "user 5 (or 7) on SOPS:: \n",
    "BMXAA8229W - Record WORKORDER :  Site=WW Work Order=4880902 has been updated by another user. Your changes have not been saved. Refresh the record and try again.\n",
    "\n",
    "user 4 on BAYVIEW:\n",
    "BMXAA8229W - Record WORKORDER :  Site=WW Work Order=4880921 has been updated by another user. Your changes have not been saved. Refresh the record and try again."
   ]
  },
  {
   "cell_type": "code",
   "execution_count": null,
   "metadata": {
    "collapsed": false
   },
   "outputs": [],
   "source": [
    "# FAIL HERE"
   ]
  },
  {
   "cell_type": "markdown",
   "metadata": {},
   "source": [
    "It seems to be working. The key factors are:\n",
    "* errors='coerce'\n",
    "* udf.index = \n",
    "* lookup references should be done by range of datetimes !\n",
    "\n",
    "The double rows for column names is rather a quirk of the \"pretty print\" in Jupyter, since `udf.columns.nlevels` returns 1"
   ]
  },
  {
   "cell_type": "code",
   "execution_count": null,
   "metadata": {
    "collapsed": false
   },
   "outputs": [],
   "source": [
    "udf = errs9\n",
    "udf.columns.nlevels"
   ]
  },
  {
   "cell_type": "markdown",
   "metadata": {},
   "source": [
    "-----------------------------------------"
   ]
  },
  {
   "cell_type": "code",
   "execution_count": null,
   "metadata": {
    "collapsed": true
   },
   "outputs": [],
   "source": [
    "# from pandas.tseries import converter as pdtc\n",
    "# import matplotlib.units as munits\n",
    "# import numpy as np\n",
    "\n",
    "# munits.registry[np.datetime64] = pdtc.DatetimeConverter()"
   ]
  },
  {
   "cell_type": "code",
   "execution_count": null,
   "metadata": {
    "collapsed": true
   },
   "outputs": [],
   "source": [
    "def plotit(df, plot_params):\n",
    "    \n",
    "    fig, ax1 = plt.subplots()\n",
    "\n",
    "    # ax2 = ax1.twinx()\n",
    "    ax1.plot(df.index, df['user'], 'b-')\n",
    "    # ax2.plot(df.index, df['distance'], 'b-')\n",
    "\n",
    "    ax1.set_xlabel('Date')\n",
    "    ax1.set_ylabel('Errors', color='b')\n",
    "    # ax2.set_ylabel('Distance', color='g')\n",
    "\n",
    "\n",
    "    plt.show()\n",
    "    plt.rcParams['figure.figsize'] = 15,9\n",
    "    # df.plot(**plot_params);"
   ]
  },
  {
   "cell_type": "code",
   "execution_count": null,
   "metadata": {
    "collapsed": false
   },
   "outputs": [],
   "source": [
    "period = 'h'\n",
    "plot_params = {'kind': 'bar', 'title' : 'errors per ' + period, 'figsize': (15, 9) }#  'style': ['-.'], }\n",
    "plotit(udf, plot_params)"
   ]
  },
  {
   "cell_type": "code",
   "execution_count": null,
   "metadata": {
    "collapsed": false
   },
   "outputs": [],
   "source": [
    "hdf = pd.DataFrame()\n",
    "hdf['user'] = udf.user.resample('H').count()\n",
    "hdf"
   ]
  },
  {
   "cell_type": "code",
   "execution_count": null,
   "metadata": {
    "collapsed": false
   },
   "outputs": [],
   "source": [
    "plotit(hdf, None)"
   ]
  },
  {
   "cell_type": "code",
   "execution_count": null,
   "metadata": {
    "collapsed": true
   },
   "outputs": [],
   "source": [
    "def barit(df, bar_width_apparently_in_days=0.04):\n",
    "    \n",
    "    print('bar width:', bar_width_apparently_in_days)\n",
    "    \n",
    "    fig, ax1 = plt.subplots()\n",
    "\n",
    "    # ax2 = ax1.twinx()\n",
    "    ax1.bar(df.index, df['user'], width=bar_width_apparently_in_days, color='b') #, ec='r')\n",
    "    # ax2.plot(df.index, df['distance'], 'b-')\n",
    "\n",
    "    ax1.set_xlabel('Time')\n",
    "    ax1.set_ylabel('Errors', color='b')\n",
    "    # ax2.set_ylabel('Distance', color='g')\n",
    "    \n",
    "    #set ticks every week\n",
    "    if bar_width_apparently_in_days > 0.001:\n",
    "        ax1.xaxis.set_major_locator(mdates.HourLocator())\n",
    "    else:\n",
    "        ax1.xaxis.set_major_locator(mdates.MinuteLocator(interval=15))\n",
    "    \n",
    "    #set major ticks format\n",
    "    ax1.xaxis.set_major_formatter(mdates.DateFormatter('%H:%M'))\n",
    "\n",
    "\n",
    "    plt.show()\n",
    "    plt.rcParams['figure.figsize'] = 15,9\n",
    "    # df.plot(**plot_params);"
   ]
  },
  {
   "cell_type": "code",
   "execution_count": null,
   "metadata": {
    "collapsed": false
   },
   "outputs": [],
   "source": [
    "barit(hdf, )"
   ]
  },
  {
   "cell_type": "code",
   "execution_count": null,
   "metadata": {
    "collapsed": false
   },
   "outputs": [],
   "source": [
    "mdf = pd.DataFrame()\n",
    "mdf['user'] = udf.user.resample('T').count()\n",
    "mdf.head()"
   ]
  },
  {
   "cell_type": "code",
   "execution_count": null,
   "metadata": {
    "collapsed": false
   },
   "outputs": [],
   "source": [
    "barit(mdf, )"
   ]
  },
  {
   "cell_type": "code",
   "execution_count": null,
   "metadata": {
    "collapsed": false
   },
   "outputs": [],
   "source": [
    "barit(mdf, 0.0006)"
   ]
  },
  {
   "cell_type": "code",
   "execution_count": null,
   "metadata": {
    "collapsed": false
   },
   "outputs": [],
   "source": [
    "barit(mdf[datetime(2018, 1, 29, 6):], 0.0003) #datetime(2018, 1, 29, 9, 41, 27)"
   ]
  },
  {
   "cell_type": "code",
   "execution_count": null,
   "metadata": {
    "collapsed": false
   },
   "outputs": [],
   "source": [
    "barit(mdf[datetime(2018, 1, 29, 6, 40):datetime(2018, 1, 29, 7, 40)], 0.0002)"
   ]
  },
  {
   "cell_type": "markdown",
   "metadata": {},
   "source": [
    "------------------------------"
   ]
  },
  {
   "cell_type": "markdown",
   "metadata": {},
   "source": [
    "Try Seaborn /sns"
   ]
  },
  {
   "cell_type": "code",
   "execution_count": null,
   "metadata": {
    "collapsed": false
   },
   "outputs": [],
   "source": [
    "plt.figure(figsize=(12,8))\n",
    "sns.barplot(hdf.index, hdf.user, color=\"b\")\n",
    "plt.grid(True)\n",
    "plt.show()"
   ]
  },
  {
   "cell_type": "code",
   "execution_count": null,
   "metadata": {
    "collapsed": false
   },
   "outputs": [],
   "source": [
    "f, ax = plt.subplots(figsize=(12,8))\n",
    "sns.countplot('error type', data=udf) #, size=6, aspect=1.5)#, ax=ax[0,0])\n",
    "# sns.factorplot( x=udf.user, data=udf, kind=\"count\", size=6, aspect=1.5)#, ax=ax[0,0])\n",
    "# ax.set_xticklabels('errors') #, step=2)"
   ]
  },
  {
   "cell_type": "code",
   "execution_count": null,
   "metadata": {
    "collapsed": false
   },
   "outputs": [],
   "source": [
    "udf.head()"
   ]
  },
  {
   "cell_type": "code",
   "execution_count": null,
   "metadata": {
    "collapsed": false
   },
   "outputs": [],
   "source": [
    "hdf = pd.DataFrame()\n",
    "hdf['user'] = udf.user.resample('H').count()\n",
    "hdf"
   ]
  },
  {
   "cell_type": "code",
   "execution_count": null,
   "metadata": {
    "collapsed": false,
    "scrolled": true
   },
   "outputs": [],
   "source": [
    "tmpdf = pd.DataFrame()\n",
    "tmpdf['error type'] = udf['error type']\n",
    "tmpdf['cycle'] = udf['cycle'].astype(int)\n",
    "tmpdf"
   ]
  },
  {
   "cell_type": "markdown",
   "metadata": {},
   "source": [
    "The \".groupby\" works as follows: creates sor of \"dictionary\" (DataFrameGroupBy object) with keys matching the groups, and each value in the dictionary is a DataFrame with the corresponding rows from the original DF."
   ]
  },
  {
   "cell_type": "code",
   "execution_count": null,
   "metadata": {
    "collapsed": false,
    "scrolled": true
   },
   "outputs": [],
   "source": [
    "grouped_df = tmpdf.groupby('error type')\n",
    "for key, item in grouped_df:\n",
    "    print(grouped_df.get_group(key), '\\n\\n')"
   ]
  },
  {
   "cell_type": "markdown",
   "metadata": {},
   "source": [
    "Applying a function to the DataFrameGroupBy object, causes it to be \"reduced\" to a regular DataFrame - prior dict keys are now indexes and the rows values are collapsed"
   ]
  },
  {
   "cell_type": "code",
   "execution_count": null,
   "metadata": {
    "collapsed": false
   },
   "outputs": [],
   "source": [
    "summed = grouped_df.sum()\n",
    "print(type(summed))\n",
    "summed"
   ]
  },
  {
   "cell_type": "markdown",
   "metadata": {},
   "source": [
    "Applying `.resample(<period_encoding>)`, generally results in object that cannot be directly viewed (yet has index). Only after applyng additional function, the resulting object is a Dataframe."
   ]
  },
  {
   "cell_type": "code",
   "execution_count": null,
   "metadata": {
    "collapsed": false
   },
   "outputs": [],
   "source": [
    "resampled = tmpdf.resample('H')\n",
    "print(resampled.index)\n",
    "# resampled.loc[resampled.index[0]]\n",
    "# resampled.iloc[0]\n",
    "\n",
    "resampled_mean = tmpdf.resample('H').mean()\n",
    "resampled_mean"
   ]
  },
  {
   "cell_type": "markdown",
   "metadata": {},
   "source": [
    "Applying `.resample()` on top of a grouped object, gives a DatetimeIndexResamplerGroupby object. The key difference is that now there is MuliIndex."
   ]
  },
  {
   "cell_type": "code",
   "execution_count": null,
   "metadata": {
    "collapsed": false
   },
   "outputs": [],
   "source": [
    "resampled = grouped_df.resample('H')\n",
    "print(resampled.index)\n",
    "resampled_mean = grouped_df.resample('H').mean()\n",
    "resampled_mean"
   ]
  },
  {
   "cell_type": "code",
   "execution_count": null,
   "metadata": {
    "collapsed": false
   },
   "outputs": [],
   "source": [
    "ndf = tmpdf.groupby('error type').resample('H').count().unstack('error type')\n",
    "ndf"
   ]
  },
  {
   "cell_type": "markdown",
   "metadata": {},
   "source": [
    "The above case where we used the cycle as nummeric value is not ideal - changing to just error_type"
   ]
  },
  {
   "cell_type": "code",
   "execution_count": null,
   "metadata": {
    "collapsed": false,
    "scrolled": true
   },
   "outputs": [],
   "source": [
    "tmpdf = pd.DataFrame()\n",
    "tmpdf['error type'] = udf['error type']\n",
    "tmpdf"
   ]
  },
  {
   "cell_type": "markdown",
   "metadata": {},
   "source": [
    "Here `.unstack()` \"pivots\" the index based on the error_type values to columns"
   ]
  },
  {
   "cell_type": "code",
   "execution_count": null,
   "metadata": {
    "collapsed": false
   },
   "outputs": [],
   "source": [
    "ndf = tmpdf.groupby('error type').resample('H').count().unstack('error type')\n",
    "ndf"
   ]
  },
  {
   "cell_type": "code",
   "execution_count": null,
   "metadata": {
    "collapsed": false
   },
   "outputs": [],
   "source": [
    "ndf.plot.bar(stacked=True, label='proba');\n",
    "plt.title(\"Colors vs Values\");"
   ]
  },
  {
   "cell_type": "code",
   "execution_count": null,
   "metadata": {
    "collapsed": true
   },
   "outputs": [],
   "source": [
    "def bar_categorical2(udf, feature, freq='H', figsize=(12,8), title=None):\n",
    "    tmpdf = pd.DataFrame()\n",
    "    tmpdf[feature] = udf[feature]\n",
    "    ndf = tmpdf.groupby(feature).resample(freq).count().unstack(feature)\n",
    "    \n",
    "#     f, ax = plt.subplots(figsize=(12,8));\n",
    "#     sns.countplot('error type', data=ndf,)# stacked=True)\n",
    "    ndf.plot.bar(stacked=True);\n",
    "    if title:\n",
    "        plt.title(title);\n",
    "    "
   ]
  },
  {
   "cell_type": "code",
   "execution_count": null,
   "metadata": {
    "collapsed": false
   },
   "outputs": [],
   "source": [
    "udf = vusers['0007'].get_errors()\n",
    "udf.index = pd.to_datetime(udf.time, errors='coerce')\n",
    "bar_categorical2(udf, 'error type', '15T', title='Proba')"
   ]
  },
  {
   "cell_type": "code",
   "execution_count": null,
   "metadata": {
    "collapsed": false
   },
   "outputs": [],
   "source": [
    "bar_categorical(udf, 'step', '15T')"
   ]
  },
  {
   "cell_type": "code",
   "execution_count": null,
   "metadata": {
    "collapsed": false
   },
   "outputs": [],
   "source": [
    "bar_categorical(udf, 'cause message/ddi', '15T')"
   ]
  },
  {
   "cell_type": "code",
   "execution_count": null,
   "metadata": {
    "collapsed": true
   },
   "outputs": [],
   "source": []
  }
 ],
 "metadata": {
  "anaconda-cloud": {},
  "celltoolbar": "Raw Cell Format",
  "kernelspec": {
   "display_name": "Python 3",
   "language": "python",
   "name": "python3"
  },
  "language_info": {
   "codemirror_mode": {
    "name": "ipython",
    "version": 3
   },
   "file_extension": ".py",
   "mimetype": "text/x-python",
   "name": "python",
   "nbconvert_exporter": "python",
   "pygments_lexer": "ipython3",
   "version": "3.6.3"
  }
 },
 "nbformat": 4,
 "nbformat_minor": 0
}
